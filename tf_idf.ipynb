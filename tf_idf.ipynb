{
 "cells": [
  {
   "cell_type": "code",
   "execution_count": 27,
   "id": "7d22f73e",
   "metadata": {},
   "outputs": [],
   "source": [
    "import pymysql.cursors\n",
    "import pandas as pd\n",
    "import numpy as np\n",
    "import connect_to_db as cn\n",
    "import json\n",
    "from itertools import combinations\n",
    "from sklearn.feature_extraction.text import TfidfVectorizer\n",
    "import re\n",
    "import csv\n",
    "import parmap"
   ]
  },
  {
   "cell_type": "code",
   "execution_count": 28,
   "id": "0f44e1f8",
   "metadata": {},
   "outputs": [],
   "source": [
    "def check_body(document):\n",
    "    p = re.compile('[a-zA-Z]')\n",
    "    for text in document[:]:\n",
    "        # 특수문자, 이모지 등으로만 이루어진 text를 거르기 위한 code.\n",
    "        if p.search(text) is None:\n",
    "            document.remove(text)\n",
    "        # 특수문자와 알파벳 하나(ex. :p)로만 이루어진 text를 거르기 위한 code.\n",
    "        elif len(re.sub('[^a-zA-Z]',' ',text).strip()) == 1:\n",
    "            document.remove(text)\n",
    "    \n",
    "    return document"
   ]
  },
  {
   "cell_type": "code",
   "execution_count": 29,
   "id": "7530b4bb",
   "metadata": {},
   "outputs": [],
   "source": [
    "def tf_idf_similarity(sql, column_name):\n",
    "    result_df = cn.select_query_result_to_df(sql)\n",
    "    document = list(np.array(result_df[column_name].tolist()))\n",
    "    document = check_body(document)\n",
    "\n",
    "    # comment/body list가 빈 list인지를 체크해서 빈 list이면 -1 return.\n",
    "    if not document:\n",
    "        return -1\n",
    "    \n",
    "    # check_body() 함수를 거친 후, 이모지로만 이루어진 comment/post title이 지워져서\n",
    "    # 하나의 text만 남았을 경우. 구분을 위해 -2 return.\n",
    "    if len(document) == 1:\n",
    "        return -2\n",
    "\n",
    "    tfidf_vectorizer = TfidfVectorizer(min_df=1)\n",
    "    tfidf_matrix = tfidf_vectorizer.fit_transform(document)\n",
    "\n",
    "    document_distances = (tfidf_matrix * tfidf_matrix.T)\n",
    "    \n",
    "    result_array = document_distances.toarray()\n",
    "    \n",
    "    similarity = 0\n",
    "    count = 0\n",
    "    \n",
    "    for i in range(len(result_array)):\n",
    "        for j in range(len(result_array[i])):\n",
    "            if i < j:\n",
    "                similarity += result_array[i][j]\n",
    "                count += 1\n",
    "    \n",
    "    return (similarity / count)"
   ]
  },
  {
   "cell_type": "code",
   "execution_count": 30,
   "id": "82ae44fe",
   "metadata": {},
   "outputs": [],
   "source": [
    "def similarity_main(index):\n",
    "    # similarity column들은 모두 null 값이라 가정하고 실행.\n",
    "    # sql = f'select author from mentor where comment_cnt > 1 and is_valid = 1;'\n",
    "    sql = f'select author from mentor where comment_cnt > 1;'\n",
    "    result_df = cn.select_query_result_to_df(sql)\n",
    "    authors = np.array(result_df['author'].astype(str).values.tolist())\n",
    "\n",
    "    result_for_csv = []\n",
    "    \n",
    "    if index % 100000 == 0:\n",
    "        start_index = index - 100000\n",
    "    else:\n",
    "        start_index = index - (index % 100000)\n",
    "        \n",
    "    for i in range(start_index, index):\n",
    "        sql1 = f\"select body from comments c, posts p where p.post_key = c.link_key and c.author = '{authors[i]}' and link_key = parent_key and p.is_valid_author=1;\"\n",
    "        comments_similarity = tf_idf_similarity(sql1, 'body')\n",
    "        \n",
    "        sql2 = f\"select distinct p.post_key, p.title from posts p, comments c where p.post_key = c.link_key and c.author = '{authors[i]}' and c.link_key = c.parent_key and p.is_valid_author=1;\";\n",
    "        posts_similarity = tf_idf_similarity(sql2, 'title')        \n",
    "        \n",
    "        result_for_csv.append([authors[i], comments_similarity, posts_similarity])\n",
    "\n",
    "    fields = ['author', 'comments_similarity', 'posts_similarity']\n",
    "    cn.write_csv_for_db_update(f'similarity_final_{index}.csv', fields, result_for_csv)"
   ]
  },
  {
   "cell_type": "code",
   "execution_count": 16,
   "id": "e6f6d8bf",
   "metadata": {},
   "outputs": [],
   "source": [
    "def posts_similarity_main(index):\n",
    "    sql = f'select post_key from about_posts where comment_cnt > 1;'\n",
    "    result_df = cn.select_query_result_to_df(sql)\n",
    "    post_keys = np.array(result_df['post_key'].astype(str).values.tolist())\n",
    "    \n",
    "    result_for_csv = []\n",
    "    \n",
    "    if index % 100000 == 0:\n",
    "        start_index = index - 100000\n",
    "    else:\n",
    "        start_index = index - (index % 100000)\n",
    "        \n",
    "    for i in range(start_index, index):\n",
    "        sql = f\"select body from comments where link_key = '{post_keys[i]}' and link_key = parent_key and is_valid=1 and is_valid_author=1;\"\n",
    "        comments_similarity = tf_idf_similarity(sql, 'body')\n",
    "        \n",
    "        result_for_csv.append([post_keys[i], comments_similarity])\n",
    "    \n",
    "    fields = ['post_key', 'comments_similarity']\n",
    "    cn.write_csv_for_db_update(f\"about_posts_comments_similarity_{index}.csv\", fields, result_for_csv)"
   ]
  },
  {
   "cell_type": "code",
   "execution_count": 31,
   "id": "3f93b96f",
   "metadata": {},
   "outputs": [
    {
     "name": "stderr",
     "output_type": "stream",
     "text": [
      "100%|██████████| 3/3 [14:31<00:00, 290.55s/it]\n"
     ]
    }
   ],
   "source": [
    "# index_list = [100000, 200000, 300000, 349103]\n",
    "# index_list = [100000, 200000, 227032]\n",
    "# index_list = [100000, 200000, 300000, 359737]\n",
    "index_list = [100000, 200000, 224406]\n",
    "\n",
    "if __name__ == '__main__':\n",
    "    # multi processing.\n",
    "    parmap.map(similarity_main, index_list, pm_pbar=True, pm_processes=3)\n",
    "    # parmap.map(posts_similarity_main, index_list, pm_pbar=True, pm_processes=4)"
   ]
  },
  {
   "cell_type": "code",
   "execution_count": 22,
   "id": "edb05f27",
   "metadata": {},
   "outputs": [],
   "source": [
    "def random_similarity_main():\n",
    "    result_for_csv = []\n",
    "    \n",
    "    sql1 = \"select body from comments where author not in ('', 'AutoModerator', 'greatyellowshark', 'aristapop', 'Pi25', 'SeriousSamStone', 'Umbresp', 'CUTIEJUDY', 'Imissmemom', 'aagee', 'noonches', 'Vientodecara', 'Jolojil', 'sciential84', 'gurneyhallack', 'remyschnitzel', 'analemmaro', 'spud_simon_salem', 'one_moody_girl', 'VivaSisyphus', 'apparentlycompetent', 'zooline', 'yellowmix', 'TheYellowRose', 'Svataben', 'SQLwitch', 'circinia', 'sofar1776', 'Takei_Me') or author not like '%bot' order by rand() limit 1000;\"\n",
    "    random_comments_similarity = tf_idf_similarity(sql1, 'body')\n",
    "    \n",
    "    sql2 = \"select p.title from posts p, comments c where p.post_key = c.link_key and (c.author not in ('', 'AutoModerator', 'greatyellowshark', 'aristapop', 'Pi25', 'SeriousSamStone', 'Umbresp', 'CUTIEJUDY', 'Imissmemom', 'aagee', 'noonches', 'Vientodecara', 'Jolojil', 'sciential84', 'gurneyhallack', 'remyschnitzel', 'analemmaro', 'spud_simon_salem', 'one_moody_girl', 'VivaSisyphus', 'apparentlycompetent', 'zooline', 'yellowmix', 'TheYellowRose', 'Svataben', 'SQLwitch', 'circinia', 'sofar1776', 'Takei_Me') or c.author not like '%bot') and p.is_valid=1 order by rand() limit 1000;\"\n",
    "    random_posts_similarity = tf_idf_similarity(sql2, 'title')\n",
    "    \n",
    "    result_for_csv.append([random_comments_similarity, random_posts_similarity])\n",
    "    fields = ['random_comments_similarity', 'random_posts_similarity']\n",
    "    cn.write_csv_for_db_update('random_similarity.csv', fields, result_for_csv)"
   ]
  },
  {
   "cell_type": "code",
   "execution_count": 12,
   "id": "09c9ef13",
   "metadata": {},
   "outputs": [],
   "source": [
    "random_similarity_main()"
   ]
  }
 ],
 "metadata": {
  "kernelspec": {
   "display_name": "Python 3 (ipykernel)",
   "language": "python",
   "name": "python3"
  },
  "language_info": {
   "codemirror_mode": {
    "name": "ipython",
    "version": 3
   },
   "file_extension": ".py",
   "mimetype": "text/x-python",
   "name": "python",
   "nbconvert_exporter": "python",
   "pygments_lexer": "ipython3",
   "version": "3.8.10"
  }
 },
 "nbformat": 4,
 "nbformat_minor": 5
}
