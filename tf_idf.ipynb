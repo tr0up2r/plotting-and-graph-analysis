{
 "cells": [
  {
   "cell_type": "code",
   "execution_count": 136,
   "id": "7d22f73e",
   "metadata": {},
   "outputs": [],
   "source": [
    "import pymysql.cursors\n",
    "import pandas as pd\n",
    "import numpy as np\n",
    "import matplotlib.pyplot as plt\n",
    "import scipy\n",
    "import seaborn as sns\n",
    "import connect_to_db as cn\n",
    "import json\n",
    "from itertools import combinations\n",
    "from sklearn.feature_extraction.text import TfidfVectorizer"
   ]
  },
  {
   "cell_type": "code",
   "execution_count": 137,
   "id": "4a07b88b",
   "metadata": {},
   "outputs": [],
   "source": [
    "def extract_author(query_result):\n",
    "    # dictionary 형태의 query 결과로부터 author만 추출해냄.\n",
    "    tmp = json.dumps(query_result)\n",
    "    tmp = tmp.split(':')\n",
    "    tmp = tmp[1].split('}')\n",
    "    res_author = tmp[0]\n",
    "    \n",
    "    return res_author"
   ]
  },
  {
   "cell_type": "code",
   "execution_count": 138,
   "id": "4bdff251",
   "metadata": {},
   "outputs": [],
   "source": [
    "def extract_bodies(author, table):\n",
    "    # 추출해 낸 author를 이용해 comment body만 끌어옴.\n",
    "    connection = cn.make_connection('connection.csv')\n",
    "    cursor = connection.cursor(pymysql.cursors.DictCursor)\n",
    "    sql = f'select body from {table} where author = {author};'\n",
    "\n",
    "    cursor.execute(sql)\n",
    "    result = cursor.fetchall()\n",
    "    connection.close()\n",
    "\n",
    "    # 추출된 body 목록을 list 형태로 바꾸어서 return.\n",
    "    result_df = pd.DataFrame(result)\n",
    "    result_list = list(np.array(result_df['body'].tolist()))\n",
    "    \n",
    "    return result_list"
   ]
  },
  {
   "cell_type": "code",
   "execution_count": 139,
   "id": "dc5180d4",
   "metadata": {},
   "outputs": [],
   "source": [
    "def tf_idf_similarity(document):\n",
    "    # document로부터 모든 combination 구하기.\n",
    "    result_comb = list(combinations(document, 2))\n",
    "\n",
    "    similarity = 0\n",
    "    length = len(result_comb)\n",
    "    \n",
    "    for res in result_comb:\n",
    "        doclist = list(res)\n",
    "        \n",
    "        # 문장이 아닌, 단어 comment는 제거.\n",
    "        # tf-idf 검사 시 ValueError 발생.\n",
    "        if len(doclist[0].split(' ')) > 1 and len(doclist[1].split(' ')) > 1:\n",
    "            tfidf_vectorizer = TfidfVectorizer(min_df=1)\n",
    "            tfidf_matrix = tfidf_vectorizer.fit_transform(doclist)\n",
    "\n",
    "            document_distances = (tfidf_matrix * tfidf_matrix.T)\n",
    "        \n",
    "            similarity += document_distances.toarray()[0][1]\n",
    "        \n",
    "        else:\n",
    "            length -= 1\n",
    "        \n",
    "    if length != 0:\n",
    "        return similarity / length\n",
    "    \n",
    "    else:\n",
    "        return 0"
   ]
  },
  {
   "cell_type": "code",
   "execution_count": 143,
   "id": "1091e9e6",
   "metadata": {},
   "outputs": [],
   "source": [
    "def update_similarity_column(author, similarity, column_name, connection, cursor):\n",
    "    sql = f'update mentor set {column_name}={similarity} where author={author};'\n",
    "    \n",
    "    cursor.execute(sql)\n",
    "    connection.commit()"
   ]
  },
  {
   "cell_type": "code",
   "execution_count": 145,
   "id": "82ae44fe",
   "metadata": {},
   "outputs": [
    {
     "name": "stdout",
     "output_type": "stream",
     "text": [
      "1 2 3 4 5 6 7 8 9 10 11 12 13 14 15 16 17 18 19 20 21 22 23 24 25 26 27 28 29 30 31 32 33 34 35 36 37 38 39 40 41 42 43 44 45 46 47 48 49 50 51 52 53 54 55 56 57 58 59 60 61 62 63 64 65 66 67 68 69 70 71 72 73 74 75 76 77 78 79 80 81 82 83 84 85 86 87 88 89 90 91 92 93 94 95 96 97 98 99 100 101 102 103 104 105 106 107 108 109 110 111 112 113 114 115 116 117 118 119 120 121 122 123 124 125 126 127 128 129 130 131 132 133 134 135 136 137 138 139 140 141 142 143 144 145 146 147 148 149 150 151 152 153 "
     ]
    },
    {
     "ename": "KeyboardInterrupt",
     "evalue": "",
     "output_type": "error",
     "traceback": [
      "\u001b[0;31m---------------------------------------------------------------------------\u001b[0m",
      "\u001b[0;31mKeyboardInterrupt\u001b[0m                         Traceback (most recent call last)",
      "\u001b[0;32m/tmp/ipykernel_58210/737165685.py\u001b[0m in \u001b[0;36m<module>\u001b[0;34m\u001b[0m\n\u001b[1;32m     19\u001b[0m \u001b[0;32mfor\u001b[0m \u001b[0mres\u001b[0m \u001b[0;32min\u001b[0m \u001b[0mresult\u001b[0m\u001b[0;34m:\u001b[0m\u001b[0;34m\u001b[0m\u001b[0;34m\u001b[0m\u001b[0m\n\u001b[1;32m     20\u001b[0m     \u001b[0mauthor\u001b[0m \u001b[0;34m=\u001b[0m \u001b[0mextract_author\u001b[0m\u001b[0;34m(\u001b[0m\u001b[0mres\u001b[0m\u001b[0;34m)\u001b[0m\u001b[0;34m\u001b[0m\u001b[0;34m\u001b[0m\u001b[0m\n\u001b[0;32m---> 21\u001b[0;31m     \u001b[0mbodies\u001b[0m \u001b[0;34m=\u001b[0m \u001b[0mextract_bodies\u001b[0m\u001b[0;34m(\u001b[0m\u001b[0mauthor\u001b[0m\u001b[0;34m,\u001b[0m \u001b[0;34m'comments'\u001b[0m\u001b[0;34m)\u001b[0m\u001b[0;34m\u001b[0m\u001b[0;34m\u001b[0m\u001b[0m\n\u001b[0m\u001b[1;32m     22\u001b[0m     \u001b[0msimilarity\u001b[0m \u001b[0;34m=\u001b[0m \u001b[0mtf_idf_similarity\u001b[0m\u001b[0;34m(\u001b[0m\u001b[0mbodies\u001b[0m\u001b[0;34m)\u001b[0m\u001b[0;34m\u001b[0m\u001b[0;34m\u001b[0m\u001b[0m\n\u001b[1;32m     23\u001b[0m \u001b[0;34m\u001b[0m\u001b[0m\n",
      "\u001b[0;32m/tmp/ipykernel_58210/2955207475.py\u001b[0m in \u001b[0;36mextract_bodies\u001b[0;34m(author, table)\u001b[0m\n\u001b[1;32m      1\u001b[0m \u001b[0;32mdef\u001b[0m \u001b[0mextract_bodies\u001b[0m\u001b[0;34m(\u001b[0m\u001b[0mauthor\u001b[0m\u001b[0;34m,\u001b[0m \u001b[0mtable\u001b[0m\u001b[0;34m)\u001b[0m\u001b[0;34m:\u001b[0m\u001b[0;34m\u001b[0m\u001b[0;34m\u001b[0m\u001b[0m\n\u001b[1;32m      2\u001b[0m     \u001b[0;31m# 추출해 낸 author를 이용해 comment body만 끌어옴.\u001b[0m\u001b[0;34m\u001b[0m\u001b[0;34m\u001b[0m\u001b[0;34m\u001b[0m\u001b[0m\n\u001b[0;32m----> 3\u001b[0;31m     \u001b[0mconnection\u001b[0m \u001b[0;34m=\u001b[0m \u001b[0mcn\u001b[0m\u001b[0;34m.\u001b[0m\u001b[0mmake_connection\u001b[0m\u001b[0;34m(\u001b[0m\u001b[0;34m'connection.csv'\u001b[0m\u001b[0;34m)\u001b[0m\u001b[0;34m\u001b[0m\u001b[0;34m\u001b[0m\u001b[0m\n\u001b[0m\u001b[1;32m      4\u001b[0m     \u001b[0mcursor\u001b[0m \u001b[0;34m=\u001b[0m \u001b[0mconnection\u001b[0m\u001b[0;34m.\u001b[0m\u001b[0mcursor\u001b[0m\u001b[0;34m(\u001b[0m\u001b[0mpymysql\u001b[0m\u001b[0;34m.\u001b[0m\u001b[0mcursors\u001b[0m\u001b[0;34m.\u001b[0m\u001b[0mDictCursor\u001b[0m\u001b[0;34m)\u001b[0m\u001b[0;34m\u001b[0m\u001b[0;34m\u001b[0m\u001b[0m\n\u001b[1;32m      5\u001b[0m     \u001b[0msql\u001b[0m \u001b[0;34m=\u001b[0m \u001b[0;34mf'select body from {table} where author = {author};'\u001b[0m\u001b[0;34m\u001b[0m\u001b[0;34m\u001b[0m\u001b[0m\n",
      "\u001b[0;31mKeyboardInterrupt\u001b[0m: "
     ]
    }
   ],
   "source": [
    "connection = cn.make_connection('connection.csv')\n",
    "\n",
    "cursor = connection.cursor(pymysql.cursors.DictCursor)\n",
    "\n",
    "sql = 'select author from mentor where comment_cnt > 1 and comment_cnt < 10 and is_valid = 1 and comment_similarity is null;'\n",
    "cursor.execute(sql)\n",
    "\n",
    "# result가 dict 형태로 return.\n",
    "result = cursor.fetchall()\n",
    "connection.close()\n",
    "\n",
    "author_similarity_list = []\n",
    "\n",
    "count = 0\n",
    "\n",
    "connection = cn.make_connection('connection.csv')\n",
    "cursor = connection.cursor(pymysql.cursors.DictCursor)\n",
    "\n",
    "for res in result:\n",
    "    author = extract_author(res)\n",
    "    bodies = extract_bodies(author, 'comments')\n",
    "    similarity = tf_idf_similarity(bodies)\n",
    "    \n",
    "    update_similarity_column(author, similarity, 'comment_similarity', connection, cursor)\n",
    "    \n",
    "    count += 1\n",
    "    print(count, end=' ')\n",
    "\n",
    "connection.close()"
   ]
  }
 ],
 "metadata": {
  "kernelspec": {
   "display_name": "Python 3 (ipykernel)",
   "language": "python",
   "name": "python3"
  },
  "language_info": {
   "codemirror_mode": {
    "name": "ipython",
    "version": 3
   },
   "file_extension": ".py",
   "mimetype": "text/x-python",
   "name": "python",
   "nbconvert_exporter": "python",
   "pygments_lexer": "ipython3",
   "version": "3.8.10"
  }
 },
 "nbformat": 4,
 "nbformat_minor": 5
}
