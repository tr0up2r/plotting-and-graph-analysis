{
 "cells": [
  {
   "cell_type": "code",
   "execution_count": 146,
   "id": "7d22f73e",
   "metadata": {},
   "outputs": [],
   "source": [
    "import pymysql.cursors\n",
    "import pandas as pd\n",
    "import numpy as np\n",
    "import connect_to_db as cn\n",
    "import json\n",
    "from itertools import combinations\n",
    "from sklearn.feature_extraction.text import TfidfVectorizer"
   ]
  },
  {
   "cell_type": "code",
   "execution_count": 147,
   "id": "4a07b88b",
   "metadata": {},
   "outputs": [],
   "source": [
    "def extract_author(query_result):\n",
    "    # dictionary 형태의 query 결과로부터 author만 추출해냄.\n",
    "    tmp = json.dumps(query_result)\n",
    "    tmp = tmp.split(':')\n",
    "    tmp = tmp[1].split('}')\n",
    "    res_author = tmp[0]\n",
    "    \n",
    "    return res_author"
   ]
  },
  {
   "cell_type": "code",
   "execution_count": 148,
   "id": "4bdff251",
   "metadata": {},
   "outputs": [],
   "source": [
    "def extract_bodies(author, table):\n",
    "    # 추출해 낸 author를 이용해 comment body만 끌어옴.\n",
    "    connection = cn.make_connection('connection.csv')\n",
    "    cursor = connection.cursor(pymysql.cursors.DictCursor)\n",
    "    sql = f'select body from {table} where author = {author};'\n",
    "\n",
    "    cursor.execute(sql)\n",
    "    result = cursor.fetchall()\n",
    "    connection.close()\n",
    "\n",
    "    # 추출된 body 목록을 list 형태로 바꾸어서 return.\n",
    "    result_df = pd.DataFrame(result)\n",
    "    result_list = list(np.array(result_df['body'].tolist()))\n",
    "    \n",
    "    return result_list"
   ]
  },
  {
   "cell_type": "code",
   "execution_count": 185,
   "id": "dc5180d4",
   "metadata": {},
   "outputs": [],
   "source": [
    "def tf_idf_similarity(document):\n",
    "    # document로부터 모든 combination 구하기.\n",
    "    result_comb = list(combinations(document, 2))\n",
    "\n",
    "    similarity = 0\n",
    "    length = len(result_comb)\n",
    "    \n",
    "    for res in result_comb:\n",
    "        doclist = list(res)\n",
    "        \n",
    "        # 문장이 아닌, 단어 comment는 제거.\n",
    "        # tf-idf 검사 시 ValueError 발생.\n",
    "        if len(doclist[0].split(' ')) > 1 and len(doclist[1].split(' ')) > 1:\n",
    "            tfidf_vectorizer = TfidfVectorizer(min_df=1)\n",
    "            tfidf_matrix = tfidf_vectorizer.fit_transform(doclist)\n",
    "\n",
    "            document_distances = (tfidf_matrix * tfidf_matrix.T)\n",
    "        \n",
    "            similarity += document_distances.toarray()[0][1]\n",
    "            print(similarity)\n",
    "        \n",
    "        else:\n",
    "            length -= 1\n",
    "        \n",
    "    if length != 0:\n",
    "        return similarity / length\n",
    "    \n",
    "    else:\n",
    "        return 0"
   ]
  },
  {
   "cell_type": "code",
   "execution_count": 228,
   "id": "7530b4bb",
   "metadata": {},
   "outputs": [],
   "source": [
    "def tf_idf_similarity2(document):\n",
    "    '''\n",
    "    if len(document) == 2 and document[0] == document[1]:\n",
    "        for comments in document:\n",
    "            if len(comments.split(' ')) == 1:\n",
    "                if not comments.isalpha():\n",
    "                    return -1\n",
    "    '''\n",
    "    \n",
    "    for i in range(len(document)):\n",
    "        if len(document[i]) > 1:\n",
    "            break\n",
    "        if i == len(document) - 1:\n",
    "            return -1\n",
    "    tfidf_vectorizer = TfidfVectorizer(min_df=1)\n",
    "    tfidf_matrix = tfidf_vectorizer.fit_transform(document)\n",
    "\n",
    "    document_distances = (tfidf_matrix * tfidf_matrix.T)\n",
    "    \n",
    "    result_array = document_distances.toarray()\n",
    "    \n",
    "    similarity = 0\n",
    "    count = 0\n",
    "    \n",
    "    for i in range(len(result_array)):\n",
    "        for j in range(len(result_array[i])):\n",
    "            if i < j:\n",
    "                similarity += result_array[i][j]\n",
    "                count += 1\n",
    "    \n",
    "    return (similarity / count)"
   ]
  },
  {
   "cell_type": "code",
   "execution_count": 161,
   "id": "1091e9e6",
   "metadata": {},
   "outputs": [],
   "source": [
    "def update_similarity_column(author, similarity, column_name, connection, cursor):\n",
    "    sql = f'update mentor_new set {column_name}={similarity} where author={author};'\n",
    "    \n",
    "    cursor.execute(sql)\n",
    "    connection.commit()"
   ]
  },
  {
   "cell_type": "code",
   "execution_count": 230,
   "id": "82ae44fe",
   "metadata": {},
   "outputs": [
    {
     "ename": "ValueError",
     "evalue": "empty vocabulary; perhaps the documents only contain stop words",
     "output_type": "error",
     "traceback": [
      "\u001b[0;31m---------------------------------------------------------------------------\u001b[0m",
      "\u001b[0;31mValueError\u001b[0m                                Traceback (most recent call last)",
      "\u001b[0;32m/tmp/ipykernel_58210/2641329451.py\u001b[0m in \u001b[0;36m<module>\u001b[0;34m\u001b[0m\n\u001b[1;32m     18\u001b[0m     \u001b[0mauthor\u001b[0m \u001b[0;34m=\u001b[0m \u001b[0mextract_author\u001b[0m\u001b[0;34m(\u001b[0m\u001b[0mres\u001b[0m\u001b[0;34m)\u001b[0m\u001b[0;34m\u001b[0m\u001b[0;34m\u001b[0m\u001b[0m\n\u001b[1;32m     19\u001b[0m     \u001b[0mbodies\u001b[0m \u001b[0;34m=\u001b[0m \u001b[0mextract_bodies\u001b[0m\u001b[0;34m(\u001b[0m\u001b[0mauthor\u001b[0m\u001b[0;34m,\u001b[0m \u001b[0;34m'comments'\u001b[0m\u001b[0;34m)\u001b[0m\u001b[0;34m\u001b[0m\u001b[0;34m\u001b[0m\u001b[0m\n\u001b[0;32m---> 20\u001b[0;31m     \u001b[0msimilarity\u001b[0m \u001b[0;34m=\u001b[0m \u001b[0mtf_idf_similarity2\u001b[0m\u001b[0;34m(\u001b[0m\u001b[0mbodies\u001b[0m\u001b[0;34m)\u001b[0m\u001b[0;34m\u001b[0m\u001b[0;34m\u001b[0m\u001b[0m\n\u001b[0m\u001b[1;32m     21\u001b[0m \u001b[0;34m\u001b[0m\u001b[0m\n\u001b[1;32m     22\u001b[0m     \u001b[0mupdate_similarity_column\u001b[0m\u001b[0;34m(\u001b[0m\u001b[0mauthor\u001b[0m\u001b[0;34m,\u001b[0m \u001b[0msimilarity\u001b[0m\u001b[0;34m,\u001b[0m \u001b[0;34m'comment_similarity'\u001b[0m\u001b[0;34m,\u001b[0m \u001b[0mconnection\u001b[0m\u001b[0;34m,\u001b[0m \u001b[0mcursor\u001b[0m\u001b[0;34m)\u001b[0m\u001b[0;34m\u001b[0m\u001b[0;34m\u001b[0m\u001b[0m\n",
      "\u001b[0;32m/tmp/ipykernel_58210/1396556814.py\u001b[0m in \u001b[0;36mtf_idf_similarity2\u001b[0;34m(document)\u001b[0m\n\u001b[1;32m     14\u001b[0m             \u001b[0;32mreturn\u001b[0m \u001b[0;34m-\u001b[0m\u001b[0;36m1\u001b[0m\u001b[0;34m\u001b[0m\u001b[0;34m\u001b[0m\u001b[0m\n\u001b[1;32m     15\u001b[0m     \u001b[0mtfidf_vectorizer\u001b[0m \u001b[0;34m=\u001b[0m \u001b[0mTfidfVectorizer\u001b[0m\u001b[0;34m(\u001b[0m\u001b[0mmin_df\u001b[0m\u001b[0;34m=\u001b[0m\u001b[0;36m1\u001b[0m\u001b[0;34m)\u001b[0m\u001b[0;34m\u001b[0m\u001b[0;34m\u001b[0m\u001b[0m\n\u001b[0;32m---> 16\u001b[0;31m     \u001b[0mtfidf_matrix\u001b[0m \u001b[0;34m=\u001b[0m \u001b[0mtfidf_vectorizer\u001b[0m\u001b[0;34m.\u001b[0m\u001b[0mfit_transform\u001b[0m\u001b[0;34m(\u001b[0m\u001b[0mdocument\u001b[0m\u001b[0;34m)\u001b[0m\u001b[0;34m\u001b[0m\u001b[0;34m\u001b[0m\u001b[0m\n\u001b[0m\u001b[1;32m     17\u001b[0m \u001b[0;34m\u001b[0m\u001b[0m\n\u001b[1;32m     18\u001b[0m     \u001b[0mdocument_distances\u001b[0m \u001b[0;34m=\u001b[0m \u001b[0;34m(\u001b[0m\u001b[0mtfidf_matrix\u001b[0m \u001b[0;34m*\u001b[0m \u001b[0mtfidf_matrix\u001b[0m\u001b[0;34m.\u001b[0m\u001b[0mT\u001b[0m\u001b[0;34m)\u001b[0m\u001b[0;34m\u001b[0m\u001b[0;34m\u001b[0m\u001b[0m\n",
      "\u001b[0;32m~/.local/lib/python3.8/site-packages/sklearn/feature_extraction/text.py\u001b[0m in \u001b[0;36mfit_transform\u001b[0;34m(self, raw_documents, y)\u001b[0m\n\u001b[1;32m   1844\u001b[0m         \"\"\"\n\u001b[1;32m   1845\u001b[0m         \u001b[0mself\u001b[0m\u001b[0;34m.\u001b[0m\u001b[0m_check_params\u001b[0m\u001b[0;34m(\u001b[0m\u001b[0;34m)\u001b[0m\u001b[0;34m\u001b[0m\u001b[0;34m\u001b[0m\u001b[0m\n\u001b[0;32m-> 1846\u001b[0;31m         \u001b[0mX\u001b[0m \u001b[0;34m=\u001b[0m \u001b[0msuper\u001b[0m\u001b[0;34m(\u001b[0m\u001b[0;34m)\u001b[0m\u001b[0;34m.\u001b[0m\u001b[0mfit_transform\u001b[0m\u001b[0;34m(\u001b[0m\u001b[0mraw_documents\u001b[0m\u001b[0;34m)\u001b[0m\u001b[0;34m\u001b[0m\u001b[0;34m\u001b[0m\u001b[0m\n\u001b[0m\u001b[1;32m   1847\u001b[0m         \u001b[0mself\u001b[0m\u001b[0;34m.\u001b[0m\u001b[0m_tfidf\u001b[0m\u001b[0;34m.\u001b[0m\u001b[0mfit\u001b[0m\u001b[0;34m(\u001b[0m\u001b[0mX\u001b[0m\u001b[0;34m)\u001b[0m\u001b[0;34m\u001b[0m\u001b[0;34m\u001b[0m\u001b[0m\n\u001b[1;32m   1848\u001b[0m         \u001b[0;31m# X is already a transformed view of raw_documents so\u001b[0m\u001b[0;34m\u001b[0m\u001b[0;34m\u001b[0m\u001b[0;34m\u001b[0m\u001b[0m\n",
      "\u001b[0;32m~/.local/lib/python3.8/site-packages/sklearn/feature_extraction/text.py\u001b[0m in \u001b[0;36mfit_transform\u001b[0;34m(self, raw_documents, y)\u001b[0m\n\u001b[1;32m   1200\u001b[0m         \u001b[0mmax_features\u001b[0m \u001b[0;34m=\u001b[0m \u001b[0mself\u001b[0m\u001b[0;34m.\u001b[0m\u001b[0mmax_features\u001b[0m\u001b[0;34m\u001b[0m\u001b[0;34m\u001b[0m\u001b[0m\n\u001b[1;32m   1201\u001b[0m \u001b[0;34m\u001b[0m\u001b[0m\n\u001b[0;32m-> 1202\u001b[0;31m         vocabulary, X = self._count_vocab(raw_documents,\n\u001b[0m\u001b[1;32m   1203\u001b[0m                                           self.fixed_vocabulary_)\n\u001b[1;32m   1204\u001b[0m \u001b[0;34m\u001b[0m\u001b[0m\n",
      "\u001b[0;32m~/.local/lib/python3.8/site-packages/sklearn/feature_extraction/text.py\u001b[0m in \u001b[0;36m_count_vocab\u001b[0;34m(self, raw_documents, fixed_vocab)\u001b[0m\n\u001b[1;32m   1131\u001b[0m             \u001b[0mvocabulary\u001b[0m \u001b[0;34m=\u001b[0m \u001b[0mdict\u001b[0m\u001b[0;34m(\u001b[0m\u001b[0mvocabulary\u001b[0m\u001b[0;34m)\u001b[0m\u001b[0;34m\u001b[0m\u001b[0;34m\u001b[0m\u001b[0m\n\u001b[1;32m   1132\u001b[0m             \u001b[0;32mif\u001b[0m \u001b[0;32mnot\u001b[0m \u001b[0mvocabulary\u001b[0m\u001b[0;34m:\u001b[0m\u001b[0;34m\u001b[0m\u001b[0;34m\u001b[0m\u001b[0m\n\u001b[0;32m-> 1133\u001b[0;31m                 raise ValueError(\"empty vocabulary; perhaps the documents only\"\n\u001b[0m\u001b[1;32m   1134\u001b[0m                                  \" contain stop words\")\n\u001b[1;32m   1135\u001b[0m \u001b[0;34m\u001b[0m\u001b[0m\n",
      "\u001b[0;31mValueError\u001b[0m: empty vocabulary; perhaps the documents only contain stop words"
     ]
    }
   ],
   "source": [
    "connection = cn.make_connection('connection.csv')\n",
    "\n",
    "cursor = connection.cursor(pymysql.cursors.DictCursor)\n",
    "\n",
    "sql = 'select author from mentor_new where comment_cnt > 1 and is_valid = 1 and comment_similarity is null;'\n",
    "cursor.execute(sql)\n",
    "\n",
    "# result가 dict 형태로 return.\n",
    "result = cursor.fetchall()\n",
    "connection.close()\n",
    "\n",
    "author_similarity_list = []\n",
    "\n",
    "connection = cn.make_connection('connection.csv')\n",
    "cursor = connection.cursor(pymysql.cursors.DictCursor)\n",
    "\n",
    "for res in result:\n",
    "    author = extract_author(res)\n",
    "    bodies = extract_bodies(author, 'comments')\n",
    "    similarity = tf_idf_similarity2(bodies)\n",
    "    \n",
    "    update_similarity_column(author, similarity, 'comment_similarity', connection, cursor)\n",
    "\n",
    "connection.close()"
   ]
  }
 ],
 "metadata": {
  "kernelspec": {
   "display_name": "Python 3 (ipykernel)",
   "language": "python",
   "name": "python3"
  },
  "language_info": {
   "codemirror_mode": {
    "name": "ipython",
    "version": 3
   },
   "file_extension": ".py",
   "mimetype": "text/x-python",
   "name": "python",
   "nbconvert_exporter": "python",
   "pygments_lexer": "ipython3",
   "version": "3.8.10"
  }
 },
 "nbformat": 4,
 "nbformat_minor": 5
}
