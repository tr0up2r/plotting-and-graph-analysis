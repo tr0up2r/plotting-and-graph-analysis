{
 "cells": [
  {
   "cell_type": "code",
   "execution_count": 454,
   "id": "7d22f73e",
   "metadata": {},
   "outputs": [],
   "source": [
    "import pymysql.cursors\n",
    "import pandas as pd\n",
    "import numpy as np\n",
    "import connect_to_db as cn\n",
    "import json\n",
    "from itertools import combinations\n",
    "from sklearn.feature_extraction.text import TfidfVectorizer\n",
    "import re\n",
    "import csv\n",
    "import parmap"
   ]
  },
  {
   "cell_type": "code",
   "execution_count": 455,
   "id": "84db33ee",
   "metadata": {},
   "outputs": [],
   "source": [
    "# select query를 날려서 가져온 result를 DataFrame으로 반환하는 function.\n",
    "def select_query_result_to_df(sql):\n",
    "    connection = cn.make_connection('connection.csv')\n",
    "    cursor = connection.cursor(pymysql.cursors.DictCursor)\n",
    "    cursor.execute(sql)\n",
    "    result = cursor.fetchall()\n",
    "    connection.close()\n",
    "    \n",
    "    result_df = pd.DataFrame(result)\n",
    "    \n",
    "    return result_df"
   ]
  },
  {
   "cell_type": "code",
   "execution_count": 456,
   "id": "0f44e1f8",
   "metadata": {},
   "outputs": [],
   "source": [
    "def check_body(document):\n",
    "    p = re.compile('[a-zA-Z]')\n",
    "    for text in document[:]:\n",
    "        # 특수문자, 이모지 등으로만 이루어진 text를 거르기 위한 code.\n",
    "        if p.search(text) is None:\n",
    "            document.remove(text)\n",
    "        # 특수문자와 알파벳 하나(ex. :p)로만 이루어진 text를 거르기 위한 code.\n",
    "        elif len(re.sub('[^a-zA-Z]',' ',text).strip()) == 1:\n",
    "            document.remove(text)\n",
    "    \n",
    "    return document"
   ]
  },
  {
   "cell_type": "code",
   "execution_count": 467,
   "id": "7530b4bb",
   "metadata": {},
   "outputs": [],
   "source": [
    "def tf_idf_similarity(sql, column_name):\n",
    "    result_df = select_query_result_to_df(sql)\n",
    "    document = list(np.array(result_df[column_name].tolist()))\n",
    "    document = check_body(document)\n",
    "\n",
    "    # comment/body list가 빈 list인지를 체크해서 빈 list이면 -1 return.\n",
    "    if not document:\n",
    "        return -1\n",
    "    \n",
    "    # check_body() 함수를 거친 후, 이모지로만 이루어진 comment/post title이 지워져서\n",
    "    # 하나의 text만 남았을 경우. 구분을 위해 -2 return.\n",
    "    if len(document) == 1:\n",
    "        return -2\n",
    "\n",
    "    tfidf_vectorizer = TfidfVectorizer(min_df=1)\n",
    "    tfidf_matrix = tfidf_vectorizer.fit_transform(document)\n",
    "\n",
    "    document_distances = (tfidf_matrix * tfidf_matrix.T)\n",
    "    \n",
    "    result_array = document_distances.toarray()\n",
    "    \n",
    "    similarity = 0\n",
    "    count = 0\n",
    "    \n",
    "    for i in range(len(result_array)):\n",
    "        for j in range(len(result_array[i])):\n",
    "            if i < j:\n",
    "                similarity += result_array[i][j]\n",
    "                count += 1\n",
    "    \n",
    "    return (similarity / count)"
   ]
  },
  {
   "cell_type": "code",
   "execution_count": 472,
   "id": "ad0b3681",
   "metadata": {},
   "outputs": [],
   "source": [
    "def write_similarity_csv(filename, fields, result_list):\n",
    "    with open(filename, 'w', newline='') as f:\n",
    "        write = csv.writer(f)\n",
    "        write.writerow(fields)\n",
    "        write.writerows(result_list)"
   ]
  },
  {
   "cell_type": "code",
   "execution_count": 469,
   "id": "82ae44fe",
   "metadata": {},
   "outputs": [],
   "source": [
    "def similarity_main(index):\n",
    "    # similarity column들은 모두 null 값이라 가정하고 실행.\n",
    "    sql = f'select author from mentor where comment_cnt > 1 and is_valid = 1;'\n",
    "    result_df = select_query_result_to_df(sql)\n",
    "    authors = np.array(result_df['author'].astype(str).values.tolist())\n",
    "\n",
    "    result_for_csv = []\n",
    "    \n",
    "    if index % 100000 == 0:\n",
    "        start_index = index - 100000\n",
    "    else:\n",
    "        start_index = index - (index % 100000)\n",
    "        \n",
    "    for i in range(start_index, index):\n",
    "        sql1 = f\"select body from comments where author = '{authors[i]}' and link_key = parent_key;\"\n",
    "        comments_similarity = tf_idf_similarity(sql1, 'body')\n",
    "        \n",
    "        sql2 = f\"select distinct p.post_key, p.title from posts p, comments c where p.post_key = c.link_key and c.author = '{authors[i]}' and c.link_key = c.parent_key;\";\n",
    "        posts_similarity = tf_idf_similarity(sql2, 'title')        \n",
    "        \n",
    "        result_for_csv.append([authors[i], comments_similarity, posts_similarity])\n",
    "\n",
    "    fields = ['author', 'comments_similarity', 'posts_similarity']\n",
    "    write_similarity_csv(f'similarity_{index}.csv', fields, result_for_csv)"
   ]
  },
  {
   "cell_type": "code",
   "execution_count": 475,
   "id": "3f93b96f",
   "metadata": {},
   "outputs": [
    {
     "name": "stderr",
     "output_type": "stream",
     "text": [
      "100%|██████████| 3/3 [11:57<00:00, 239.11s/it]\n"
     ]
    }
   ],
   "source": [
    "# index_list = [100000, 200000, 300000, 349103]\n",
    "index_list = [100000, 200000, 227032]\n",
    "\n",
    "if __name__ == '__main__':\n",
    "    # multi processing.\n",
    "    parmap.map(similarity_main, index_list, pm_pbar=True, pm_processes=3)"
   ]
  },
  {
   "cell_type": "code",
   "execution_count": null,
   "id": "57bbdfab",
   "metadata": {},
   "outputs": [],
   "source": []
  }
 ],
 "metadata": {
  "kernelspec": {
   "display_name": "Python 3 (ipykernel)",
   "language": "python",
   "name": "python3"
  },
  "language_info": {
   "codemirror_mode": {
    "name": "ipython",
    "version": 3
   },
   "file_extension": ".py",
   "mimetype": "text/x-python",
   "name": "python",
   "nbconvert_exporter": "python",
   "pygments_lexer": "ipython3",
   "version": "3.8.10"
  }
 },
 "nbformat": 4,
 "nbformat_minor": 5
}
