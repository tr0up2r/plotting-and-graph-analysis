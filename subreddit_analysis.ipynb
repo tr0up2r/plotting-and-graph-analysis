{
 "cells": [
  {
   "cell_type": "code",
   "execution_count": 94,
   "id": "d1aaf2dd",
   "metadata": {},
   "outputs": [],
   "source": [
    "import pymysql.cursors\n",
    "import pandas as pd\n",
    "import numpy as np\n",
    "import connect_to_db as cn\n",
    "from scipy.stats import entropy\n",
    "import math\n",
    "import csv\n",
    "import parmap\n",
    "import random"
   ]
  },
  {
   "cell_type": "code",
   "execution_count": 49,
   "id": "5842b250",
   "metadata": {},
   "outputs": [
    {
     "data": {
      "text/plain": [
       "21370"
      ]
     },
     "execution_count": 49,
     "metadata": {},
     "output_type": "execute_result"
    }
   ],
   "source": [
    "sql = \"select distinct community_id_fastgreedy_is community_id from nodes order by community_id;\"\n",
    "communities_df = cn.select_query_result_to_df(sql)\n",
    "communities = list(np.array(communities_df['community_id'].tolist()))\n",
    "len(communities)"
   ]
  },
  {
   "cell_type": "code",
   "execution_count": 93,
   "id": "95bc1e64",
   "metadata": {},
   "outputs": [],
   "source": [
    "# multi processing 시, 병목 현상을 최소화하기 위해 community_id를 shuffle.\n",
    "random.sample(communities, len(communities))\n",
    "communities = sorted(communities, key=lambda k: random.random())"
   ]
  },
  {
   "cell_type": "code",
   "execution_count": 34,
   "id": "ee4cc064",
   "metadata": {},
   "outputs": [],
   "source": [
    "def combination(n, r):\n",
    "    f = math.factorial\n",
    "    return f(n) // f(r) // f(n-r)"
   ]
  },
  {
   "cell_type": "code",
   "execution_count": 90,
   "id": "1da08e81",
   "metadata": {},
   "outputs": [],
   "source": [
    "def subreddit_per_community_main(index):\n",
    "    if index % 2000 == 0:\n",
    "        start_index = index - 2000\n",
    "    else:\n",
    "        start_index = index - (index % 2000)\n",
    "    \n",
    "    result_for_csv = []\n",
    "    \n",
    "    for i in range(start_index, index):\n",
    "        sql = f\"select subreddit_key, cast(sum(cnt) as signed) sum from (select subreddit_key, count(subreddit_key) as cnt from comments c inner join nodes n on c.author = n.node_id where n.community_id_fastgreedy_is = {communities[i]} and c.link_key = c.parent_key and c.is_valid = 1 group by subreddit_key union all select subreddit_key, count(subreddit_key) cnt from posts p inner join nodes n on p.author = n.node_id where n.community_id_fastgreedy_is = {communities[i]} and p.is_valid=1 group by subreddit_key) a group by subreddit_key;\"\n",
    "        subreddit_df = cn.select_query_result_to_df(sql)\n",
    "        subreddit = list(np.array(subreddit_df['subreddit_key'].tolist()))\n",
    "        subreddit_count = list(np.array(subreddit_df['sum'].tolist()))\n",
    "\n",
    "        # The number of subreddit by community\n",
    "        subreddits = len(subreddit)\n",
    "\n",
    "        # The number of comments and posts by subreddit by community\n",
    "        # 하나의 subreddit에만 comments, posts가 작성되었으면 entropy는 0으로 set.\n",
    "        if subreddits == 1:\n",
    "            subreddit_entropy = 0\n",
    "        else:\n",
    "            subreddit_entropy = entropy(subreddit_count, base=subreddits)\n",
    "\n",
    "        # idk value name...\n",
    "        combination_sum = 0\n",
    "        for count in subreddit_count:\n",
    "            if count > 1:\n",
    "                combination_sum += combination(count, 2)\n",
    "        value = combination_sum / combination(sum(subreddit_count), 2)\n",
    "        \n",
    "        result_for_csv.append([communities[i], subreddits, subreddit_entropy, value])\n",
    "        \n",
    "    fields = ['community_id', 'subreddits', 'subreddit_entropy', 'value']\n",
    "    cn.write_csv_for_db_update(f\"/home/mykim/source/plotting-and-graph-analysis/subreddit/subreddit_analysis_{index}.csv\", fields, result_for_csv)"
   ]
  },
  {
   "cell_type": "code",
   "execution_count": 89,
   "id": "8aa75638",
   "metadata": {},
   "outputs": [
    {
     "name": "stderr",
     "output_type": "stream",
     "text": [
      "\r",
      "  0%|          | 0/1 [00:00<?, ?it/s]"
     ]
    },
    {
     "name": "stdout",
     "output_type": "stream",
     "text": [
      "[[509, 1, 0, 1.0]]\n"
     ]
    },
    {
     "name": "stderr",
     "output_type": "stream",
     "text": [
      "100%|██████████| 1/1 [00:12<00:00, 12.02s/it]\n"
     ]
    }
   ],
   "source": [
    "# index_list = [2000, 4000, 6000, 8000, 10000, 12000, 14000, 16000, 18000, 20000, 21370]\n",
    "index_list = [1]\n",
    "\n",
    "if __name__ == '__main__':\n",
    "    # multi processing\n",
    "    parmap.map(subreddit_per_community_main, index_list, pm_pbar=True, pm_processes=1)"
   ]
  },
  {
   "cell_type": "code",
   "execution_count": null,
   "id": "71e8a589",
   "metadata": {},
   "outputs": [],
   "source": []
  }
 ],
 "metadata": {
  "kernelspec": {
   "display_name": "Python 3 (ipykernel)",
   "language": "python",
   "name": "python3"
  },
  "language_info": {
   "codemirror_mode": {
    "name": "ipython",
    "version": 3
   },
   "file_extension": ".py",
   "mimetype": "text/x-python",
   "name": "python",
   "nbconvert_exporter": "python",
   "pygments_lexer": "ipython3",
   "version": "3.8.10"
  }
 },
 "nbformat": 4,
 "nbformat_minor": 5
}
