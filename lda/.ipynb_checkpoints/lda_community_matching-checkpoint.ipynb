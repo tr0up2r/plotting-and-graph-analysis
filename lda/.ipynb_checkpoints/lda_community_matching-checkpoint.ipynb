{
 "cells": [
  {
   "cell_type": "code",
   "execution_count": 2,
   "id": "a9e6b9c0",
   "metadata": {},
   "outputs": [],
   "source": [
    "# For using custom module.\n",
    "import sys\n",
    "sys.path.append('../custom_library')"
   ]
  },
  {
   "cell_type": "code",
   "execution_count": 9,
   "id": "bd7ed826",
   "metadata": {},
   "outputs": [],
   "source": [
    "import spacy\n",
    "from nltk.corpus import stopwords \n",
    "from nltk.stem.wordnet import WordNetLemmatizer\n",
    "import string\n",
    "import numpy as np\n",
    "import pandas as pd \n",
    "import connect_to_db as cn\n",
    "from gensim import corpora\n",
    "import gensim\n",
    "import csv\n",
    "import parmap"
   ]
  },
  {
   "cell_type": "code",
   "execution_count": 4,
   "id": "ce8ad620",
   "metadata": {},
   "outputs": [],
   "source": [
    "# to suppress warnings\n",
    "from warnings import filterwarnings\n",
    "filterwarnings('ignore')"
   ]
  },
  {
   "cell_type": "code",
   "execution_count": 5,
   "id": "1513fb22",
   "metadata": {},
   "outputs": [],
   "source": [
    "nlp = spacy.load('en_core_web_sm')\n",
    "\n",
    "# stop loss words \n",
    "stop = set(stopwords.words('english'))\n",
    "\n",
    "# punctuation, 구두점 제거.\n",
    "exclude = set(string.punctuation) \n",
    "\n",
    "# lemmatization, 표제어 추출. (am, are, is -> be, ed, s 등 제거.)\n",
    "lemma = WordNetLemmatizer() \n",
    "\n",
    "# One function for all the steps:\n",
    "def clean(doc):\n",
    "    \n",
    "    # convert text into lower case + split into words\n",
    "    stop_free = \" \".join([i for i in doc.lower().split() if i not in stop])\n",
    "    \n",
    "    # remove any stop words present\n",
    "    punc_free = ''.join(ch for ch in stop_free if ch not in exclude)  \n",
    "    \n",
    "    # remove punctuations + normalize the text\n",
    "    normalized = \" \".join(lemma.lemmatize(word) for word in punc_free.split())\n",
    "                \n",
    "    return normalized"
   ]
  },
  {
   "cell_type": "code",
   "execution_count": 7,
   "id": "b2c30526",
   "metadata": {},
   "outputs": [],
   "source": [
    "custom_stop_words = [\"im\", \"going\", \"would\", \"like\", \"cant\", \"donâ€™t\", \"canâ€™t\", \"iâ€™ve\", \"iâ€™m\", \"me\", \"someone\", \"whatâ€™s\", \"it\", \"really\", \"feel\", \"live\", \"like\", \"fucking\", \"myself\", \"another\", \"help\", \"got\", \"get\", \"dont\", \"want\", \"anymore\", \"know\", \"make\", \"self\", \"everything\", \"see\", \"else\", \"oh\", \"there\", \"thing\", \"wanna\", \"wouldnâ€™t\", \"might\", \"itâ€™s\", \"didnâ€™t\", \"yâ€™all\", \"do\", \"anyone\", \"people\", \"ever\", \"please\"]\n",
    "\n",
    "def remove_custom_stop_words(word_lists):\n",
    "    for word_list in word_lists:\n",
    "        stops = []\n",
    "        for word in word_list:\n",
    "            # 단어가 custom stop words에 속하거나, 숫자거나, 알파벳 하나일 경우 제거.\n",
    "            if word in custom_stop_words or word.isdigit() or len(word) == 1:\n",
    "                stops.append(word)\n",
    "        \n",
    "        for stop in stops:\n",
    "            word_list.remove(stop)\n",
    "            \n",
    "        # list가 stop words 제거로 인해 비었는지 확인.\n",
    "        if not word_list:\n",
    "            word_lists.remove(word_list)\n",
    "\n",
    "    return word_lists"
   ]
  },
  {
   "cell_type": "markdown",
   "id": "35a1b6bd",
   "metadata": {},
   "source": [
    "# LDA Topic Modeling"
   ]
  },
  {
   "cell_type": "code",
   "execution_count": 12,
   "id": "e67937c8",
   "metadata": {},
   "outputs": [],
   "source": [
    "def save_topic_words_and_weights(table_name, community, count, remove_sw):\n",
    "    sql = f'select node_id from {table_name} where community_id_fastgreedy_is = {community}'\n",
    "    result_df = cn.select_query_result_to_df(sql)\n",
    "    authors = np.array(result_df['node_id'].astype(str).values.tolist())\n",
    "\n",
    "    length = len(authors)\n",
    "\n",
    "    doc = []\n",
    "\n",
    "    for i in range(length):\n",
    "        # sql2 = f\"select distinct p.post_key, p.title from posts p, comments c where p.post_key = c.link_key and c.author = '{authors[i]}' and c.link_key = c.parent_key and p.is_valid_author=1 and MONTH(p.created_utc) <> 12;\";\n",
    "        sql2 = f\"select body from comments where author = '{authors[i]}' and is_valid=1 and link_key = parent_key;\"\n",
    "        # sql2 = f\"select distinct p.post_key, p.title from posts p, comments c where p.post_key = c.link_key and c.author = '{authors[i]}' and c.link_key = c.parent_key and p.is_valid_author=1;\"\n",
    "        result_df2 = cn.select_query_result_to_df(sql2)\n",
    "        if not result_df2.empty:\n",
    "            # titles = np.array(result_df2['title'].astype(str).values.tolist())\n",
    "            titles = np.array(result_df2['body'].astype(str).values.tolist())\n",
    "            doc.extend(titles)\n",
    "        \n",
    "    corpus = doc\n",
    "    num_words = 50\n",
    "    folder = 'topic_words'\n",
    "        \n",
    "    # clean data stored in a new list\n",
    "    clean_corpus = [clean(doc).split() for doc in corpus]\n",
    "    # custom stop words 제거.\n",
    "    if remove_sw:\n",
    "        clean_corpus = remove_custom_stop_words(clean_corpus)\n",
    "        num_words = 40\n",
    "        folder = 'topic_words_stop_words_removed'\n",
    "    dictionary = corpora.Dictionary(clean_corpus)\n",
    "    corpus = [dictionary.doc2bow(text) for text in clean_corpus]\n",
    "        \n",
    "    if count >= 10000:\n",
    "        num_topics = 10\n",
    "    elif count >= 1000:\n",
    "        num_topics = 5\n",
    "    elif count >= 100:\n",
    "        num_topics = 4\n",
    "    else:\n",
    "        num_topics = 3\n",
    "     \n",
    "    # 결과가 매번 다르게 나오는 것을 방지하기 위한 seed 고정.\n",
    "    SOME_FIXED_SEED = 624\n",
    "    np.random.seed(SOME_FIXED_SEED)\n",
    "    \n",
    "    ldamodel = gensim.models.LdaMulticore(corpus, id2word=dictionary, num_topics=num_topics, passes=10)\n",
    "    x=ldamodel.show_topics(num_topics=num_topics, num_words=num_words,formatted=False)\n",
    "    topics_words = [[wd[0] for wd in tp[1]] for tp in x]\n",
    "    topics_words_weights = [[wd[1] for wd in tp[1]] for tp in x]    \n",
    "    \n",
    "    words_df = pd.DataFrame(topics_words)\n",
    "    weights_df = pd.DataFrame(topics_words_weights)\n",
    "    words_df.to_csv(f\"../lda/csv/lda_results/{table_name}/comments/{folder}_{num_words}/community_{community}_topics_{num_words}_words.csv\", header=None, index=None)\n",
    "    weights_df.to_csv(f\"../lda/csv/lda_results/{table_name}/comments/{folder}_weights_{num_words}/community_{community}_topics_{num_words}_weights.csv\", header=None, index=None)"
   ]
  },
  {
   "cell_type": "code",
   "execution_count": 6,
   "id": "ea3749b6",
   "metadata": {},
   "outputs": [],
   "source": [
    "sql = \"select community_id_fastgreedy_is, count(*) from nodes_until_november group by community_id_fastgreedy_is order by count(*) desc limit 105;\"\n",
    "result_df = cn.select_query_result_to_df(sql)\n",
    "communities = list(np.array(result_df['community_id_fastgreedy_is'].values.tolist()))\n",
    "counts = list(np.array(result_df['count(*)'].values.tolist()))"
   ]
  },
  {
   "cell_type": "code",
   "execution_count": 40,
   "id": "b5500c79",
   "metadata": {},
   "outputs": [],
   "source": [
    "for community, count in zip(communities, counts):\n",
    "    save_topic_words_and_weights('nodes_until_november', community, count, True)\n",
    "    save_topic_words_and_weights('nodes_until_november', community, count, False)"
   ]
  },
  {
   "cell_type": "code",
   "execution_count": 6,
   "id": "afc8fb43",
   "metadata": {},
   "outputs": [],
   "source": [
    "sql = \"select community_id_fastgreedy_is, count(*) from nodes group by community_id_fastgreedy_is order by count(*) desc limit 105;\"\n",
    "result_df = cn.select_query_result_to_df(sql)\n",
    "communities = list(np.array(result_df['community_id_fastgreedy_is'].values.tolist()))\n",
    "counts = list(np.array(result_df['count(*)'].values.tolist()))"
   ]
  },
  {
   "cell_type": "code",
   "execution_count": 7,
   "id": "12fc3ae3",
   "metadata": {},
   "outputs": [],
   "source": [
    "for community, count in zip(communities, counts):\n",
    "    save_topic_words_and_weights('nodes', community, count, True)"
   ]
  },
  {
   "cell_type": "code",
   "execution_count": 7,
   "id": "23fb6a90",
   "metadata": {},
   "outputs": [],
   "source": [
    "def calculate_cosine_similarity(numerator, topic_words, clean_corpus, largest_cosine_similarity, community, most_related_community):\n",
    "    cosine_similarity = numerator / ((len(topic_words) ** 0.5) * (len(clean_corpus) ** 0.5))\n",
    "    if cosine_similarity > largest_cosine_similarity:\n",
    "        largest_cosine_similarity = cosine_similarity\n",
    "        most_related_community = community\n",
    "            \n",
    "    return largest_cosine_similarity, most_related_community"
   ]
  },
  {
   "cell_type": "markdown",
   "id": "58c1f3f1",
   "metadata": {},
   "source": [
    "# Community Matching by LDA"
   ]
  },
  {
   "cell_type": "code",
   "execution_count": 13,
   "id": "047398a8",
   "metadata": {},
   "outputs": [],
   "source": [
    "def calculate_similarity_with_the_community(clean_corpus, community, remove_sw, option, largest_cosine_similarity, most_related_community):\n",
    "    # 1) stop word 제거 한 경우.\n",
    "    if remove_sw:\n",
    "        with open(f\"../lda/csv/lda_results/nodes_until_november/comments/topic_words_stop_words_removed_40/community_{community}_topics_40_words.csv\", newline='') as f:\n",
    "            reader = csv.reader(f)\n",
    "            topics = list(reader)\n",
    "    \n",
    "    # 2) if !remove_sw, stop word 제거 안 한 경우.\n",
    "    else:\n",
    "        with open(f\"../lda/csv/lda_results/nodes_until_november/comments/topic_words_50/community_{community}_topics_50_words.csv\", newline='') as f:\n",
    "            reader = csv.reader(f)\n",
    "            topics = list(reader)\n",
    "        \n",
    "    # 1-1), 2-1) 가중치 없이 cosine similarity 계산하는 경우.\n",
    "    if option == \"count\":\n",
    "        for topic_words in topics:\n",
    "            numerator = 0\n",
    "            for word in clean_corpus:\n",
    "                if word in topic_words:\n",
    "                    numerator +=1\n",
    "            largest_cosine_similarity, most_related_community = calculate_cosine_similarity(numerator, topic_words, \n",
    "                                                                                            clean_corpus, \n",
    "                                                                                            largest_cosine_similarity, \n",
    "                                                                                            community, most_related_community)\n",
    "        \n",
    "    # 1-2), 2-2) 가중치를 rank로 줘서 cosine similarity 계산하는 경우.\n",
    "    elif option == \"rank\":\n",
    "        for topic_words in topics:\n",
    "            numerator = 0\n",
    "            for word in clean_corpus:\n",
    "                if word in topic_words:\n",
    "                    idx = topic_words.index(word)\n",
    "                    # weight에 대한 내림차순으로 정렬되어있으므로, idx에 역수를 취해 가중치를 부여.\n",
    "                    # ex) weight가 2번째로 높은 word일 경우, 1 / 1+1 = 1/2의 가중치를 받음.\n",
    "                    numerator += 1 / (idx + 1)\n",
    "            largest_cosine_similarity, most_related_community = calculate_cosine_similarity(numerator, topic_words, \n",
    "                                                                                            clean_corpus, \n",
    "                                                                                            largest_cosine_similarity, \n",
    "                                                                                            community, most_related_community)\n",
    "                    \n",
    "    # 1-3), 2-3) option == 'weight', 가중치를 topic words weight로 줘서 cosine similarity 계산하는 경우.\n",
    "    else:\n",
    "        # words에 대한 weights가 저장되어있는 file open.\n",
    "        # stop words 제거한 file open.\n",
    "        if remove_sw:\n",
    "            with open(f\"../lda/csv/lda_results/nodes_until_november/comments/topic_words_stop_words_removed_weights_40/community_{community}_topics_40_weights.csv\", newline='') as f:\n",
    "                reader = csv.reader(f)\n",
    "                topics_weights = list(reader)\n",
    "            \n",
    "        else:\n",
    "            with open(f\"../lda/csv/lda_results/nodes_until_november/comments/topic_words_weights_50/community_{community}_topics_50_weights.csv\", newline='') as f:\n",
    "                reader = csv.reader(f)\n",
    "                topics_weights = list(reader)\n",
    "        \n",
    "        for topic_words, weights in zip(topics, topics_weights):\n",
    "            numerator = 0\n",
    "            for word in clean_corpus:\n",
    "                if word in topic_words:\n",
    "                    idx = topic_words.index(word)\n",
    "                    numerator += float(weights[idx])\n",
    "            largest_cosine_similarity, most_related_community = calculate_cosine_similarity(numerator, topic_words, \n",
    "                                                                                            clean_corpus, \n",
    "                                                                                            largest_cosine_similarity, \n",
    "                                                                                            community, most_related_community)\n",
    "        \n",
    "    return largest_cosine_similarity, most_related_community"
   ]
  },
  {
   "cell_type": "code",
   "execution_count": 11,
   "id": "251694b4",
   "metadata": {},
   "outputs": [],
   "source": [
    "def community_matching(sentence, remove_sw, option):\n",
    "    clean_corpus = clean(sentence).split()\n",
    "    \n",
    "    if len(clean_corpus) < 1:\n",
    "        return -1\n",
    "    \n",
    "    largest_cosine_similarity = 0\n",
    "    most_related_community = 0\n",
    "    \n",
    "    for community in communities:\n",
    "        largest_cosine_similarity, most_related_community = calculate_similarity_with_the_community(clean_corpus, community, \n",
    "                                                                                           remove_sw, option,\n",
    "                                                                                          largest_cosine_similarity,\n",
    "                                                                                          most_related_community)\n",
    "    \n",
    "    return most_related_community"
   ]
  },
  {
   "cell_type": "code",
   "execution_count": 10,
   "id": "98c74b90",
   "metadata": {},
   "outputs": [
    {
     "name": "stdout",
     "output_type": "stream",
     "text": [
      "2\n",
      "1522\n",
      "140\n",
      "1039\n",
      "1039\n",
      "140\n"
     ]
    }
   ],
   "source": [
    "sentence = \"My family is at my house and Iâ€™m locked in Jeff room crying.\"\n",
    "\n",
    "print(community_matching(sentence, True, 'count'))\n",
    "print(community_matching(sentence, True, 'rank'))\n",
    "print(community_matching(sentence, True, 'weight'))\n",
    "print(community_matching(sentence, False, 'count'))\n",
    "print(community_matching(sentence, False, 'rank'))\n",
    "print(community_matching(sentence, False, 'weight'))"
   ]
  },
  {
   "cell_type": "markdown",
   "id": "ac104888",
   "metadata": {},
   "source": [
    "# Result Evaluation"
   ]
  },
  {
   "cell_type": "code",
   "execution_count": 11,
   "id": "ffab2ecf",
   "metadata": {},
   "outputs": [],
   "source": [
    "def jaccard_coefficient_between_prediction_and_answer(post_key, predicted_community):\n",
    "    sql = f\"select author from comments where link_key = '{post_key}' and is_valid=1 and is_valid_author=1 and link_key = parent_key;\"\n",
    "    result_df = cn.select_query_result_to_df(sql)\n",
    "    if not result_df.empty:\n",
    "        authors = list(np.array(result_df['author'].values.tolist()))\n",
    "    else:\n",
    "        return -1\n",
    "    \n",
    "    sql2 = f\"select node_id from nodes_until_november where community_id_fastgreedy_is = {predicted_community};\"\n",
    "    result_df2 = cn.select_query_result_to_df(sql2)\n",
    "    predicted_authors = list(np.array(result_df2['node_id'].values.tolist()))\n",
    "    \n",
    "    count_a = len(authors)\n",
    "    count_pa = len(predicted_authors)\n",
    "    count_i = 0\n",
    "    \n",
    "    for author in authors:\n",
    "        if author in predicted_authors:\n",
    "            count_i += 1\n",
    "    \n",
    "    jaccard_coefficient = count_i / (count_a + count_pa - count_i)\n",
    "    \n",
    "    return jaccard_coefficient"
   ]
  },
  {
   "cell_type": "code",
   "execution_count": 14,
   "id": "4c1fed59",
   "metadata": {},
   "outputs": [],
   "source": [
    "def prediction_main(index, folder, remove_sw, option):\n",
    "    sql = \"select post_key, title from posts where is_valid_author=1 and MONTH(created_utc) = 12;\"\n",
    "    result_df = cn.select_query_result_to_df(sql)\n",
    "    post_keys = list(np.array(result_df['post_key'].values.tolist()))\n",
    "    titles = list(np.array(result_df['title'].values.tolist()))\n",
    "\n",
    "    result_for_csv = []\n",
    "    filename = f\"../lda/csv/prediction_results/{folder}/prediction_result_{index}.csv\"\n",
    "    \n",
    "    if index % 10000 == 0:\n",
    "        start_index = index - 10000\n",
    "    else:\n",
    "        start_index = index - (index % 10000)\n",
    "        \n",
    "    for i in range(start_index, index):\n",
    "        community = community_matching(titles[i], remove_sw=remove_sw, option=option)\n",
    "        if community != -1:\n",
    "            jaccard_coefficient = jaccard_coefficient_between_prediction_and_answer(post_keys[i], community)\n",
    "        result_for_csv.append([post_keys[i], community, format(float(jaccard_coefficient), '.10f')])\n",
    "    \n",
    "    fields = ['post_key', 'predicted_community', 'jaccard_coefficient']\n",
    "    cn.write_csv_for_db_update(filename, fields, result_for_csv)"
   ]
  },
  {
   "cell_type": "code",
   "execution_count": 18,
   "id": "1e3dea84",
   "metadata": {},
   "outputs": [
    {
     "name": "stderr",
     "output_type": "stream",
     "text": [
      "100%|██████████| 12/12 [42:23<00:00, 211.97s/it]  \n"
     ]
    }
   ],
   "source": [
    "# post_count = 110037\n",
    "index_list = [10000, 20000, 30000, 40000, 50000, 60000, 70000, 80000, 90000, 100000, 110000, 110037]\n",
    "\n",
    "if __name__ == '__main__':\n",
    "    # multi processing.\n",
    "    parmap.map(prediction_main, index_list, folder='prediction_weight', \n",
    "               remove_sw=False, option='weight', pm_pbar=True, pm_processes=12)"
   ]
  }
 ],
 "metadata": {
  "kernelspec": {
   "display_name": "Python 3 (ipykernel)",
   "language": "python",
   "name": "python3"
  },
  "language_info": {
   "codemirror_mode": {
    "name": "ipython",
    "version": 3
   },
   "file_extension": ".py",
   "mimetype": "text/x-python",
   "name": "python",
   "nbconvert_exporter": "python",
   "pygments_lexer": "ipython3",
   "version": "3.8.10"
  }
 },
 "nbformat": 4,
 "nbformat_minor": 5
}
