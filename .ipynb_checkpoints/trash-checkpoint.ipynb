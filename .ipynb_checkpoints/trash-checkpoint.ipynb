{
 "cells": [
  {
   "cell_type": "code",
   "execution_count": null,
   "id": "e221343c",
   "metadata": {},
   "outputs": [],
   "source": [
    "def draw_cdf(np_result):\n",
    "    fig = plt.figure(figsize=(15,10))\n",
    "    fig.set_facecolor('white')\n",
    "    ax = fig.add_subplot()\n",
    "    \n",
    "    sorted_data = np.sort(np_result)\n",
    "    plt.step(sorted_data, np.arange(sorted_data.size), cumulative=True, density=True)\n",
    "\n",
    "    # plt.xscale('symlog')\n",
    "\n",
    "    plt.show()"
   ]
  },
  {
   "cell_type": "code",
   "execution_count": null,
   "id": "d82f6c11",
   "metadata": {},
   "outputs": [],
   "source": [
    "def draw_multiple_cdf(np_result_list, title, colors, legends, xlabel):\n",
    "    filename = title + '.png'\n",
    "    fig = plt.figure(figsize=(15,10))\n",
    "    fig.set_facecolor('white')\n",
    "    ax = fig.add_subplot()\n",
    "    \n",
    "    for np_result, color, legend in zip(np_result_list, colors, legends):\n",
    "        sorted_data = np.sort(np_result)\n",
    "        plt.step(sorted_data, np.arange(sorted_data.size), label=legend, color=color)\n",
    "        plt.xlabel(xlabel, fontsize=12)\n",
    "        plt.title(title, fontsize=18)\n",
    "  \n",
    "    plt.legend(fontsize=14)\n",
    "    plt.savefig(filename, dpi=300)\n",
    "    plt.show()"
   ]
  },
  {
   "cell_type": "code",
   "execution_count": null,
   "id": "744d7709",
   "metadata": {},
   "outputs": [],
   "source": [
    "def draw_multiple_cdf_log(np_result_list, title, colors, legends, xlabel):\n",
    "    filename = title + '.png'\n",
    "    fig = plt.figure(figsize=(15,10))\n",
    "    fig.set_facecolor('white')\n",
    "    ax = fig.add_subplot()\n",
    "    \n",
    "    for np_result, color, legend in zip(np_result_list, colors, legends):\n",
    "        sorted_data = np.sort(np_result)\n",
    "        plt.step(sorted_data, np.arange(sorted_data.size), label=legend, color=color)\n",
    "        plt.xlabel(xlabel, fontsize=12)\n",
    "        plt.title(title, fontsize=18)\n",
    "        plt.xscale('symlog')\n",
    "  \n",
    "    plt.legend(fontsize=14)\n",
    "    plt.savefig(filename, dpi=300)\n",
    "    plt.show()"
   ]
  },
  {
   "cell_type": "code",
   "execution_count": null,
   "id": "ec6aed3b",
   "metadata": {},
   "outputs": [],
   "source": [
    "def draw_cdf_density(np_result_list, title, xlabel, legends, log_scale):\n",
    "    filename = title + '.png'\n",
    "    sns.set(rc={'figure.figsize':(11.7,8.27)})\n",
    "    kwargs = {'cumulative': True}\n",
    "    \n",
    "    fig = plt.figure(figsize=(15,10))\n",
    "    fig.set_facecolor('white')\n",
    "    \n",
    "    for np_result in np_result_list:\n",
    "        ax = sns.distplot(np_result, hist_kws=kwargs, kde_kws=kwargs, hist=False, norm_hist=False)\n",
    "        ax.set_title(title)\n",
    "        ax.set_xlabel(xlabel)\n",
    "        plt.title(title, fontsize=18)\n",
    "        plt.xlabel(xlabel, fontsize=12)\n",
    "        plt.legend(labels=legends, fontsize=14)\n",
    "        if log_scale:\n",
    "            plt.xscale('symlog')\n",
    "    \n",
    "    plt.savefig(filename, dpi=300)"
   ]
  }
 ],
 "metadata": {
  "kernelspec": {
   "display_name": "Python 3 (ipykernel)",
   "language": "python",
   "name": "python3"
  },
  "language_info": {
   "codemirror_mode": {
    "name": "ipython",
    "version": 3
   },
   "file_extension": ".py",
   "mimetype": "text/x-python",
   "name": "python",
   "nbconvert_exporter": "python",
   "pygments_lexer": "ipython3",
   "version": "3.8.10"
  }
 },
 "nbformat": 4,
 "nbformat_minor": 5
}
