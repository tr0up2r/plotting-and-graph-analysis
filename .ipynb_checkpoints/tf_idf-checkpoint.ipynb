{
 "cells": [
  {
   "cell_type": "code",
   "execution_count": 77,
   "id": "7d22f73e",
   "metadata": {},
   "outputs": [],
   "source": [
    "import pymysql.cursors\n",
    "import pandas as pd\n",
    "import numpy as np\n",
    "import matplotlib.pyplot as plt\n",
    "import scipy\n",
    "import seaborn as sns\n",
    "import connect_to_db as cn\n",
    "import json\n",
    "from itertools import combinations\n",
    "from sklearn.feature_extraction.text import TfidfVectorizer"
   ]
  },
  {
   "cell_type": "code",
   "execution_count": 87,
   "id": "4a07b88b",
   "metadata": {},
   "outputs": [],
   "source": [
    "def extract_author(query_result):\n",
    "    # dictionary 형태의 query 결과로부터 author만 추출해냄.\n",
    "    tmp = json.dumps(query_result)\n",
    "    tmp = tmp.split(':')\n",
    "    tmp = tmp[1].split('}')\n",
    "    res_author = tmp[0]\n",
    "    \n",
    "    return res_author"
   ]
  },
  {
   "cell_type": "code",
   "execution_count": 93,
   "id": "4bdff251",
   "metadata": {},
   "outputs": [],
   "source": [
    "def extract_bodies(author, table):\n",
    "    # 추출해 낸 author를 이용해 comment body만 끌어옴.\n",
    "    connection = cn.make_connection('connection.csv')\n",
    "    cursor = connection.cursor(pymysql.cursors.DictCursor)\n",
    "    sql = f'select body from {table} where author = {author};'\n",
    "\n",
    "    cursor.execute(sql)\n",
    "    result = cursor.fetchall()\n",
    "    connection.close()\n",
    "\n",
    "    # 추출된 body 목록을 list 형태로 바꾸어서 return.\n",
    "    result_df = pd.DataFrame(result)\n",
    "    result_list = list(np.array(result_df['body'].tolist()))\n",
    "    \n",
    "    return result_list"
   ]
  },
  {
   "cell_type": "code",
   "execution_count": 122,
   "id": "dc5180d4",
   "metadata": {},
   "outputs": [],
   "source": [
    "def tf_idf_similarity(document):\n",
    "    # document로부터 모든 combination 구하기.\n",
    "    result_comb = list(combinations(document, 2))\n",
    "\n",
    "    similarity = 0\n",
    "    length = len(result_comb)\n",
    "    \n",
    "    for res in result_comb:\n",
    "        doclist = list(res)\n",
    "        \n",
    "        # 문장이 아닌, 단어 comment는 제거.\n",
    "        # tf-idf 검사 시 ValueError 발생.\n",
    "        if len(doclist[0].split(' ')) > 1 and len(doclist[1].split(' ')) > 1:\n",
    "            tfidf_vectorizer = TfidfVectorizer(min_df=1)\n",
    "            tfidf_matrix = tfidf_vectorizer.fit_transform(doclist)\n",
    "\n",
    "            document_distances = (tfidf_matrix * tfidf_matrix.T)\n",
    "        \n",
    "            similarity += document_distances.toarray()[0][1]\n",
    "        \n",
    "        else:\n",
    "            length -= 1\n",
    "            \n",
    "    return similarity / length"
   ]
  },
  {
   "cell_type": "code",
   "execution_count": 97,
   "id": "1091e9e6",
   "metadata": {},
   "outputs": [],
   "source": [
    "def update_similarity_column(author, similarity, column_name):\n",
    "    connection = cn.make_connection('connection.csv')\n",
    "    cursor = connection.cursor(pymysql.cursors.DictCursor)\n",
    "    sql = f'update mentor set {column_name}={similarity} where author={author};'\n",
    "    \n",
    "    cursor.execute(sql)\n",
    "    connection.commit()\n",
    "    connection.close()"
   ]
  },
  {
   "cell_type": "code",
   "execution_count": 123,
   "id": "82ae44fe",
   "metadata": {},
   "outputs": [
    {
     "name": "stdout",
     "output_type": "stream",
     "text": [
      " \"______V______\"\n",
      "0.09191295133537873\n",
      "1 "
     ]
    },
    {
     "data": {
      "text/plain": [
       "\"\\nfor res in result:\\n    author = extract_author(res)\\n    bodies = extract_bodies(author, 'comments')\\n    similarity = tf_idf_similarity(bodies)\\n    \\n    author_similarity_list.append([author, similarity])\\n    \\n    count += 1\\n    print(count, end=' ')\\n\""
      ]
     },
     "execution_count": 123,
     "metadata": {},
     "output_type": "execute_result"
    }
   ],
   "source": [
    "connection = cn.make_connection('connection.csv')\n",
    "\n",
    "cursor = connection.cursor(pymysql.cursors.DictCursor)\n",
    "\n",
    "sql = 'select author from mentor where comment_cnt > 1 and is_valid = 1;'\n",
    "cursor.execute(sql)\n",
    "\n",
    "# result가 dict 형태로 return.\n",
    "result = cursor.fetchall()\n",
    "connection.close()\n",
    "\n",
    "author_similarity_list = []\n",
    "\n",
    "count = 0\n",
    "\n",
    "author = extract_author(result[7])\n",
    "bodies = extract_bodies(author, 'comments')\n",
    "similarity = tf_idf_similarity(bodies)\n",
    "    \n",
    "author_similarity_list.append([author, similarity])\n",
    "    \n",
    "count += 1\n",
    "print(count, end=' ')\n",
    "\n",
    "\n",
    "'''\n",
    "for res in result:\n",
    "    author = extract_author(res)\n",
    "    bodies = extract_bodies(author, 'comments')\n",
    "    similarity = tf_idf_similarity(bodies)\n",
    "    \n",
    "    author_similarity_list.append([author, similarity])\n",
    "    \n",
    "    count += 1\n",
    "    print(count, end=' ')\n",
    "'''\n"
   ]
  },
  {
   "cell_type": "code",
   "execution_count": 65,
   "id": "f2903cb5",
   "metadata": {},
   "outputs": [
    {
     "name": "stdout",
     "output_type": "stream",
     "text": [
      "['Um no', 'Honestly I do think mental illness can completely go away. Like I said, I had depression for six years and now I donâ€™t have it anymore. Iâ€™m hoping that happens sooner than later with my PTSD.'] 0.0\n",
      "['Um no', 'I have had a very similar experience to you wow basically exactly the same'] 0.0\n",
      "['Um no', 'How long did it take to wast off with Zoloft?'] 0.0\n",
      "['Um no', 'At least you get to see you as the strongest version of yourself :)'] 0.0\n",
      "['Um no', 'Iâ€™ve been through similar situation that are just as intense. Stick through it it will get better'] 0.0\n",
      "['Honestly I do think mental illness can completely go away. Like I said, I had depression for six years and now I donâ€™t have it anymore. Iâ€™m hoping that happens sooner than later with my PTSD.', 'I have had a very similar experience to you wow basically exactly the same'] 0.05478716547062308\n",
      "['Honestly I do think mental illness can completely go away. Like I said, I had depression for six years and now I donâ€™t have it anymore. Iâ€™m hoping that happens sooner than later with my PTSD.', 'How long did it take to wast off with Zoloft?'] 0.060561860219153635\n",
      "['Honestly I do think mental illness can completely go away. Like I said, I had depression for six years and now I donâ€™t have it anymore. Iâ€™m hoping that happens sooner than later with my PTSD.', 'At least you get to see you as the strongest version of yourself :)'] 0.0\n",
      "['Honestly I do think mental illness can completely go away. Like I said, I had depression for six years and now I donâ€™t have it anymore. Iâ€™m hoping that happens sooner than later with my PTSD.', 'Iâ€™ve been through similar situation that are just as intense. Stick through it it will get better'] 0.08401020936865362\n",
      "['I have had a very similar experience to you wow basically exactly the same', 'How long did it take to wast off with Zoloft?'] 0.04840481852390736\n",
      "['I have had a very similar experience to you wow basically exactly the same', 'At least you get to see you as the strongest version of yourself :)'] 0.1799577953510886\n",
      "['I have had a very similar experience to you wow basically exactly the same', 'Iâ€™ve been through similar situation that are just as intense. Stick through it it will get better'] 0.03218183398231391\n",
      "['How long did it take to wast off with Zoloft?', 'At least you get to see you as the strongest version of yourself :)'] 0.043109987479869535\n",
      "['How long did it take to wast off with Zoloft?', 'Iâ€™ve been through similar situation that are just as intense. Stick through it it will get better'] 0.07338366200386336\n",
      "['At least you get to see you as the strongest version of yourself :)', 'Iâ€™ve been through similar situation that are just as intense. Stick through it it will get better'] 0.05900563581674298\n"
     ]
    },
    {
     "data": {
      "text/plain": [
       "0.04236019788108107"
      ]
     },
     "execution_count": 65,
     "metadata": {},
     "output_type": "execute_result"
    }
   ],
   "source": [
    "\n",
    "tf_idf_similarity(result_list)"
   ]
  }
 ],
 "metadata": {
  "kernelspec": {
   "display_name": "Python 3 (ipykernel)",
   "language": "python",
   "name": "python3"
  },
  "language_info": {
   "codemirror_mode": {
    "name": "ipython",
    "version": 3
   },
   "file_extension": ".py",
   "mimetype": "text/x-python",
   "name": "python",
   "nbconvert_exporter": "python",
   "pygments_lexer": "ipython3",
   "version": "3.8.10"
  }
 },
 "nbformat": 4,
 "nbformat_minor": 5
}
