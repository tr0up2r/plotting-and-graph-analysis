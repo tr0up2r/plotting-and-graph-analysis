{
 "cells": [
  {
   "cell_type": "code",
   "execution_count": 235,
   "id": "7d22f73e",
   "metadata": {},
   "outputs": [],
   "source": [
    "import pymysql.cursors\n",
    "import pandas as pd\n",
    "import numpy as np\n",
    "import connect_to_db as cn\n",
    "import json\n",
    "from itertools import combinations\n",
    "from sklearn.feature_extraction.text import TfidfVectorizer\n",
    "import re"
   ]
  },
  {
   "cell_type": "code",
   "execution_count": 147,
   "id": "4a07b88b",
   "metadata": {},
   "outputs": [],
   "source": [
    "def extract_author(query_result):\n",
    "    # dictionary 형태의 query 결과로부터 author만 추출해냄.\n",
    "    tmp = json.dumps(query_result)\n",
    "    tmp = tmp.split(':')\n",
    "    tmp = tmp[1].split('}')\n",
    "    res_author = tmp[0]\n",
    "    \n",
    "    return res_author"
   ]
  },
  {
   "cell_type": "code",
   "execution_count": 148,
   "id": "4bdff251",
   "metadata": {},
   "outputs": [],
   "source": [
    "def extract_bodies(author, table):\n",
    "    # 추출해 낸 author를 이용해 comment body만 끌어옴.\n",
    "    connection = cn.make_connection('connection.csv')\n",
    "    cursor = connection.cursor(pymysql.cursors.DictCursor)\n",
    "    sql = f'select body from {table} where author = {author};'\n",
    "\n",
    "    cursor.execute(sql)\n",
    "    result = cursor.fetchall()\n",
    "    connection.close()\n",
    "\n",
    "    # 추출된 body 목록을 list 형태로 바꾸어서 return.\n",
    "    result_df = pd.DataFrame(result)\n",
    "    result_list = list(np.array(result_df['body'].tolist()))\n",
    "    \n",
    "    return result_list"
   ]
  },
  {
   "cell_type": "code",
   "execution_count": 261,
   "id": "de99e01d",
   "metadata": {},
   "outputs": [],
   "source": [
    "def check_body(document):\n",
    "    # 특수문자, 이모지 등으로만 이루어진 comment/post를 거르기 위한 code.\n",
    "    p = re.compile('[a-zA-Z]')\n",
    "    print(document)\n",
    "    for text in document[:]:\n",
    "        if p.search(text) is None:\n",
    "            print(text)\n",
    "            document.remove(text)\n",
    "        else:\n",
    "            if len(text) == 1:\n",
    "                print(text)\n",
    "                document.remove(text)\n",
    "                \n",
    "    print(document)\n",
    "    \n",
    "    return document"
   ]
  },
  {
   "cell_type": "code",
   "execution_count": 255,
   "id": "7530b4bb",
   "metadata": {},
   "outputs": [],
   "source": [
    "def tf_idf_similarity(document):\n",
    "    document = check_body(document)\n",
    "\n",
    "    # comment/body list가 빈 list인지를 체크해서 빈 list이면 -1 return.\n",
    "    if not document:\n",
    "        return -1\n",
    "    \n",
    "    # \n",
    "    tfidf_vectorizer = TfidfVectorizer(min_df=1)\n",
    "    tfidf_matrix = tfidf_vectorizer.fit_transform(document)\n",
    "\n",
    "    document_distances = (tfidf_matrix * tfidf_matrix.T)\n",
    "    \n",
    "    result_array = document_distances.toarray()\n",
    "    \n",
    "    similarity = 0\n",
    "    count = 0\n",
    "    \n",
    "    for i in range(len(result_array)):\n",
    "        for j in range(len(result_array[i])):\n",
    "            if i < j:\n",
    "                similarity += result_array[i][j]\n",
    "                count += 1\n",
    "    \n",
    "    return (similarity / count)"
   ]
  },
  {
   "cell_type": "code",
   "execution_count": 161,
   "id": "1091e9e6",
   "metadata": {},
   "outputs": [],
   "source": [
    "def update_similarity_column(author, similarity, column_name, connection, cursor):\n",
    "    sql = f'update mentor_new set {column_name}={similarity} where author={author};'\n",
    "    \n",
    "    cursor.execute(sql)\n",
    "    connection.commit()"
   ]
  },
  {
   "cell_type": "code",
   "execution_count": 266,
   "id": "82ae44fe",
   "metadata": {},
   "outputs": [
    {
     "name": "stdout",
     "output_type": "stream",
     "text": [
      "['â\\x9d¤', 'â\\x9d¤']\n",
      "â¤\n",
      "â¤\n",
      "[]\n"
     ]
    }
   ],
   "source": [
    "connection = cn.make_connection('connection.csv')\n",
    "\n",
    "cursor = connection.cursor(pymysql.cursors.DictCursor)\n",
    "\n",
    "# sql = 'select author from mentor_new where comment_cnt > 1 and is_valid = 1 and comment_similarity = -1;'\n",
    "sql = \"select author from mentor_new where author='AAAJDJHDJDKFMDBGDNZ'\"\n",
    "cursor.execute(sql)\n",
    "\n",
    "# result가 dict 형태로 return.\n",
    "result = cursor.fetchall()\n",
    "connection.close()\n",
    "\n",
    "author_similarity_list = []\n",
    "\n",
    "connection = cn.make_connection('connection.csv')\n",
    "cursor = connection.cursor(pymysql.cursors.DictCursor)\n",
    "\n",
    "for res in result:\n",
    "    author = extract_author(res)\n",
    "    bodies = extract_bodies(author, 'comments')\n",
    "    similarity = tf_idf_similarity(bodies)\n",
    "    \n",
    "    update_similarity_column(author, similarity, 'comment_similarity', connection, cursor)\n",
    "\n",
    "connection.close()"
   ]
  }
 ],
 "metadata": {
  "kernelspec": {
   "display_name": "Python 3 (ipykernel)",
   "language": "python",
   "name": "python3"
  },
  "language_info": {
   "codemirror_mode": {
    "name": "ipython",
    "version": 3
   },
   "file_extension": ".py",
   "mimetype": "text/x-python",
   "name": "python",
   "nbconvert_exporter": "python",
   "pygments_lexer": "ipython3",
   "version": "3.8.10"
  }
 },
 "nbformat": 4,
 "nbformat_minor": 5
}
