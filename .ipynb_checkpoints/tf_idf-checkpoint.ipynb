{
 "cells": [
  {
   "cell_type": "code",
   "execution_count": 445,
   "id": "7d22f73e",
   "metadata": {},
   "outputs": [],
   "source": [
    "import pymysql.cursors\n",
    "import pandas as pd\n",
    "import numpy as np\n",
    "import connect_to_db as cn\n",
    "import json\n",
    "from itertools import combinations\n",
    "from sklearn.feature_extraction.text import TfidfVectorizer\n",
    "import re\n",
    "import csv\n",
    "import parmap"
   ]
  },
  {
   "cell_type": "code",
   "execution_count": 446,
   "id": "84db33ee",
   "metadata": {},
   "outputs": [],
   "source": [
    "# select query를 날려서 가져온 result를 DataFrame으로 반환하는 function.\n",
    "def select_query_result_to_df(sql):\n",
    "    connection = cn.make_connection('connection.csv')\n",
    "    cursor = connection.cursor(pymysql.cursors.DictCursor)\n",
    "    cursor.execute(sql)\n",
    "    result = cursor.fetchall()\n",
    "    connection.close()\n",
    "    \n",
    "    result_df = pd.DataFrame(result)\n",
    "    \n",
    "    return result_df"
   ]
  },
  {
   "cell_type": "code",
   "execution_count": 447,
   "id": "0f44e1f8",
   "metadata": {},
   "outputs": [],
   "source": [
    "def check_body(document):\n",
    "    p = re.compile('[a-zA-Z]')\n",
    "    for text in document[:]:\n",
    "        # 특수문자, 이모지 등으로만 이루어진 text를 거르기 위한 code.\n",
    "        if p.search(text) is None:\n",
    "            document.remove(text)\n",
    "        # 특수문자와 알파벳 하나(ex. :p)로만 이루어진 text를 거르기 위한 code.\n",
    "        elif len(re.sub('[^a-zA-Z]',' ',text).strip()) == 1:\n",
    "            document.remove(text)\n",
    "    \n",
    "    return document"
   ]
  },
  {
   "cell_type": "code",
   "execution_count": 448,
   "id": "7530b4bb",
   "metadata": {},
   "outputs": [],
   "source": [
    "def tf_idf_similarity(document):\n",
    "    document = check_body(document)\n",
    "\n",
    "    # comment/body list가 빈 list인지를 체크해서 빈 list이면 -1 return.\n",
    "    if not document:\n",
    "        return -1\n",
    "    \n",
    "    # check_body() 함수를 거친 후, 이모지로만 이루어진 comment/post title이 지워져서\n",
    "    # 하나의 text만 남았을 경우. 구분을 위해 -2 return.\n",
    "    if len(document) == 1:\n",
    "        return -2\n",
    "\n",
    "    tfidf_vectorizer = TfidfVectorizer(min_df=1)\n",
    "    tfidf_matrix = tfidf_vectorizer.fit_transform(document)\n",
    "\n",
    "    document_distances = (tfidf_matrix * tfidf_matrix.T)\n",
    "    \n",
    "    result_array = document_distances.toarray()\n",
    "    \n",
    "    similarity = 0\n",
    "    count = 0\n",
    "    \n",
    "    for i in range(len(result_array)):\n",
    "        for j in range(len(result_array[i])):\n",
    "            if i < j:\n",
    "                similarity += result_array[i][j]\n",
    "                count += 1\n",
    "    \n",
    "    return (similarity / count)"
   ]
  },
  {
   "cell_type": "code",
   "execution_count": 449,
   "id": "ad0b3681",
   "metadata": {},
   "outputs": [],
   "source": [
    "def write_similarity_csv(column, result_list, end_index):\n",
    "    fields = ['author', column]\n",
    "    filename = f\"{column}_{end_index}.csv\"\n",
    "    with open(filename, 'w', newline='') as f:\n",
    "        write = csv.writer(f)\n",
    "        write.writerow(fields)\n",
    "        write.writerows(result_list)"
   ]
  },
  {
   "cell_type": "code",
   "execution_count": 450,
   "id": "82ae44fe",
   "metadata": {},
   "outputs": [],
   "source": [
    "def similarity_main(index, target_table):\n",
    "    # author 추출 후 list로 변환.\n",
    "    sql = f'select author from mentor where comment_cnt > 1 and is_valid = 1 and {target_table}_similarity is null;'\n",
    "    result_df = select_query_result_to_df(sql)\n",
    "    authors = np.array(result_df['author'].astype(str).values.tolist())\n",
    "\n",
    "    result_for_csv = []\n",
    "    \n",
    "    if index % 100000 == 0:\n",
    "        start_index = index - 100000\n",
    "    else:\n",
    "        start_index = index - (index % 100000)\n",
    "        \n",
    "    if target_table == 'comments':\n",
    "        target_column = 'body'\n",
    "    else:\n",
    "        target_column = 'title'\n",
    "        \n",
    "    for i in range(start_index, index):\n",
    "        if target_table == 'comments':\n",
    "            sql = f\"select {target_column} from {target_table} where author = '{authors[i]}' and link_key = parent_key;\"\n",
    "        else:\n",
    "            sql = f\"select distinct p.post_key, p.{target_column} from {target_table} p, comments c where p.post_key = c.link_key and c.author = '{authors[i]}' and c.link_key = c.parent_key;\";\n",
    "        result_df = select_query_result_to_df(sql)\n",
    "        texts = list(np.array(result_df[target_column].tolist()))\n",
    "        \n",
    "        similarity = tf_idf_similarity(texts)\n",
    "        result_for_csv.append([authors[i], similarity])\n",
    "\n",
    "    write_similarity_csv(f'{target_table}_similarity', result_for_csv, index)"
   ]
  },
  {
   "cell_type": "code",
   "execution_count": 438,
   "id": "3f93b96f",
   "metadata": {},
   "outputs": [
    {
     "name": "stderr",
     "output_type": "stream",
     "text": [
      "100%|██████████| 4/4 [05:31<00:00, 82.80s/it] \n"
     ]
    }
   ],
   "source": [
    "# index_list = [100000, 200000, 300000, 349103]\n",
    "index_list = [100000, 200000, 227032]\n",
    "\n",
    "if __name__ == '__main__':\n",
    "    # multi processing.\n",
    "    parmap.map(similarity_main, index_list, 'posts', pm_pbar=True, pm_processes=4)"
   ]
  }
 ],
 "metadata": {
  "kernelspec": {
   "display_name": "Python 3 (ipykernel)",
   "language": "python",
   "name": "python3"
  },
  "language_info": {
   "codemirror_mode": {
    "name": "ipython",
    "version": 3
   },
   "file_extension": ".py",
   "mimetype": "text/x-python",
   "name": "python",
   "nbconvert_exporter": "python",
   "pygments_lexer": "ipython3",
   "version": "3.8.10"
  }
 },
 "nbformat": 4,
 "nbformat_minor": 5
}
