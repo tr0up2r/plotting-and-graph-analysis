{
 "cells": [
  {
   "cell_type": "code",
   "execution_count": 11,
   "id": "fc387568",
   "metadata": {},
   "outputs": [],
   "source": [
    "# For using custom module.\n",
    "import sys\n",
    "sys.path.append('../custom_library')"
   ]
  },
  {
   "cell_type": "code",
   "execution_count": 12,
   "id": "4ef7aa40",
   "metadata": {},
   "outputs": [],
   "source": [
    "import connect_to_db as cn\n",
    "\n",
    "# for text preprocessing\n",
    "import re\n",
    "import spacy\n",
    "\n",
    "from nltk.corpus import stopwords \n",
    "from nltk.stem.wordnet import WordNetLemmatizer\n",
    "import string\n",
    "\n",
    "# import vectorizers\n",
    "from sklearn.feature_extraction.text import TfidfVectorizer, CountVectorizer\n",
    "\n",
    "# import numpy for matrix operation\n",
    "import numpy as np\n",
    "\n",
    "# import LDA from sklearn\n",
    "from sklearn.decomposition import LatentDirichletAllocation\n",
    "\n",
    "import pandas as pd\n",
    "\n",
    "from gensim import corpora\n",
    "import gensim\n",
    "\n",
    "import csv"
   ]
  },
  {
   "cell_type": "code",
   "execution_count": 58,
   "id": "5f31b907",
   "metadata": {},
   "outputs": [],
   "source": [
    "# to suppress warnings\n",
    "from warnings import filterwarnings\n",
    "filterwarnings('ignore')"
   ]
  },
  {
   "cell_type": "code",
   "execution_count": 59,
   "id": "387fcce8",
   "metadata": {},
   "outputs": [],
   "source": [
    "nlp = spacy.load('en_core_web_sm')"
   ]
  },
  {
   "cell_type": "code",
   "execution_count": 60,
   "id": "71336cde",
   "metadata": {},
   "outputs": [],
   "source": [
    "# stop loss words \n",
    "stop = set(stopwords.words('english'))\n",
    "\n",
    "# punctuation, 구두점 제거.\n",
    "exclude = set(string.punctuation) \n",
    "\n",
    "# lemmatization, 표제어 추출. (am, are, is -> be, ed, s 등 제거.)\n",
    "lemma = WordNetLemmatizer() \n",
    "\n",
    "# One function for all the steps:\n",
    "def clean(doc):\n",
    "    \n",
    "    # convert text into lower case + split into words\n",
    "    stop_free = \" \".join([i for i in doc.lower().split() if i not in stop])\n",
    "    \n",
    "    # remove any stop words present\n",
    "    punc_free = ''.join(ch for ch in stop_free if ch not in exclude)  \n",
    "    \n",
    "    # remove punctuations + normalize the text\n",
    "    normalized = \" \".join(lemma.lemmatize(word) for word in punc_free.split())  \n",
    "    return normalized"
   ]
  },
  {
   "cell_type": "code",
   "execution_count": 43,
   "id": "014a66da",
   "metadata": {},
   "outputs": [],
   "source": [
    "sql = \"select community_id_fastgreedy_is, count(*) from nodes group by community_id_fastgreedy_is having count(*) < 10000 order by count(*) desc limit 100;\"\n",
    "result_df = cn.select_query_result_to_df(sql)\n",
    "communities = list(np.array(result_df['community_id_fastgreedy_is'].values.tolist()))\n",
    "counts = list(np.array(result_df['count(*)'].values.tolist()))"
   ]
  },
  {
   "cell_type": "code",
   "execution_count": 61,
   "id": "0d3c31af",
   "metadata": {},
   "outputs": [],
   "source": [
    "sql = \"select community_id_fastgreedy_is, count(*) from nodes_until_november group by community_id_fastgreedy_is having count(*) < 10000 order by count(*) desc limit 100;\"\n",
    "result_df = cn.select_query_result_to_df(sql)\n",
    "communities = list(np.array(result_df['community_id_fastgreedy_is'].values.tolist()))\n",
    "counts = list(np.array(result_df['count(*)'].values.tolist()))"
   ]
  },
  {
   "cell_type": "code",
   "execution_count": 75,
   "id": "833f001f",
   "metadata": {},
   "outputs": [],
   "source": [
    "sql = \"select community_id_fastgreedy_is, count(*) from nodes_until_november group by community_id_fastgreedy_is order by count(*) desc limit 105;\"\n",
    "result_df = cn.select_query_result_to_df(sql)\n",
    "communities = list(np.array(result_df['community_id_fastgreedy_is'].values.tolist()))\n",
    "counts = list(np.array(result_df['count(*)'].values.tolist()))"
   ]
  },
  {
   "cell_type": "code",
   "execution_count": 76,
   "id": "fd3f1a6b",
   "metadata": {},
   "outputs": [],
   "source": [
    "def comments_lda(communities, counts, table_name):\n",
    "    for community, count in zip(communities, counts):\n",
    "        sql = f'select c.body from comments c, {table_name} n where c.author = n.node_id and c.is_valid=1 and n.community_id_fastgreedy_is = {community} and c.link_key = c.parent_key and MONTH(c.created_utc) <> 12;'\n",
    "        result_df = cn.select_query_result_to_df(sql)\n",
    "        corpus = list(np.array(result_df['body'].astype(str).values.tolist()))\n",
    "        doc = list(np.array(result_df['body'].astype(str).values.tolist()))\n",
    "        \n",
    "        # clean data stored in a new list\n",
    "        clean_corpus = [clean(doc).split() for doc in corpus]\n",
    "        dictionary = corpora.Dictionary(clean_corpus)\n",
    "        corpus = [dictionary.doc2bow(text) for text in clean_corpus]\n",
    "        \n",
    "        if count >= 10000:\n",
    "            num_topics = 10\n",
    "        elif count >= 1000:\n",
    "            num_topics = 5\n",
    "        elif count >= 100:\n",
    "            num_topics = 4\n",
    "        else:\n",
    "            num_topics = 3\n",
    "            \n",
    "        ldamodel = gensim.models.LdaMulticore(corpus, id2word=dictionary, num_topics=num_topics, passes=10)\n",
    "        x=ldamodel.show_topics(num_topics=num_topics, num_words=25,formatted=False)\n",
    "        \n",
    "        topics_words = [(tp[0], [wd[0] for wd in tp[1]]) for tp in x]\n",
    "        \n",
    "        f = open(f\"/home/mykim/source/plotting-and-graph-analysis/lda/3_to_5_topics/comments/{table_name}/lda_{num_topics}_topics_community_{community}_comments_{table_name}.csv\", 'w')\n",
    "        out = csv.writer(f, delimiter=\",\")\n",
    "        out.writerow(['topic', 'topic_words'])\n",
    "        for topic, words in topics_words:\n",
    "            out.writerow([topic, words])\n",
    "        f.close()"
   ]
  },
  {
   "cell_type": "code",
   "execution_count": 77,
   "id": "fa90b3a1",
   "metadata": {},
   "outputs": [],
   "source": [
    "comments_lda(communities, counts, 'nodes_until_november')"
   ]
  },
  {
   "cell_type": "code",
   "execution_count": 78,
   "id": "b0af4467",
   "metadata": {},
   "outputs": [],
   "source": [
    "def posts_lda(communities, counts, table_name):\n",
    "    for community, count in zip(communities, counts):\n",
    "        sql = f'select node_id from {table_name} where community_id_fastgreedy_is = {community}'\n",
    "        result_df = cn.select_query_result_to_df(sql)\n",
    "        authors = np.array(result_df['node_id'].astype(str).values.tolist())\n",
    "\n",
    "        length = len(authors)\n",
    "\n",
    "        doc = []\n",
    "\n",
    "        for i in range(length):\n",
    "            sql2 = f\"select distinct p.post_key, p.title from posts p, comments c where p.post_key = c.link_key and c.author = '{authors[i]}' and c.link_key = c.parent_key and p.is_valid_author=1 and MONTH(p.created_utc) <> 12;\";\n",
    "            result_df2 = cn.select_query_result_to_df(sql2)\n",
    "            if not result_df2.empty:\n",
    "                titles = np.array(result_df2['title'].astype(str).values.tolist())\n",
    "                doc.extend(titles)\n",
    "        \n",
    "        corpus = doc\n",
    "        \n",
    "        # clean data stored in a new list\n",
    "        clean_corpus = [clean(doc).split() for doc in corpus]\n",
    "        dictionary = corpora.Dictionary(clean_corpus)\n",
    "        corpus = [dictionary.doc2bow(text) for text in clean_corpus]\n",
    "        \n",
    "        if count >= 10000:\n",
    "            num_topics = 10\n",
    "        elif count >= 1000:\n",
    "            num_topics = 5\n",
    "        elif count >= 100:\n",
    "            num_topics = 4\n",
    "        else:\n",
    "            num_topics = 3\n",
    "            \n",
    "        ldamodel = gensim.models.LdaMulticore(corpus, id2word=dictionary, num_topics=num_topics, passes=10)\n",
    "        x=ldamodel.show_topics(num_topics=num_topics, num_words=25,formatted=False)\n",
    "        \n",
    "        topics_words = [(tp[0], [wd[0] for wd in tp[1]]) for tp in x]\n",
    "        \n",
    "        f = open(f\"/home/mykim/source/plotting-and-graph-analysis/lda/3_to_5_topics/posts/{table_name}/lda_{num_topics}_topics_community_{community}_posts_{table_name}.csv\", 'w')\n",
    "        out = csv.writer(f, delimiter=\",\")\n",
    "        out.writerow(['topic', 'topic_words'])\n",
    "        for topic, words in topics_words:\n",
    "            out.writerow([topic, words])\n",
    "        f.close()"
   ]
  },
  {
   "cell_type": "code",
   "execution_count": 79,
   "id": "f768fac9",
   "metadata": {},
   "outputs": [],
   "source": [
    "posts_lda(communities, counts, 'nodes_until_november')"
   ]
  },
  {
   "cell_type": "code",
   "execution_count": null,
   "id": "178687b6",
   "metadata": {},
   "outputs": [],
   "source": []
  }
 ],
 "metadata": {
  "kernelspec": {
   "display_name": "Python 3 (ipykernel)",
   "language": "python",
   "name": "python3"
  },
  "language_info": {
   "codemirror_mode": {
    "name": "ipython",
    "version": 3
   },
   "file_extension": ".py",
   "mimetype": "text/x-python",
   "name": "python",
   "nbconvert_exporter": "python",
   "pygments_lexer": "ipython3",
   "version": "3.8.10"
  }
 },
 "nbformat": 4,
 "nbformat_minor": 5
}
