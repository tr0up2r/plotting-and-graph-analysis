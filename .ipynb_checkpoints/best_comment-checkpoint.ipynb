{
 "cells": [
  {
   "cell_type": "code",
   "execution_count": 11,
   "id": "837bb213",
   "metadata": {},
   "outputs": [],
   "source": [
    "# For using custom module.\n",
    "import sys\n",
    "sys.path.append('../custom_library')"
   ]
  },
  {
   "cell_type": "code",
   "execution_count": 12,
   "id": "ff0505c0",
   "metadata": {},
   "outputs": [],
   "source": [
    "import connect_to_db as cn\n",
    "import numpy as np\n",
    "import parmap"
   ]
  },
  {
   "cell_type": "code",
   "execution_count": 25,
   "id": "98efa5e7",
   "metadata": {},
   "outputs": [],
   "source": [
    "def best_comment_main(index):\n",
    "    sql = f'select post_key from about_posts;'\n",
    "    result_df = cn.select_query_result_to_df(sql)\n",
    "    post_keys = np.array(result_df['post_key'].astype(str).values.tolist())\n",
    "    \n",
    "    result_for_csv = []\n",
    "    \n",
    "    if index % 100000 == 0:\n",
    "        start_index = index - 100000\n",
    "    else:\n",
    "        start_index = index - (index % 100000)\n",
    "        \n",
    "    for i in range(start_index, index):\n",
    "        sql = f\"select link_key, comment_key, author, score, is_score, es_score from comments where score= (select max(score) from comments where link_key='{post_keys[i]}' and link_key=parent_key and is_valid=1 and is_valid_author=1) and link_key='{post_keys[i]}' and link_key=parent_key and is_valid=1 and is_valid_author=1;\"\n",
    "        result_df = cn.select_query_result_to_df(sql)\n",
    "        \n",
    "        best_comment_cnt = len(result_df)\n",
    "        \n",
    "        for i in range(best_comment_cnt):\n",
    "            result = result_df.iloc[i]\n",
    "            result_for_csv.append([result['link_key'], result['comment_key'], result['author'], result['score'], result['is_score'], result['es_score']])\n",
    "            \n",
    "    fields = ['post_key', 'comment_key', 'comment_author', 'comment_score', 'is_score', 'es_score']\n",
    "    cn.write_csv_for_db_update(f\"post_best_comment_{index}.csv\", fields, result_for_csv)"
   ]
  },
  {
   "cell_type": "code",
   "execution_count": 26,
   "id": "9ce1ce2d",
   "metadata": {},
   "outputs": [
    {
     "name": "stderr",
     "output_type": "stream",
     "text": [
      "100%|██████████| 8/8 [04:18<00:00, 32.30s/it] \n"
     ]
    }
   ],
   "source": [
    "index_list = [100000, 200000, 300000, 400000, 500000, 600000, 700000, 712509]\n",
    "\n",
    "if __name__ == '__main__':\n",
    "    # multi processing.\n",
    "    parmap.map(best_comment_main, index_list, pm_pbar=True, pm_processes=8)"
   ]
  }
 ],
 "metadata": {
  "kernelspec": {
   "display_name": "Python 3 (ipykernel)",
   "language": "python",
   "name": "python3"
  },
  "language_info": {
   "codemirror_mode": {
    "name": "ipython",
    "version": 3
   },
   "file_extension": ".py",
   "mimetype": "text/x-python",
   "name": "python",
   "nbconvert_exporter": "python",
   "pygments_lexer": "ipython3",
   "version": "3.8.10"
  }
 },
 "nbformat": 4,
 "nbformat_minor": 5
}
