{
 "cells": [
  {
   "cell_type": "code",
   "execution_count": 2,
   "id": "d1aaf2dd",
   "metadata": {},
   "outputs": [],
   "source": [
    "import pymysql.cursors\n",
    "import pandas as pd\n",
    "import numpy as np\n",
    "import connect_to_db as cn\n",
    "from scipy.stats import entropy\n",
    "import math\n",
    "import csv\n",
    "import parmap\n",
    "import random"
   ]
  },
  {
   "cell_type": "code",
   "execution_count": 54,
   "id": "5842b250",
   "metadata": {},
   "outputs": [
    {
     "data": {
      "text/plain": [
       "21370"
      ]
     },
     "execution_count": 54,
     "metadata": {},
     "output_type": "execute_result"
    }
   ],
   "source": [
    "sql = \"select distinct community_id_fastgreedy_is community_id from nodes order by community_id;\"\n",
    "communities_df = cn.select_query_result_to_df(sql)\n",
    "communities = list(np.array(communities_df['community_id'].tolist()))\n",
    "len(communities)"
   ]
  },
  {
   "cell_type": "code",
   "execution_count": 55,
   "id": "95bc1e64",
   "metadata": {},
   "outputs": [],
   "source": [
    "# multi processing 시, 병목 현상을 최소화하기 위해 community_id를 shuffle.\n",
    "random.sample(communities, len(communities))\n",
    "communities = sorted(communities, key=lambda k: random.random())"
   ]
  },
  {
   "cell_type": "code",
   "execution_count": 34,
   "id": "ee4cc064",
   "metadata": {},
   "outputs": [],
   "source": [
    "def combination(n, r):\n",
    "    f = math.factorial\n",
    "    return f(n) // f(r) // f(n-r)"
   ]
  },
  {
   "cell_type": "markdown",
   "id": "b91b3a58",
   "metadata": {},
   "source": [
    "# WRONG METHOD"
   ]
  },
  {
   "cell_type": "code",
   "execution_count": 90,
   "id": "1da08e81",
   "metadata": {},
   "outputs": [],
   "source": [
    "def subreddit_per_community_main_wrong(index):\n",
    "    if index % 2000 == 0:\n",
    "        start_index = index - 2000\n",
    "    else:\n",
    "        start_index = index - (index % 2000)\n",
    "    \n",
    "    result_for_csv = []\n",
    "    \n",
    "    for i in range(start_index, index):\n",
    "        sql = f\"select subreddit_key, cast(sum(cnt) as signed) sum from (select subreddit_key, count(subreddit_key) as cnt from comments c inner join nodes n on c.author = n.node_id where n.community_id_fastgreedy_is = {communities[i]} and c.link_key = c.parent_key and c.is_valid = 1 group by subreddit_key union all select subreddit_key, count(subreddit_key) cnt from posts p inner join nodes n on p.author = n.node_id where n.community_id_fastgreedy_is = {communities[i]} and p.is_valid=1 group by subreddit_key) a group by subreddit_key;\"\n",
    "        subreddit_df = cn.select_query_result_to_df(sql)\n",
    "        subreddit = list(np.array(subreddit_df['subreddit_key'].tolist()))\n",
    "        subreddit_count = list(np.array(subreddit_df['sum'].tolist()))\n",
    "\n",
    "        # The number of subreddit by community\n",
    "        subreddits = len(subreddit)\n",
    "\n",
    "        # The number of comments and posts by subreddit by community\n",
    "        # 하나의 subreddit에만 comments, posts가 작성되었으면 entropy는 0으로 set.\n",
    "        if subreddits == 1:\n",
    "            subreddit_entropy = 0\n",
    "        else:\n",
    "            subreddit_entropy = entropy(subreddit_count, base=subreddits)\n",
    "\n",
    "        # idk value name...\n",
    "        combination_sum = 0\n",
    "        for count in subreddit_count:\n",
    "            if count > 1:\n",
    "                combination_sum += combination(count, 2)\n",
    "        value = combination_sum / combination(sum(subreddit_count), 2)\n",
    "        \n",
    "        result_for_csv.append([communities[i], subreddits, subreddit_entropy, value])\n",
    "        \n",
    "    fields = ['community_id', 'subreddits', 'subreddit_entropy', 'value']\n",
    "    cn.write_csv_for_db_update(f\"/home/mykim/source/plotting-and-graph-analysis/subreddit/subreddit_analysis_{index}.csv\", fields, result_for_csv)"
   ]
  },
  {
   "cell_type": "markdown",
   "id": "40dfb647",
   "metadata": {},
   "source": [
    "# CORRECT METHOD"
   ]
  },
  {
   "cell_type": "code",
   "execution_count": 57,
   "id": "1de0b45c",
   "metadata": {},
   "outputs": [],
   "source": [
    "def subreddit_per_community_main(index):\n",
    "    if index % 2000 == 0:\n",
    "        start_index = index - 2000\n",
    "    else:\n",
    "        start_index = index - (index % 2000)\n",
    "    \n",
    "    result_for_csv = []\n",
    "    \n",
    "    for i in range(start_index, index):\n",
    "        sql = f\"select node_id from nodes where community_id_fastgreedy_is = {communities[i]};\"\n",
    "        nodes_df = cn.select_query_result_to_df(sql)\n",
    "        nodes = list(np.array(nodes_df['node_id'].tolist()))\n",
    "    \n",
    "        # query의 in 구문에 넣을 수 있도록 변형.\n",
    "        nodes = str(nodes)\n",
    "        nodes = nodes.lstrip('[')\n",
    "        nodes = nodes.rstrip(']')\n",
    "\n",
    "        # community의 user들이 서로 interaction한 comments, posts에 대해서만 subreddit count, entropy 구함.\n",
    "        sql2 = f\"select c.subreddit_key, count(*) from comments c inner join posts p on c.link_key = p.post_key where c.author in ({nodes}) and p.author in ({nodes}) and c.link_key = c.parent_key and c.is_valid=1 group by c.subreddit_key;\"\n",
    "        subreddit_df = cn.select_query_result_to_df(sql2)\n",
    "    \n",
    "        # the number of subreddit by community\n",
    "        subreddit = list(np.array(subreddit_df['subreddit_key'].tolist()))\n",
    "        subreddits = len(subreddit)\n",
    "    \n",
    "        # entropy of subreddit by community\n",
    "        subreddit_count = list(np.array(subreddit_df['count(*)'].tolist()))\n",
    "        if subreddits == 1:\n",
    "            subreddit_entropy = 0\n",
    "        else:\n",
    "            subreddit_entropy = entropy(subreddit_count, base=subreddits)\n",
    "            \n",
    "        result_for_csv.append([communities[i], subreddits, subreddit_entropy])\n",
    "    \n",
    "    fields = ['community_id', 'subreddits', 'subreddit_entropy']\n",
    "    cn.write_csv_for_db_update(f\"/home/mykim/source/plotting-and-graph-analysis/subreddit/subreddit_analysis_{index}.csv\", fields, result_for_csv)"
   ]
  },
  {
   "cell_type": "code",
   "execution_count": 58,
   "id": "8aa75638",
   "metadata": {},
   "outputs": [
    {
     "ename": "NameError",
     "evalue": "name 'subreddit_per_community_main' is not defined",
     "output_type": "error",
     "traceback": [
      "\u001b[0;31m---------------------------------------------------------------------------\u001b[0m",
      "\u001b[0;31mNameError\u001b[0m                                 Traceback (most recent call last)",
      "\u001b[0;32m/tmp/ipykernel_3381096/4102564607.py\u001b[0m in \u001b[0;36m<module>\u001b[0;34m\u001b[0m\n\u001b[1;32m      3\u001b[0m \u001b[0;32mif\u001b[0m \u001b[0m__name__\u001b[0m \u001b[0;34m==\u001b[0m \u001b[0;34m'__main__'\u001b[0m\u001b[0;34m:\u001b[0m\u001b[0;34m\u001b[0m\u001b[0;34m\u001b[0m\u001b[0m\n\u001b[1;32m      4\u001b[0m     \u001b[0;31m# multi processing\u001b[0m\u001b[0;34m\u001b[0m\u001b[0;34m\u001b[0m\u001b[0;34m\u001b[0m\u001b[0m\n\u001b[0;32m----> 5\u001b[0;31m     \u001b[0mparmap\u001b[0m\u001b[0;34m.\u001b[0m\u001b[0mmap\u001b[0m\u001b[0;34m(\u001b[0m\u001b[0msubreddit_per_community_main\u001b[0m\u001b[0;34m,\u001b[0m \u001b[0mindex_list\u001b[0m\u001b[0;34m,\u001b[0m \u001b[0mpm_pbar\u001b[0m\u001b[0;34m=\u001b[0m\u001b[0;32mTrue\u001b[0m\u001b[0;34m,\u001b[0m \u001b[0mpm_processes\u001b[0m\u001b[0;34m=\u001b[0m\u001b[0;36m11\u001b[0m\u001b[0;34m)\u001b[0m\u001b[0;34m\u001b[0m\u001b[0;34m\u001b[0m\u001b[0m\n\u001b[0m",
      "\u001b[0;31mNameError\u001b[0m: name 'subreddit_per_community_main' is not defined"
     ]
    }
   ],
   "source": [
    "index_list = [2000, 4000, 6000, 8000, 10000, 12000, 14000, 16000, 18000, 20000, 21370]\n",
    "\n",
    "if __name__ == '__main__':\n",
    "    # multi processing\n",
    "    parmap.map(subreddit_per_community_main, index_list, pm_pbar=True, pm_processes=11)"
   ]
  },
  {
   "cell_type": "code",
   "execution_count": null,
   "id": "c27f7d7f",
   "metadata": {},
   "outputs": [],
   "source": []
  }
 ],
 "metadata": {
  "kernelspec": {
   "display_name": "Python 3 (ipykernel)",
   "language": "python",
   "name": "python3"
  },
  "language_info": {
   "codemirror_mode": {
    "name": "ipython",
    "version": 3
   },
   "file_extension": ".py",
   "mimetype": "text/x-python",
   "name": "python",
   "nbconvert_exporter": "python",
   "pygments_lexer": "ipython3",
   "version": "3.8.10"
  }
 },
 "nbformat": 4,
 "nbformat_minor": 5
}
