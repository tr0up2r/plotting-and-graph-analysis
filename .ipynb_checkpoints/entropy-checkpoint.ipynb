{
 "cells": [
  {
   "cell_type": "code",
   "execution_count": 6,
   "id": "9715c0cf",
   "metadata": {},
   "outputs": [],
   "source": [
    "import pymysql.cursors\n",
    "import pandas as pd\n",
    "import numpy as np\n",
    "import connect_to_db as cn\n",
    "import json\n",
    "from scipy.stats import entropy\n",
    "import math\n",
    "import csv\n",
    "import parmap"
   ]
  },
  {
   "cell_type": "code",
   "execution_count": 7,
   "id": "7c1e695e",
   "metadata": {},
   "outputs": [],
   "source": [
    "# select query를 날려서 가져온 result를 DataFrame으로 반환하는 function.\n",
    "def select_query_result_to_df(sql):\n",
    "    connection = cn.make_connection('connection.csv')\n",
    "    cursor = connection.cursor(pymysql.cursors.DictCursor)\n",
    "    cursor.execute(sql)\n",
    "    result = cursor.fetchall()\n",
    "    connection.close()\n",
    "    \n",
    "    result_df = pd.DataFrame(result)\n",
    "    \n",
    "    return result_df"
   ]
  },
  {
   "cell_type": "code",
   "execution_count": 8,
   "id": "61d795c5",
   "metadata": {},
   "outputs": [],
   "source": [
    "def extract_scores(author):\n",
    "    connection = cn.make_connection('connection.csv')\n",
    "\n",
    "    cursors1 = []\n",
    "    sqls1 = []\n",
    "    results1 = []\n",
    "    result_list1 = []\n",
    "    for i in range(6):\n",
    "        cursors1.append(connection.cursor(pymysql.cursors.DictCursor))\n",
    "\n",
    "        sqls1.append(f\"select count(*) from comments where author='{author}' and is_score = 1 and link_key = parent_key;\")\n",
    "        sqls1.append(f\"select count(*) from comments where author='{author}' and is_score = 2 and link_key = parent_key;\")\n",
    "        sqls1.append(f\"select count(*) from comments where author='{author}' and is_score = 3 and link_key = parent_key;\")\n",
    "        sqls1.append(f\"select count(*) from comments where author='{author}' and es_score = 1 and link_key = parent_key;\")\n",
    "        sqls1.append(f\"select count(*) from comments where author='{author}' and es_score = 2 and link_key = parent_key;\")\n",
    "        sqls1.append(f\"select count(*) from comments where author='{author}' and es_score = 3 and link_key = parent_key;\")\n",
    "\n",
    "    for i in range(6):\n",
    "        cursors1[i].execute(sqls1[i])\n",
    "        # result가 dict 형태로 return.\n",
    "        results1.append(cursors1[i].fetchall())\n",
    "\n",
    "    connection.close()\n",
    "    \n",
    "    is_score = []\n",
    "    es_score = []\n",
    "\n",
    "    for i in range(6):\n",
    "        results1[i] = pd.DataFrame(results1[i])\n",
    "        if i < 3:\n",
    "            is_score.extend(list(np.array(results1[i]['count(*)'])))\n",
    "        else:\n",
    "            es_score.extend(list(np.array(results1[i]['count(*)'])))\n",
    "    \n",
    "    is_score_entropy = entropy(is_score, base=3)\n",
    "    es_score_entropy = entropy(es_score, base=3)\n",
    "    \n",
    "    # is_score_normalized_entropy = entropy(is_score) / math.log(3)\n",
    "    # es_score_normalized_entropy = entropy(es_score) / math.log(3)\n",
    "    \n",
    "    return [author, is_score_entropy, es_score_entropy]"
   ]
  },
  {
   "cell_type": "code",
   "execution_count": 9,
   "id": "c8c65226",
   "metadata": {},
   "outputs": [],
   "source": [
    "def write_entropy_csv(result_list, end_index):\n",
    "    fields = ['author', 'is_score_entropy', 'es_score_entropy']\n",
    "    filename = f\"entropy_{end_index}.csv\"\n",
    "    with open(filename, 'w', newline='') as f:\n",
    "        write = csv.writer(f)\n",
    "        write.writerow(fields)\n",
    "        write.writerows(result_list)"
   ]
  },
  {
   "cell_type": "code",
   "execution_count": 10,
   "id": "12b46163",
   "metadata": {},
   "outputs": [],
   "source": [
    "def entropy_main(index):\n",
    "    sql = f'select author from mentor where is_valid = 1 and is_score_entropy is null;'\n",
    "    result_df = select_query_result_to_df(sql)\n",
    "    authors = np.array(result_df['author'].astype(str).values.tolist())\n",
    "    \n",
    "    if index % 100000 == 0:\n",
    "        start_index = index - 100000\n",
    "    else:\n",
    "        start_index = index - (index % 100000)\n",
    "        \n",
    "    result_for_csv = []\n",
    "\n",
    "    for i in range(start_index, index):\n",
    "        result_for_csv.append(extract_scores(authors[i]))\n",
    "    \n",
    "    write_entropy_csv(result_for_csv, index)"
   ]
  },
  {
   "cell_type": "code",
   "execution_count": 11,
   "id": "de14dbde",
   "metadata": {},
   "outputs": [
    {
     "name": "stderr",
     "output_type": "stream",
     "text": [
      "100%|██████████| 5/5 [07:46<00:00, 93.25s/it] \n"
     ]
    }
   ],
   "source": [
    "# index_list = [100000, 200000, 300000, 400000, 500000, 594997]\n",
    "index_list = [100000, 200000, 300000, 400000, 466621]\n",
    "\n",
    "if __name__ == '__main__':\n",
    "    # multi processing\n",
    "    parmap.map(entropy_main, index_list, pm_pbar=True, pm_processes=5)"
   ]
  }
 ],
 "metadata": {
  "kernelspec": {
   "display_name": "Python 3 (ipykernel)",
   "language": "python",
   "name": "python3"
  },
  "language_info": {
   "codemirror_mode": {
    "name": "ipython",
    "version": 3
   },
   "file_extension": ".py",
   "mimetype": "text/x-python",
   "name": "python",
   "nbconvert_exporter": "python",
   "pygments_lexer": "ipython3",
   "version": "3.8.10"
  }
 },
 "nbformat": 4,
 "nbformat_minor": 5
}
