{
 "cells": [
  {
   "cell_type": "code",
   "execution_count": 50,
   "id": "bd7ed826",
   "metadata": {},
   "outputs": [],
   "source": [
    "import re\n",
    "import spacy\n",
    "from nltk.corpus import stopwords \n",
    "from nltk.stem.wordnet import WordNetLemmatizer\n",
    "import string\n",
    "from sklearn.feature_extraction.text import TfidfVectorizer, CountVectorizer\n",
    "import numpy as np\n",
    "from sklearn.decomposition import LatentDirichletAllocation\n",
    "import pandas as pd\n",
    "import sys  \n",
    "import connect_to_db as cn\n",
    "from gensim import corpora\n",
    "import gensim\n",
    "import csv\n",
    "import parmap"
   ]
  },
  {
   "cell_type": "code",
   "execution_count": 44,
   "id": "ce8ad620",
   "metadata": {},
   "outputs": [],
   "source": [
    "# to suppress warnings\n",
    "from warnings import filterwarnings\n",
    "filterwarnings('ignore')"
   ]
  },
  {
   "cell_type": "code",
   "execution_count": 69,
   "id": "1513fb22",
   "metadata": {},
   "outputs": [],
   "source": [
    "nlp = spacy.load('en_core_web_sm')\n",
    "\n",
    "# stop loss words \n",
    "stop = set(stopwords.words('english'))\n",
    "\n",
    "# punctuation, 구두점 제거.\n",
    "exclude = set(string.punctuation) \n",
    "\n",
    "# lemmatization, 표제어 추출. (am, are, is -> be, ed, s 등 제거.)\n",
    "lemma = WordNetLemmatizer() \n",
    "\n",
    "# One function for all the steps:\n",
    "def clean(doc):\n",
    "    \n",
    "    # convert text into lower case + split into words\n",
    "    stop_free = \" \".join([i for i in doc.lower().split() if i not in stop])\n",
    "    \n",
    "    # remove any stop words present\n",
    "    punc_free = ''.join(ch for ch in stop_free if ch not in exclude)  \n",
    "    \n",
    "    # remove punctuations + normalize the text\n",
    "    normalized = \" \".join(lemma.lemmatize(word) for word in punc_free.split())\n",
    "                \n",
    "    return normalized"
   ]
  },
  {
   "cell_type": "code",
   "execution_count": 160,
   "id": "b2c30526",
   "metadata": {},
   "outputs": [],
   "source": [
    "custom_stop_words = [\"im\", \"going\", \"would\", \"like\", \"cant\", \"donâ€™t\", \"canâ€™t\", \"iâ€™ve\", \"iâ€™m\", \"me\", \"someone\", \"whatâ€™s\", \"it\", \"really\", \"feel\", \"live\", \"like\", \"fucking\", \"myself\", \"another\", \"help\", \"got\", \"get\", \"dont\", \"want\", \"anymore\", \"know\", \"make\", \"self\", \"everything\", \"see\", \"else\", \"oh\", \"there\", \"thing\", \"wanna\", \"wouldnâ€™t\", \"might\", \"itâ€™s\", \"didnâ€™t\", \"yâ€™all\", \"do\", \"anyone\", \"people\"]\n",
    "\n",
    "def extract_custom_stop_words(word_lists):\n",
    "    for word_list in word_lists:\n",
    "        stops = []\n",
    "        for word in word_list:\n",
    "            # 단어가 custom stop words에 속하거나, 숫자거나, 알파벳 하나일 경우 제거.\n",
    "            if word in custom_stop_words or word.isdigit() or len(word) == 1:\n",
    "                stops.append(word)\n",
    "        \n",
    "        for stop in stops:\n",
    "            word_list.remove(stop)\n",
    "            \n",
    "        # list가 stop words 제거로 인해 비었는지 확인.\n",
    "        if not word_list:\n",
    "            word_lists.remove(word_list)\n",
    "\n",
    "    return word_lists"
   ]
  },
  {
   "cell_type": "code",
   "execution_count": 158,
   "id": "e67937c8",
   "metadata": {},
   "outputs": [],
   "source": [
    "def save_topic_words_csv(table_name, community, count):\n",
    "    sql = f'select node_id from {table_name} where community_id_fastgreedy_is = {community}'\n",
    "    result_df = cn.select_query_result_to_df(sql)\n",
    "    authors = np.array(result_df['node_id'].astype(str).values.tolist())\n",
    "\n",
    "    length = len(authors)\n",
    "\n",
    "    doc = []\n",
    "\n",
    "    for i in range(length):\n",
    "        sql2 = f\"select distinct p.post_key, p.title from posts p, comments c where p.post_key = c.link_key and c.author = '{authors[i]}' and c.link_key = c.parent_key and p.is_valid_author=1 and MONTH(p.created_utc) <> 12;\";\n",
    "        result_df2 = cn.select_query_result_to_df(sql2)\n",
    "        if not result_df2.empty:\n",
    "            titles = np.array(result_df2['title'].astype(str).values.tolist())\n",
    "            doc.extend(titles)\n",
    "        \n",
    "    corpus = doc\n",
    "        \n",
    "    # clean data stored in a new list\n",
    "    clean_corpus = [clean(doc).split() for doc in corpus]\n",
    "    # custom stop words 제거.\n",
    "    clean_corpus = extract_custom_stop_words(clean_corpus)\n",
    "    dictionary = corpora.Dictionary(clean_corpus)\n",
    "    corpus = [dictionary.doc2bow(text) for text in clean_corpus]\n",
    "        \n",
    "    if count >= 10000:\n",
    "        num_topics = 10\n",
    "    elif count >= 1000:\n",
    "        num_topics = 5\n",
    "    elif count >= 100:\n",
    "        num_topics = 4\n",
    "    else:\n",
    "        num_topics = 3\n",
    "     \n",
    "    # 결과가 매번 다르게 나오는 것을 방지하기 위한 seed 고정.\n",
    "    SOME_FIXED_SEED = 5\n",
    "    np.random.seed(SOME_FIXED_SEED)\n",
    "\n",
    "    ldamodel = gensim.models.LdaMulticore(corpus, id2word=dictionary, num_topics=num_topics, passes=10)\n",
    "    x=ldamodel.show_topics(num_topics=num_topics, num_words=40,formatted=False)\n",
    "    topics_words = [[wd[0] for wd in tp[1]] for tp in x]\n",
    "    topics_words_weights = [[wd[1] for wd in tp[1]] for tp in x]    \n",
    "    \n",
    "    words_df = pd.DataFrame(topics_words)\n",
    "    weights_df = pd.DataFrame(topics_words_weights)\n",
    "    words_df.to_csv(f\"/home/mykim/source/plotting-and-graph-analysis/lda/topics_words_stop_words_removed/community_{community}_topics_40_words.csv\", header=None, index=None)\n",
    "    weights_df.to_csv(f\"/home/mykim/source/plotting-and-graph-analysis/lda/topics_words_weights_stop_words_removed/community_{community}_topics_40_weights.csv\", header=None, index=None)"
   ]
  },
  {
   "cell_type": "code",
   "execution_count": 120,
   "id": "ea3749b6",
   "metadata": {},
   "outputs": [],
   "source": [
    "sql = \"select community_id_fastgreedy_is, count(*) from nodes_until_november group by community_id_fastgreedy_is order by count(*) desc limit 105;\"\n",
    "result_df = cn.select_query_result_to_df(sql)\n",
    "communities = list(np.array(result_df['community_id_fastgreedy_is'].values.tolist()))\n",
    "counts = list(np.array(result_df['count(*)'].values.tolist()))"
   ]
  },
  {
   "cell_type": "code",
   "execution_count": 159,
   "id": "b5500c79",
   "metadata": {},
   "outputs": [
    {
     "ename": "KeyboardInterrupt",
     "evalue": "",
     "output_type": "error",
     "traceback": [
      "\u001b[0;31m---------------------------------------------------------------------------\u001b[0m",
      "\u001b[0;31mKeyboardInterrupt\u001b[0m                         Traceback (most recent call last)",
      "\u001b[0;32m/tmp/ipykernel_3176970/3181295885.py\u001b[0m in \u001b[0;36m<module>\u001b[0;34m\u001b[0m\n\u001b[1;32m      1\u001b[0m \u001b[0;32mfor\u001b[0m \u001b[0mcommunity\u001b[0m\u001b[0;34m,\u001b[0m \u001b[0mcount\u001b[0m \u001b[0;32min\u001b[0m \u001b[0mzip\u001b[0m\u001b[0;34m(\u001b[0m\u001b[0mcommunities\u001b[0m\u001b[0;34m,\u001b[0m \u001b[0mcounts\u001b[0m\u001b[0;34m)\u001b[0m\u001b[0;34m:\u001b[0m\u001b[0;34m\u001b[0m\u001b[0;34m\u001b[0m\u001b[0m\n\u001b[0;32m----> 2\u001b[0;31m     \u001b[0msave_topic_words_csv\u001b[0m\u001b[0;34m(\u001b[0m\u001b[0;34m'nodes_until_november'\u001b[0m\u001b[0;34m,\u001b[0m \u001b[0mcommunity\u001b[0m\u001b[0;34m,\u001b[0m \u001b[0mcount\u001b[0m\u001b[0;34m)\u001b[0m\u001b[0;34m\u001b[0m\u001b[0;34m\u001b[0m\u001b[0m\n\u001b[0m",
      "\u001b[0;32m/tmp/ipykernel_3176970/1359771431.py\u001b[0m in \u001b[0;36msave_topic_words_csv\u001b[0;34m(table_name, community, count)\u001b[0m\n\u001b[1;32m     10\u001b[0m     \u001b[0;32mfor\u001b[0m \u001b[0mi\u001b[0m \u001b[0;32min\u001b[0m \u001b[0mrange\u001b[0m\u001b[0;34m(\u001b[0m\u001b[0mlength\u001b[0m\u001b[0;34m)\u001b[0m\u001b[0;34m:\u001b[0m\u001b[0;34m\u001b[0m\u001b[0;34m\u001b[0m\u001b[0m\n\u001b[1;32m     11\u001b[0m         \u001b[0msql2\u001b[0m \u001b[0;34m=\u001b[0m \u001b[0;34mf\"select distinct p.post_key, p.title from posts p, comments c where p.post_key = c.link_key and c.author = '{authors[i]}' and c.link_key = c.parent_key and p.is_valid_author=1 and MONTH(p.created_utc) <> 12;\"\u001b[0m\u001b[0;34m;\u001b[0m\u001b[0;34m\u001b[0m\u001b[0;34m\u001b[0m\u001b[0m\n\u001b[0;32m---> 12\u001b[0;31m         \u001b[0mresult_df2\u001b[0m \u001b[0;34m=\u001b[0m \u001b[0mcn\u001b[0m\u001b[0;34m.\u001b[0m\u001b[0mselect_query_result_to_df\u001b[0m\u001b[0;34m(\u001b[0m\u001b[0msql2\u001b[0m\u001b[0;34m)\u001b[0m\u001b[0;34m\u001b[0m\u001b[0;34m\u001b[0m\u001b[0m\n\u001b[0m\u001b[1;32m     13\u001b[0m         \u001b[0;32mif\u001b[0m \u001b[0;32mnot\u001b[0m \u001b[0mresult_df2\u001b[0m\u001b[0;34m.\u001b[0m\u001b[0mempty\u001b[0m\u001b[0;34m:\u001b[0m\u001b[0;34m\u001b[0m\u001b[0;34m\u001b[0m\u001b[0m\n\u001b[1;32m     14\u001b[0m             \u001b[0mtitles\u001b[0m \u001b[0;34m=\u001b[0m \u001b[0mnp\u001b[0m\u001b[0;34m.\u001b[0m\u001b[0marray\u001b[0m\u001b[0;34m(\u001b[0m\u001b[0mresult_df2\u001b[0m\u001b[0;34m[\u001b[0m\u001b[0;34m'title'\u001b[0m\u001b[0;34m]\u001b[0m\u001b[0;34m.\u001b[0m\u001b[0mastype\u001b[0m\u001b[0;34m(\u001b[0m\u001b[0mstr\u001b[0m\u001b[0;34m)\u001b[0m\u001b[0;34m.\u001b[0m\u001b[0mvalues\u001b[0m\u001b[0;34m.\u001b[0m\u001b[0mtolist\u001b[0m\u001b[0;34m(\u001b[0m\u001b[0;34m)\u001b[0m\u001b[0;34m)\u001b[0m\u001b[0;34m\u001b[0m\u001b[0;34m\u001b[0m\u001b[0m\n",
      "\u001b[0;32m~/source/plotting-and-graph-analysis/connect_to_db.py\u001b[0m in \u001b[0;36mselect_query_result_to_df\u001b[0;34m(sql)\u001b[0m\n\u001b[1;32m     13\u001b[0m \u001b[0;31m# select query를 날려서 가져온 result를 DataFrame으로 반환하는 function.\u001b[0m\u001b[0;34m\u001b[0m\u001b[0;34m\u001b[0m\u001b[0;34m\u001b[0m\u001b[0m\n\u001b[1;32m     14\u001b[0m \u001b[0;32mdef\u001b[0m \u001b[0mselect_query_result_to_df\u001b[0m\u001b[0;34m(\u001b[0m\u001b[0msql\u001b[0m\u001b[0;34m)\u001b[0m\u001b[0;34m:\u001b[0m\u001b[0;34m\u001b[0m\u001b[0;34m\u001b[0m\u001b[0m\n\u001b[0;32m---> 15\u001b[0;31m     \u001b[0mconnection\u001b[0m \u001b[0;34m=\u001b[0m \u001b[0mmake_connection\u001b[0m\u001b[0;34m(\u001b[0m\u001b[0;34m'connection.csv'\u001b[0m\u001b[0;34m)\u001b[0m\u001b[0;34m\u001b[0m\u001b[0;34m\u001b[0m\u001b[0m\n\u001b[0m\u001b[1;32m     16\u001b[0m     \u001b[0mcursor\u001b[0m \u001b[0;34m=\u001b[0m \u001b[0mconnection\u001b[0m\u001b[0;34m.\u001b[0m\u001b[0mcursor\u001b[0m\u001b[0;34m(\u001b[0m\u001b[0mpymysql\u001b[0m\u001b[0;34m.\u001b[0m\u001b[0mcursors\u001b[0m\u001b[0;34m.\u001b[0m\u001b[0mDictCursor\u001b[0m\u001b[0;34m)\u001b[0m\u001b[0;34m\u001b[0m\u001b[0;34m\u001b[0m\u001b[0m\n\u001b[1;32m     17\u001b[0m     \u001b[0mcursor\u001b[0m\u001b[0;34m.\u001b[0m\u001b[0mexecute\u001b[0m\u001b[0;34m(\u001b[0m\u001b[0msql\u001b[0m\u001b[0;34m)\u001b[0m\u001b[0;34m\u001b[0m\u001b[0;34m\u001b[0m\u001b[0m\n",
      "\u001b[0;32m~/source/plotting-and-graph-analysis/connect_to_db.py\u001b[0m in \u001b[0;36mmake_connection\u001b[0;34m(cn_csv)\u001b[0m\n\u001b[1;32m      5\u001b[0m \u001b[0;32mdef\u001b[0m \u001b[0mmake_connection\u001b[0m\u001b[0;34m(\u001b[0m\u001b[0mcn_csv\u001b[0m\u001b[0;34m)\u001b[0m\u001b[0;34m:\u001b[0m\u001b[0;34m\u001b[0m\u001b[0;34m\u001b[0m\u001b[0m\n\u001b[1;32m      6\u001b[0m     \u001b[0mcn\u001b[0m \u001b[0;34m=\u001b[0m \u001b[0mpd\u001b[0m\u001b[0;34m.\u001b[0m\u001b[0mread_csv\u001b[0m\u001b[0;34m(\u001b[0m\u001b[0;34m'connection.csv'\u001b[0m\u001b[0;34m)\u001b[0m\u001b[0;34m\u001b[0m\u001b[0;34m\u001b[0m\u001b[0m\n\u001b[0;32m----> 7\u001b[0;31m     connection = pymysql.connect(host=cn['host'][0], port=int(cn['port'][0]),\n\u001b[0m\u001b[1;32m      8\u001b[0m                                  \u001b[0muser\u001b[0m\u001b[0;34m=\u001b[0m\u001b[0mcn\u001b[0m\u001b[0;34m[\u001b[0m\u001b[0;34m'user'\u001b[0m\u001b[0;34m]\u001b[0m\u001b[0;34m[\u001b[0m\u001b[0;36m0\u001b[0m\u001b[0;34m]\u001b[0m\u001b[0;34m,\u001b[0m \u001b[0mpassword\u001b[0m\u001b[0;34m=\u001b[0m\u001b[0mcn\u001b[0m\u001b[0;34m[\u001b[0m\u001b[0;34m'password'\u001b[0m\u001b[0;34m]\u001b[0m\u001b[0;34m[\u001b[0m\u001b[0;36m0\u001b[0m\u001b[0;34m]\u001b[0m\u001b[0;34m,\u001b[0m\u001b[0;34m\u001b[0m\u001b[0;34m\u001b[0m\u001b[0m\n\u001b[1;32m      9\u001b[0m                                  db=cn['db'][0], charset=cn['charset'][0])\n",
      "\u001b[0;32m~/.local/lib/python3.8/site-packages/pymysql/connections.py\u001b[0m in \u001b[0;36m__init__\u001b[0;34m(self, user, password, host, database, unix_socket, port, charset, sql_mode, read_default_file, conv, use_unicode, client_flag, cursorclass, init_command, connect_timeout, read_default_group, autocommit, local_infile, max_allowed_packet, defer_connect, auth_plugin_map, read_timeout, write_timeout, bind_address, binary_prefix, program_name, server_public_key, ssl, ssl_ca, ssl_cert, ssl_disabled, ssl_key, ssl_verify_cert, ssl_verify_identity, compress, named_pipe, passwd, db)\u001b[0m\n\u001b[1;32m    351\u001b[0m             \u001b[0mself\u001b[0m\u001b[0;34m.\u001b[0m\u001b[0m_sock\u001b[0m \u001b[0;34m=\u001b[0m \u001b[0;32mNone\u001b[0m\u001b[0;34m\u001b[0m\u001b[0;34m\u001b[0m\u001b[0m\n\u001b[1;32m    352\u001b[0m         \u001b[0;32melse\u001b[0m\u001b[0;34m:\u001b[0m\u001b[0;34m\u001b[0m\u001b[0;34m\u001b[0m\u001b[0m\n\u001b[0;32m--> 353\u001b[0;31m             \u001b[0mself\u001b[0m\u001b[0;34m.\u001b[0m\u001b[0mconnect\u001b[0m\u001b[0;34m(\u001b[0m\u001b[0;34m)\u001b[0m\u001b[0;34m\u001b[0m\u001b[0;34m\u001b[0m\u001b[0m\n\u001b[0m\u001b[1;32m    354\u001b[0m \u001b[0;34m\u001b[0m\u001b[0m\n\u001b[1;32m    355\u001b[0m     \u001b[0;32mdef\u001b[0m \u001b[0m__enter__\u001b[0m\u001b[0;34m(\u001b[0m\u001b[0mself\u001b[0m\u001b[0;34m)\u001b[0m\u001b[0;34m:\u001b[0m\u001b[0;34m\u001b[0m\u001b[0;34m\u001b[0m\u001b[0m\n",
      "\u001b[0;32m~/.local/lib/python3.8/site-packages/pymysql/connections.py\u001b[0m in \u001b[0;36mconnect\u001b[0;34m(self, sock)\u001b[0m\n\u001b[1;32m    630\u001b[0m             \u001b[0mself\u001b[0m\u001b[0;34m.\u001b[0m\u001b[0m_next_seq_id\u001b[0m \u001b[0;34m=\u001b[0m \u001b[0;36m0\u001b[0m\u001b[0;34m\u001b[0m\u001b[0;34m\u001b[0m\u001b[0m\n\u001b[1;32m    631\u001b[0m \u001b[0;34m\u001b[0m\u001b[0m\n\u001b[0;32m--> 632\u001b[0;31m             \u001b[0mself\u001b[0m\u001b[0;34m.\u001b[0m\u001b[0m_get_server_information\u001b[0m\u001b[0;34m(\u001b[0m\u001b[0;34m)\u001b[0m\u001b[0;34m\u001b[0m\u001b[0;34m\u001b[0m\u001b[0m\n\u001b[0m\u001b[1;32m    633\u001b[0m             \u001b[0mself\u001b[0m\u001b[0;34m.\u001b[0m\u001b[0m_request_authentication\u001b[0m\u001b[0;34m(\u001b[0m\u001b[0;34m)\u001b[0m\u001b[0;34m\u001b[0m\u001b[0;34m\u001b[0m\u001b[0m\n\u001b[1;32m    634\u001b[0m \u001b[0;34m\u001b[0m\u001b[0m\n",
      "\u001b[0;32m~/.local/lib/python3.8/site-packages/pymysql/connections.py\u001b[0m in \u001b[0;36m_get_server_information\u001b[0;34m(self)\u001b[0m\n\u001b[1;32m   1053\u001b[0m     \u001b[0;32mdef\u001b[0m \u001b[0m_get_server_information\u001b[0m\u001b[0;34m(\u001b[0m\u001b[0mself\u001b[0m\u001b[0;34m)\u001b[0m\u001b[0;34m:\u001b[0m\u001b[0;34m\u001b[0m\u001b[0;34m\u001b[0m\u001b[0m\n\u001b[1;32m   1054\u001b[0m         \u001b[0mi\u001b[0m \u001b[0;34m=\u001b[0m \u001b[0;36m0\u001b[0m\u001b[0;34m\u001b[0m\u001b[0;34m\u001b[0m\u001b[0m\n\u001b[0;32m-> 1055\u001b[0;31m         \u001b[0mpacket\u001b[0m \u001b[0;34m=\u001b[0m \u001b[0mself\u001b[0m\u001b[0;34m.\u001b[0m\u001b[0m_read_packet\u001b[0m\u001b[0;34m(\u001b[0m\u001b[0;34m)\u001b[0m\u001b[0;34m\u001b[0m\u001b[0;34m\u001b[0m\u001b[0m\n\u001b[0m\u001b[1;32m   1056\u001b[0m         \u001b[0mdata\u001b[0m \u001b[0;34m=\u001b[0m \u001b[0mpacket\u001b[0m\u001b[0;34m.\u001b[0m\u001b[0mget_all_data\u001b[0m\u001b[0;34m(\u001b[0m\u001b[0;34m)\u001b[0m\u001b[0;34m\u001b[0m\u001b[0;34m\u001b[0m\u001b[0m\n\u001b[1;32m   1057\u001b[0m \u001b[0;34m\u001b[0m\u001b[0m\n",
      "\u001b[0;32m~/.local/lib/python3.8/site-packages/pymysql/connections.py\u001b[0m in \u001b[0;36m_read_packet\u001b[0;34m(self, packet_type)\u001b[0m\n\u001b[1;32m    690\u001b[0m         \u001b[0mbuff\u001b[0m \u001b[0;34m=\u001b[0m \u001b[0mbytearray\u001b[0m\u001b[0;34m(\u001b[0m\u001b[0;34m)\u001b[0m\u001b[0;34m\u001b[0m\u001b[0;34m\u001b[0m\u001b[0m\n\u001b[1;32m    691\u001b[0m         \u001b[0;32mwhile\u001b[0m \u001b[0;32mTrue\u001b[0m\u001b[0;34m:\u001b[0m\u001b[0;34m\u001b[0m\u001b[0;34m\u001b[0m\u001b[0m\n\u001b[0;32m--> 692\u001b[0;31m             \u001b[0mpacket_header\u001b[0m \u001b[0;34m=\u001b[0m \u001b[0mself\u001b[0m\u001b[0;34m.\u001b[0m\u001b[0m_read_bytes\u001b[0m\u001b[0;34m(\u001b[0m\u001b[0;36m4\u001b[0m\u001b[0;34m)\u001b[0m\u001b[0;34m\u001b[0m\u001b[0;34m\u001b[0m\u001b[0m\n\u001b[0m\u001b[1;32m    693\u001b[0m             \u001b[0;31m# if DEBUG: dump_packet(packet_header)\u001b[0m\u001b[0;34m\u001b[0m\u001b[0;34m\u001b[0m\u001b[0;34m\u001b[0m\u001b[0m\n\u001b[1;32m    694\u001b[0m \u001b[0;34m\u001b[0m\u001b[0m\n",
      "\u001b[0;32m~/.local/lib/python3.8/site-packages/pymysql/connections.py\u001b[0m in \u001b[0;36m_read_bytes\u001b[0;34m(self, num_bytes)\u001b[0m\n\u001b[1;32m    730\u001b[0m         \u001b[0;32mwhile\u001b[0m \u001b[0;32mTrue\u001b[0m\u001b[0;34m:\u001b[0m\u001b[0;34m\u001b[0m\u001b[0;34m\u001b[0m\u001b[0m\n\u001b[1;32m    731\u001b[0m             \u001b[0;32mtry\u001b[0m\u001b[0;34m:\u001b[0m\u001b[0;34m\u001b[0m\u001b[0;34m\u001b[0m\u001b[0m\n\u001b[0;32m--> 732\u001b[0;31m                 \u001b[0mdata\u001b[0m \u001b[0;34m=\u001b[0m \u001b[0mself\u001b[0m\u001b[0;34m.\u001b[0m\u001b[0m_rfile\u001b[0m\u001b[0;34m.\u001b[0m\u001b[0mread\u001b[0m\u001b[0;34m(\u001b[0m\u001b[0mnum_bytes\u001b[0m\u001b[0;34m)\u001b[0m\u001b[0;34m\u001b[0m\u001b[0;34m\u001b[0m\u001b[0m\n\u001b[0m\u001b[1;32m    733\u001b[0m                 \u001b[0;32mbreak\u001b[0m\u001b[0;34m\u001b[0m\u001b[0;34m\u001b[0m\u001b[0m\n\u001b[1;32m    734\u001b[0m             \u001b[0;32mexcept\u001b[0m \u001b[0;34m(\u001b[0m\u001b[0mIOError\u001b[0m\u001b[0;34m,\u001b[0m \u001b[0mOSError\u001b[0m\u001b[0;34m)\u001b[0m \u001b[0;32mas\u001b[0m \u001b[0me\u001b[0m\u001b[0;34m:\u001b[0m\u001b[0;34m\u001b[0m\u001b[0;34m\u001b[0m\u001b[0m\n",
      "\u001b[0;32m/usr/lib/python3.8/socket.py\u001b[0m in \u001b[0;36mreadinto\u001b[0;34m(self, b)\u001b[0m\n\u001b[1;32m    667\u001b[0m         \u001b[0;32mwhile\u001b[0m \u001b[0;32mTrue\u001b[0m\u001b[0;34m:\u001b[0m\u001b[0;34m\u001b[0m\u001b[0;34m\u001b[0m\u001b[0m\n\u001b[1;32m    668\u001b[0m             \u001b[0;32mtry\u001b[0m\u001b[0;34m:\u001b[0m\u001b[0;34m\u001b[0m\u001b[0;34m\u001b[0m\u001b[0m\n\u001b[0;32m--> 669\u001b[0;31m                 \u001b[0;32mreturn\u001b[0m \u001b[0mself\u001b[0m\u001b[0;34m.\u001b[0m\u001b[0m_sock\u001b[0m\u001b[0;34m.\u001b[0m\u001b[0mrecv_into\u001b[0m\u001b[0;34m(\u001b[0m\u001b[0mb\u001b[0m\u001b[0;34m)\u001b[0m\u001b[0;34m\u001b[0m\u001b[0;34m\u001b[0m\u001b[0m\n\u001b[0m\u001b[1;32m    670\u001b[0m             \u001b[0;32mexcept\u001b[0m \u001b[0mtimeout\u001b[0m\u001b[0;34m:\u001b[0m\u001b[0;34m\u001b[0m\u001b[0;34m\u001b[0m\u001b[0m\n\u001b[1;32m    671\u001b[0m                 \u001b[0mself\u001b[0m\u001b[0;34m.\u001b[0m\u001b[0m_timeout_occurred\u001b[0m \u001b[0;34m=\u001b[0m \u001b[0;32mTrue\u001b[0m\u001b[0;34m\u001b[0m\u001b[0;34m\u001b[0m\u001b[0m\n",
      "\u001b[0;31mKeyboardInterrupt\u001b[0m: "
     ]
    }
   ],
   "source": [
    "for community, count in zip(communities, counts):\n",
    "    save_topic_words_csv('nodes_until_november', community, count)"
   ]
  },
  {
   "cell_type": "code",
   "execution_count": 55,
   "id": "62bd7212",
   "metadata": {},
   "outputs": [],
   "source": [
    "def community_matching(sentence):\n",
    "    clean_corpus = clean(sentence).split()\n",
    "    \n",
    "    most_related_community = 0\n",
    "    largest_cosine_similarity = 0\n",
    "    \n",
    "    for community in communities:\n",
    "        with open(f\"/home/mykim/source/plotting-and-graph-analysis/lda/50_words/community_{community}_topics_50_words.csv\", newline='') as f:\n",
    "            reader = csv.reader(f)\n",
    "            topics = list(reader)\n",
    "            \n",
    "            for topic_words in topics:\n",
    "                count = 0\n",
    "                for word in clean_corpus:\n",
    "                    if word in topic_words:\n",
    "                        count +=1\n",
    "                        cosine_similarity = count / ((len(topic_words) ** 0.5) * (len(clean_corpus) ** 0.5))\n",
    "                        if cosine_similarity > largest_cosine_similarity:\n",
    "                            largest_cosine_similarity = cosine_similarity\n",
    "                            most_related_community = community\n",
    "    \n",
    "    return most_related_community"
   ]
  },
  {
   "cell_type": "code",
   "execution_count": 56,
   "id": "ffab2ecf",
   "metadata": {},
   "outputs": [],
   "source": [
    "def jaccard_coefficient_between_prediction_and_answer(post_key, predicted_community):\n",
    "    sql = f\"select author from comments where link_key = '{post_key}' and is_valid=1 and is_valid_author=1 and link_key = parent_key;\"\n",
    "    result_df = cn.select_query_result_to_df(sql)\n",
    "    if not result_df.empty:\n",
    "        authors = list(np.array(result_df['author'].values.tolist()))\n",
    "    else:\n",
    "        return -1\n",
    "    \n",
    "    sql2 = f\"select node_id from nodes_until_november where community_id_fastgreedy_is = {predicted_community};\"\n",
    "    result_df2 = cn.select_query_result_to_df(sql2)\n",
    "    predicted_authors = list(np.array(result_df2['node_id'].values.tolist()))\n",
    "    \n",
    "    count_a = len(authors)\n",
    "    count_pa = len(predicted_authors)\n",
    "    count_i = 0\n",
    "    \n",
    "    for author in authors:\n",
    "        if author in predicted_authors:\n",
    "            count_i += 1\n",
    "    \n",
    "    jaccard_coefficient = count_i / (count_a + count_pa - count_i)\n",
    "    \n",
    "    return jaccard_coefficient"
   ]
  },
  {
   "cell_type": "code",
   "execution_count": 57,
   "id": "4c1fed59",
   "metadata": {},
   "outputs": [],
   "source": [
    "def prediction_main(index):\n",
    "    sql = \"select post_key, title from posts where is_valid_author=1 and MONTH(created_utc) = 12;\"\n",
    "    result_df = cn.select_query_result_to_df(sql)\n",
    "    post_keys = list(np.array(result_df['post_key'].values.tolist()))\n",
    "    titles = list(np.array(result_df['title'].values.tolist()))\n",
    "\n",
    "    result_for_csv = []\n",
    "    \n",
    "    if index % 10000 == 0:\n",
    "        start_index = index - 10000\n",
    "    else:\n",
    "        start_index = index - (index % 10000)\n",
    "        \n",
    "    for i in range(start_index, index):\n",
    "        community = community_matching(titles[i])\n",
    "        jaccard_coefficient = jaccard_coefficient_between_prediction_and_answer(post_keys[i], community)\n",
    "        result_for_csv.append([post_keys[i], community, format(float(jaccard_coefficient), '.10f')])\n",
    "    \n",
    "    fields = ['post_key', 'predicted_community', 'jaccard_coefficient']\n",
    "    cn.write_csv_for_db_update(f\"/home/mykim/source/plotting-and-graph-analysis/lda/prediction/prediction_result_{index}.csv\", fields, result_for_csv)"
   ]
  },
  {
   "cell_type": "code",
   "execution_count": 58,
   "id": "1e3dea84",
   "metadata": {},
   "outputs": [
    {
     "name": "stderr",
     "output_type": "stream",
     "text": [
      "100%|██████████| 12/12 [1:02:33<00:00, 312.77s/it]\n"
     ]
    }
   ],
   "source": [
    "# post_count = 110037\n",
    "index_list = [10000, 20000, 30000, 40000, 50000, 60000, 70000, 80000, 90000, 100000, 110000, 110037]\n",
    "\n",
    "if __name__ == '__main__':\n",
    "    # multi processing.\n",
    "    parmap.map(prediction_main, index_list, pm_pbar=True, pm_processes=12)"
   ]
  }
 ],
 "metadata": {
  "kernelspec": {
   "display_name": "Python 3 (ipykernel)",
   "language": "python",
   "name": "python3"
  },
  "language_info": {
   "codemirror_mode": {
    "name": "ipython",
    "version": 3
   },
   "file_extension": ".py",
   "mimetype": "text/x-python",
   "name": "python",
   "nbconvert_exporter": "python",
   "pygments_lexer": "ipython3",
   "version": "3.8.10"
  }
 },
 "nbformat": 4,
 "nbformat_minor": 5
}
