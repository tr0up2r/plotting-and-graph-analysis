{
 "cells": [
  {
   "cell_type": "code",
   "execution_count": 48,
   "id": "15f593eb",
   "metadata": {},
   "outputs": [],
   "source": [
    "import glob\n",
    "import pandas as pd"
   ]
  },
  {
   "cell_type": "code",
   "execution_count": 56,
   "id": "ad9727f5",
   "metadata": {},
   "outputs": [],
   "source": [
    "df = pd.concat(map(pd.read_csv, glob.glob('*.csv')), ignore_index=True)"
   ]
  },
  {
   "cell_type": "code",
   "execution_count": 57,
   "id": "1ae0cd79",
   "metadata": {},
   "outputs": [
    {
     "data": {
      "text/html": [
       "<div>\n",
       "<style scoped>\n",
       "    .dataframe tbody tr th:only-of-type {\n",
       "        vertical-align: middle;\n",
       "    }\n",
       "\n",
       "    .dataframe tbody tr th {\n",
       "        vertical-align: top;\n",
       "    }\n",
       "\n",
       "    .dataframe thead th {\n",
       "        text-align: right;\n",
       "    }\n",
       "</style>\n",
       "<table border=\"1\" class=\"dataframe\">\n",
       "  <thead>\n",
       "    <tr style=\"text-align: right;\">\n",
       "      <th></th>\n",
       "      <th>author</th>\n",
       "      <th>posts_similarity</th>\n",
       "    </tr>\n",
       "  </thead>\n",
       "  <tbody>\n",
       "    <tr>\n",
       "      <th>0</th>\n",
       "      <td>_________________UWU</td>\n",
       "      <td>0.083527</td>\n",
       "    </tr>\n",
       "    <tr>\n",
       "      <th>1</th>\n",
       "      <td>_______woohoo</td>\n",
       "      <td>0.045464</td>\n",
       "    </tr>\n",
       "    <tr>\n",
       "      <th>2</th>\n",
       "      <td>_____6529______</td>\n",
       "      <td>0.000000</td>\n",
       "    </tr>\n",
       "    <tr>\n",
       "      <th>3</th>\n",
       "      <td>_____Generation</td>\n",
       "      <td>0.143872</td>\n",
       "    </tr>\n",
       "    <tr>\n",
       "      <th>4</th>\n",
       "      <td>_____kek_____</td>\n",
       "      <td>0.000000</td>\n",
       "    </tr>\n",
       "    <tr>\n",
       "      <th>...</th>\n",
       "      <td>...</td>\n",
       "      <td>...</td>\n",
       "    </tr>\n",
       "    <tr>\n",
       "      <th>190741</th>\n",
       "      <td>zzzzzsleepyzzzzz</td>\n",
       "      <td>0.136276</td>\n",
       "    </tr>\n",
       "    <tr>\n",
       "      <th>190742</th>\n",
       "      <td>zzzzzzarah</td>\n",
       "      <td>0.206137</td>\n",
       "    </tr>\n",
       "    <tr>\n",
       "      <th>190743</th>\n",
       "      <td>zzzzzzyy</td>\n",
       "      <td>1.000000</td>\n",
       "    </tr>\n",
       "    <tr>\n",
       "      <th>190744</th>\n",
       "      <td>zzzzzzz____</td>\n",
       "      <td>0.000000</td>\n",
       "    </tr>\n",
       "    <tr>\n",
       "      <th>190745</th>\n",
       "      <td>ZZZZZzzzzzxzx</td>\n",
       "      <td>0.000000</td>\n",
       "    </tr>\n",
       "  </tbody>\n",
       "</table>\n",
       "<p>190746 rows × 2 columns</p>\n",
       "</div>"
      ],
      "text/plain": [
       "                      author  posts_similarity\n",
       "0       _________________UWU          0.083527\n",
       "1              _______woohoo          0.045464\n",
       "2            _____6529______          0.000000\n",
       "3            _____Generation          0.143872\n",
       "4              _____kek_____          0.000000\n",
       "...                      ...               ...\n",
       "190741      zzzzzsleepyzzzzz          0.136276\n",
       "190742            zzzzzzarah          0.206137\n",
       "190743              zzzzzzyy          1.000000\n",
       "190744           zzzzzzz____          0.000000\n",
       "190745         ZZZZZzzzzzxzx          0.000000\n",
       "\n",
       "[190746 rows x 2 columns]"
      ]
     },
     "execution_count": 57,
     "metadata": {},
     "output_type": "execute_result"
    }
   ],
   "source": [
    "df"
   ]
  },
  {
   "cell_type": "code",
   "execution_count": 58,
   "id": "080401e0",
   "metadata": {},
   "outputs": [],
   "source": [
    "# df.to_csv(\"similarity.csv\", index = False)\n",
    "# df.to_csv(\"entropy.csv\", index = False)\n",
    "# df.to_csv(\"valid_similarity.csv\", index = False)\n",
    "# df.to_csv(\"about_posts_comments_similarity.csv\", index = False)\n",
    "# df.to_csv(\"about_posts_entropy.csv\", index = False)\n",
    "# df.to_csv(\"post_best_comment.csv\", index = False)\n",
    "# df.to_csv('similarity_final.csv', index = False)\n",
    "# df.to_csv('entropy_final.csv', index = False)\n",
    "df.to_csv('posts_similarity_mentee.csv', index = False)"
   ]
  }
 ],
 "metadata": {
  "kernelspec": {
   "display_name": "Python 3 (ipykernel)",
   "language": "python",
   "name": "python3"
  },
  "language_info": {
   "codemirror_mode": {
    "name": "ipython",
    "version": 3
   },
   "file_extension": ".py",
   "mimetype": "text/x-python",
   "name": "python",
   "nbconvert_exporter": "python",
   "pygments_lexer": "ipython3",
   "version": "3.8.10"
  }
 },
 "nbformat": 4,
 "nbformat_minor": 5
}
