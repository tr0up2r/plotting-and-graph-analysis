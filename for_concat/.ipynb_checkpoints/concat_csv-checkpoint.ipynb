{
 "cells": [
  {
   "cell_type": "code",
   "execution_count": 21,
   "id": "15f593eb",
   "metadata": {},
   "outputs": [],
   "source": [
    "import glob\n",
    "import pandas as pd"
   ]
  },
  {
   "cell_type": "code",
   "execution_count": 22,
   "id": "ad9727f5",
   "metadata": {},
   "outputs": [],
   "source": [
    "df = pd.concat(map(pd.read_csv, glob.glob('*.csv')), ignore_index=True)"
   ]
  },
  {
   "cell_type": "code",
   "execution_count": 23,
   "id": "1ae0cd79",
   "metadata": {},
   "outputs": [
    {
     "data": {
      "text/html": [
       "<div>\n",
       "<style scoped>\n",
       "    .dataframe tbody tr th:only-of-type {\n",
       "        vertical-align: middle;\n",
       "    }\n",
       "\n",
       "    .dataframe tbody tr th {\n",
       "        vertical-align: top;\n",
       "    }\n",
       "\n",
       "    .dataframe thead th {\n",
       "        text-align: right;\n",
       "    }\n",
       "</style>\n",
       "<table border=\"1\" class=\"dataframe\">\n",
       "  <thead>\n",
       "    <tr style=\"text-align: right;\">\n",
       "      <th></th>\n",
       "      <th>author</th>\n",
       "      <th>comments_similarity</th>\n",
       "      <th>posts_similarity</th>\n",
       "    </tr>\n",
       "  </thead>\n",
       "  <tbody>\n",
       "    <tr>\n",
       "      <th>0</th>\n",
       "      <td>jmps1986</td>\n",
       "      <td>0.090236</td>\n",
       "      <td>0.000000</td>\n",
       "    </tr>\n",
       "    <tr>\n",
       "      <th>1</th>\n",
       "      <td>JMPthenFLY</td>\n",
       "      <td>0.154997</td>\n",
       "      <td>0.027193</td>\n",
       "    </tr>\n",
       "    <tr>\n",
       "      <th>2</th>\n",
       "      <td>JMRoaming</td>\n",
       "      <td>0.055353</td>\n",
       "      <td>0.031093</td>\n",
       "    </tr>\n",
       "    <tr>\n",
       "      <th>3</th>\n",
       "      <td>jmrwilson</td>\n",
       "      <td>0.194040</td>\n",
       "      <td>0.019286</td>\n",
       "    </tr>\n",
       "    <tr>\n",
       "      <th>4</th>\n",
       "      <td>jms_serna</td>\n",
       "      <td>0.030897</td>\n",
       "      <td>0.000000</td>\n",
       "    </tr>\n",
       "    <tr>\n",
       "      <th>...</th>\n",
       "      <td>...</td>\n",
       "      <td>...</td>\n",
       "      <td>...</td>\n",
       "    </tr>\n",
       "    <tr>\n",
       "      <th>227027</th>\n",
       "      <td>jmorgan0527</td>\n",
       "      <td>0.010148</td>\n",
       "      <td>0.000000</td>\n",
       "    </tr>\n",
       "    <tr>\n",
       "      <th>227028</th>\n",
       "      <td>Jmose93</td>\n",
       "      <td>0.531608</td>\n",
       "      <td>0.000000</td>\n",
       "    </tr>\n",
       "    <tr>\n",
       "      <th>227029</th>\n",
       "      <td>JMoxon569</td>\n",
       "      <td>0.000000</td>\n",
       "      <td>0.056297</td>\n",
       "    </tr>\n",
       "    <tr>\n",
       "      <th>227030</th>\n",
       "      <td>jmp-f88</td>\n",
       "      <td>0.171660</td>\n",
       "      <td>0.007159</td>\n",
       "    </tr>\n",
       "    <tr>\n",
       "      <th>227031</th>\n",
       "      <td>JMP0492</td>\n",
       "      <td>0.065696</td>\n",
       "      <td>0.047210</td>\n",
       "    </tr>\n",
       "  </tbody>\n",
       "</table>\n",
       "<p>227032 rows × 3 columns</p>\n",
       "</div>"
      ],
      "text/plain": [
       "             author  comments_similarity  posts_similarity\n",
       "0          jmps1986             0.090236          0.000000\n",
       "1        JMPthenFLY             0.154997          0.027193\n",
       "2         JMRoaming             0.055353          0.031093\n",
       "3         jmrwilson             0.194040          0.019286\n",
       "4         jms_serna             0.030897          0.000000\n",
       "...             ...                  ...               ...\n",
       "227027  jmorgan0527             0.010148          0.000000\n",
       "227028      Jmose93             0.531608          0.000000\n",
       "227029    JMoxon569             0.000000          0.056297\n",
       "227030      jmp-f88             0.171660          0.007159\n",
       "227031      JMP0492             0.065696          0.047210\n",
       "\n",
       "[227032 rows x 3 columns]"
      ]
     },
     "execution_count": 23,
     "metadata": {},
     "output_type": "execute_result"
    }
   ],
   "source": [
    "df"
   ]
  },
  {
   "cell_type": "code",
   "execution_count": 24,
   "id": "080401e0",
   "metadata": {},
   "outputs": [],
   "source": [
    "# df.to_csv(\"comments_similarity.csv\", index = False)\n",
    "# df.to_csv(\"posts_similarity.csv\", index = False)\n",
    "df.to_csv(\"similarity.csv\", index = False)\n",
    "# df.to_csv(\"entropy.csv\", index = False)"
   ]
  }
 ],
 "metadata": {
  "kernelspec": {
   "display_name": "Python 3 (ipykernel)",
   "language": "python",
   "name": "python3"
  },
  "language_info": {
   "codemirror_mode": {
    "name": "ipython",
    "version": 3
   },
   "file_extension": ".py",
   "mimetype": "text/x-python",
   "name": "python",
   "nbconvert_exporter": "python",
   "pygments_lexer": "ipython3",
   "version": "3.8.10"
  }
 },
 "nbformat": 4,
 "nbformat_minor": 5
}
