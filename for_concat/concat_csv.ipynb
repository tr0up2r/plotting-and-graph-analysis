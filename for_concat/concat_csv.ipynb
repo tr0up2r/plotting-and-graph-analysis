{
 "cells": [
  {
   "cell_type": "code",
   "execution_count": 25,
   "id": "15f593eb",
   "metadata": {},
   "outputs": [],
   "source": [
    "import glob\n",
    "import pandas as pd"
   ]
  },
  {
   "cell_type": "code",
   "execution_count": 29,
   "id": "ad9727f5",
   "metadata": {},
   "outputs": [],
   "source": [
    "df = pd.concat(map(pd.read_csv, glob.glob('*.csv')), ignore_index=True)"
   ]
  },
  {
   "cell_type": "code",
   "execution_count": 30,
   "id": "1ae0cd79",
   "metadata": {},
   "outputs": [
    {
     "data": {
      "text/html": [
       "<div>\n",
       "<style scoped>\n",
       "    .dataframe tbody tr th:only-of-type {\n",
       "        vertical-align: middle;\n",
       "    }\n",
       "\n",
       "    .dataframe tbody tr th {\n",
       "        vertical-align: top;\n",
       "    }\n",
       "\n",
       "    .dataframe thead th {\n",
       "        text-align: right;\n",
       "    }\n",
       "</style>\n",
       "<table border=\"1\" class=\"dataframe\">\n",
       "  <thead>\n",
       "    <tr style=\"text-align: right;\">\n",
       "      <th></th>\n",
       "      <th>author</th>\n",
       "      <th>comments_similarity</th>\n",
       "      <th>posts_similarity</th>\n",
       "    </tr>\n",
       "  </thead>\n",
       "  <tbody>\n",
       "    <tr>\n",
       "      <th>0</th>\n",
       "      <td>_______ZERO</td>\n",
       "      <td>0.091959</td>\n",
       "      <td>0.051608</td>\n",
       "    </tr>\n",
       "    <tr>\n",
       "      <th>1</th>\n",
       "      <td>______V______</td>\n",
       "      <td>0.101362</td>\n",
       "      <td>0.046947</td>\n",
       "    </tr>\n",
       "    <tr>\n",
       "      <th>2</th>\n",
       "      <td>_____0_</td>\n",
       "      <td>0.079038</td>\n",
       "      <td>0.035801</td>\n",
       "    </tr>\n",
       "    <tr>\n",
       "      <th>3</th>\n",
       "      <td>_____boop</td>\n",
       "      <td>0.150105</td>\n",
       "      <td>0.023101</td>\n",
       "    </tr>\n",
       "    <tr>\n",
       "      <th>4</th>\n",
       "      <td>_____els3sle-</td>\n",
       "      <td>0.133266</td>\n",
       "      <td>0.043223</td>\n",
       "    </tr>\n",
       "    <tr>\n",
       "      <th>...</th>\n",
       "      <td>...</td>\n",
       "      <td>...</td>\n",
       "      <td>...</td>\n",
       "    </tr>\n",
       "    <tr>\n",
       "      <th>227027</th>\n",
       "      <td>Theotherone56</td>\n",
       "      <td>0.163081</td>\n",
       "      <td>0.038412</td>\n",
       "    </tr>\n",
       "    <tr>\n",
       "      <th>227028</th>\n",
       "      <td>TheOtherPuffling</td>\n",
       "      <td>0.098514</td>\n",
       "      <td>0.029154</td>\n",
       "    </tr>\n",
       "    <tr>\n",
       "      <th>227029</th>\n",
       "      <td>theothertswift</td>\n",
       "      <td>0.102593</td>\n",
       "      <td>0.000000</td>\n",
       "    </tr>\n",
       "    <tr>\n",
       "      <th>227030</th>\n",
       "      <td>TheOtherUprising</td>\n",
       "      <td>0.094434</td>\n",
       "      <td>0.034045</td>\n",
       "    </tr>\n",
       "    <tr>\n",
       "      <th>227031</th>\n",
       "      <td>theotpsailor</td>\n",
       "      <td>0.062263</td>\n",
       "      <td>0.000000</td>\n",
       "    </tr>\n",
       "  </tbody>\n",
       "</table>\n",
       "<p>227032 rows × 3 columns</p>\n",
       "</div>"
      ],
      "text/plain": [
       "                  author  comments_similarity  posts_similarity\n",
       "0            _______ZERO             0.091959          0.051608\n",
       "1          ______V______             0.101362          0.046947\n",
       "2                _____0_             0.079038          0.035801\n",
       "3              _____boop             0.150105          0.023101\n",
       "4          _____els3sle-             0.133266          0.043223\n",
       "...                  ...                  ...               ...\n",
       "227027     Theotherone56             0.163081          0.038412\n",
       "227028  TheOtherPuffling             0.098514          0.029154\n",
       "227029    theothertswift             0.102593          0.000000\n",
       "227030  TheOtherUprising             0.094434          0.034045\n",
       "227031      theotpsailor             0.062263          0.000000\n",
       "\n",
       "[227032 rows x 3 columns]"
      ]
     },
     "execution_count": 30,
     "metadata": {},
     "output_type": "execute_result"
    }
   ],
   "source": [
    "df"
   ]
  },
  {
   "cell_type": "code",
   "execution_count": 31,
   "id": "080401e0",
   "metadata": {},
   "outputs": [],
   "source": [
    "# df.to_csv(\"similarity.csv\", index = False)\n",
    "# df.to_csv(\"entropy.csv\", index = False)\n",
    "df.to_csv(\"valid_similarity.csv\", index = False)"
   ]
  }
 ],
 "metadata": {
  "kernelspec": {
   "display_name": "Python 3 (ipykernel)",
   "language": "python",
   "name": "python3"
  },
  "language_info": {
   "codemirror_mode": {
    "name": "ipython",
    "version": 3
   },
   "file_extension": ".py",
   "mimetype": "text/x-python",
   "name": "python",
   "nbconvert_exporter": "python",
   "pygments_lexer": "ipython3",
   "version": "3.8.10"
  }
 },
 "nbformat": 4,
 "nbformat_minor": 5
}
