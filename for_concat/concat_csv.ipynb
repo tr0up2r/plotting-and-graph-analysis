{
 "cells": [
  {
   "cell_type": "code",
   "execution_count": 25,
   "id": "15f593eb",
   "metadata": {},
   "outputs": [],
   "source": [
    "import glob\n",
    "import pandas as pd"
   ]
  },
  {
   "cell_type": "code",
   "execution_count": 26,
   "id": "ad9727f5",
   "metadata": {},
   "outputs": [],
   "source": [
    "df = pd.concat(map(pd.read_csv, glob.glob('*.csv')), ignore_index=True)"
   ]
  },
  {
   "cell_type": "code",
   "execution_count": 27,
   "id": "1ae0cd79",
   "metadata": {},
   "outputs": [
    {
     "data": {
      "text/html": [
       "<div>\n",
       "<style scoped>\n",
       "    .dataframe tbody tr th:only-of-type {\n",
       "        vertical-align: middle;\n",
       "    }\n",
       "\n",
       "    .dataframe tbody tr th {\n",
       "        vertical-align: top;\n",
       "    }\n",
       "\n",
       "    .dataframe thead th {\n",
       "        text-align: right;\n",
       "    }\n",
       "</style>\n",
       "<table border=\"1\" class=\"dataframe\">\n",
       "  <thead>\n",
       "    <tr style=\"text-align: right;\">\n",
       "      <th></th>\n",
       "      <th>author</th>\n",
       "      <th>is_score_entropy</th>\n",
       "      <th>es_score_entropy</th>\n",
       "    </tr>\n",
       "  </thead>\n",
       "  <tbody>\n",
       "    <tr>\n",
       "      <th>0</th>\n",
       "      <td>ohio_Magpie</td>\n",
       "      <td>0.000000</td>\n",
       "      <td>0.000000</td>\n",
       "    </tr>\n",
       "    <tr>\n",
       "      <th>1</th>\n",
       "      <td>Ohio4455</td>\n",
       "      <td>0.000000</td>\n",
       "      <td>0.000000</td>\n",
       "    </tr>\n",
       "    <tr>\n",
       "      <th>2</th>\n",
       "      <td>Ohio57</td>\n",
       "      <td>0.000000</td>\n",
       "      <td>0.000000</td>\n",
       "    </tr>\n",
       "    <tr>\n",
       "      <th>3</th>\n",
       "      <td>ohioanjackass</td>\n",
       "      <td>0.000000</td>\n",
       "      <td>0.000000</td>\n",
       "    </tr>\n",
       "    <tr>\n",
       "      <th>4</th>\n",
       "      <td>ohiocardsfan</td>\n",
       "      <td>0.000000</td>\n",
       "      <td>0.000000</td>\n",
       "    </tr>\n",
       "    <tr>\n",
       "      <th>...</th>\n",
       "      <td>...</td>\n",
       "      <td>...</td>\n",
       "      <td>...</td>\n",
       "    </tr>\n",
       "    <tr>\n",
       "      <th>466616</th>\n",
       "      <td>Dank_Sinatra_4x20</td>\n",
       "      <td>0.579380</td>\n",
       "      <td>1.000000</td>\n",
       "    </tr>\n",
       "    <tr>\n",
       "      <th>466617</th>\n",
       "      <td>Dank_Topia</td>\n",
       "      <td>0.669592</td>\n",
       "      <td>0.819448</td>\n",
       "    </tr>\n",
       "    <tr>\n",
       "      <th>466618</th>\n",
       "      <td>Dank-Hank42069</td>\n",
       "      <td>0.000000</td>\n",
       "      <td>0.000000</td>\n",
       "    </tr>\n",
       "    <tr>\n",
       "      <th>466619</th>\n",
       "      <td>Dank-meme-teen</td>\n",
       "      <td>0.000000</td>\n",
       "      <td>0.864974</td>\n",
       "    </tr>\n",
       "    <tr>\n",
       "      <th>466620</th>\n",
       "      <td>Dank-Yoda</td>\n",
       "      <td>0.000000</td>\n",
       "      <td>0.579380</td>\n",
       "    </tr>\n",
       "  </tbody>\n",
       "</table>\n",
       "<p>466621 rows × 3 columns</p>\n",
       "</div>"
      ],
      "text/plain": [
       "                   author  is_score_entropy  es_score_entropy\n",
       "0             ohio_Magpie          0.000000          0.000000\n",
       "1                Ohio4455          0.000000          0.000000\n",
       "2                  Ohio57          0.000000          0.000000\n",
       "3           ohioanjackass          0.000000          0.000000\n",
       "4            ohiocardsfan          0.000000          0.000000\n",
       "...                   ...               ...               ...\n",
       "466616  Dank_Sinatra_4x20          0.579380          1.000000\n",
       "466617         Dank_Topia          0.669592          0.819448\n",
       "466618     Dank-Hank42069          0.000000          0.000000\n",
       "466619     Dank-meme-teen          0.000000          0.864974\n",
       "466620          Dank-Yoda          0.000000          0.579380\n",
       "\n",
       "[466621 rows x 3 columns]"
      ]
     },
     "execution_count": 27,
     "metadata": {},
     "output_type": "execute_result"
    }
   ],
   "source": [
    "df"
   ]
  },
  {
   "cell_type": "code",
   "execution_count": 28,
   "id": "080401e0",
   "metadata": {},
   "outputs": [],
   "source": [
    "# df.to_csv(\"similarity.csv\", index = False)\n",
    "df.to_csv(\"entropy.csv\", index = False)"
   ]
  }
 ],
 "metadata": {
  "kernelspec": {
   "display_name": "Python 3 (ipykernel)",
   "language": "python",
   "name": "python3"
  },
  "language_info": {
   "codemirror_mode": {
    "name": "ipython",
    "version": 3
   },
   "file_extension": ".py",
   "mimetype": "text/x-python",
   "name": "python",
   "nbconvert_exporter": "python",
   "pygments_lexer": "ipython3",
   "version": "3.8.10"
  }
 },
 "nbformat": 4,
 "nbformat_minor": 5
}
