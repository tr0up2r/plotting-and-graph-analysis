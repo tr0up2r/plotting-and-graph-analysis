{
 "cells": [
  {
   "cell_type": "code",
   "execution_count": 59,
   "id": "15f593eb",
   "metadata": {},
   "outputs": [],
   "source": [
    "import glob\n",
    "import pandas as pd"
   ]
  },
  {
   "cell_type": "code",
   "execution_count": 60,
   "id": "ad9727f5",
   "metadata": {},
   "outputs": [],
   "source": [
    "df = pd.concat(map(pd.read_csv, glob.glob('*.csv')), ignore_index=True)"
   ]
  },
  {
   "cell_type": "code",
   "execution_count": 61,
   "id": "1ae0cd79",
   "metadata": {},
   "outputs": [
    {
     "data": {
      "text/html": [
       "<div>\n",
       "<style scoped>\n",
       "    .dataframe tbody tr th:only-of-type {\n",
       "        vertical-align: middle;\n",
       "    }\n",
       "\n",
       "    .dataframe tbody tr th {\n",
       "        vertical-align: top;\n",
       "    }\n",
       "\n",
       "    .dataframe thead th {\n",
       "        text-align: right;\n",
       "    }\n",
       "</style>\n",
       "<table border=\"1\" class=\"dataframe\">\n",
       "  <thead>\n",
       "    <tr style=\"text-align: right;\">\n",
       "      <th></th>\n",
       "      <th>post_key</th>\n",
       "      <th>predicted_community</th>\n",
       "      <th>jaccard_coefficient</th>\n",
       "    </tr>\n",
       "  </thead>\n",
       "  <tbody>\n",
       "    <tr>\n",
       "      <th>0</th>\n",
       "      <td>t3_kng58c</td>\n",
       "      <td>1</td>\n",
       "      <td>-1.000000</td>\n",
       "    </tr>\n",
       "    <tr>\n",
       "      <th>1</th>\n",
       "      <td>t3_kng58c</td>\n",
       "      <td>1</td>\n",
       "      <td>-1.000000</td>\n",
       "    </tr>\n",
       "    <tr>\n",
       "      <th>2</th>\n",
       "      <td>t3_kng58c</td>\n",
       "      <td>2</td>\n",
       "      <td>-1.000000</td>\n",
       "    </tr>\n",
       "    <tr>\n",
       "      <th>3</th>\n",
       "      <td>t3_kng58c</td>\n",
       "      <td>7</td>\n",
       "      <td>0.000009</td>\n",
       "    </tr>\n",
       "    <tr>\n",
       "      <th>4</th>\n",
       "      <td>t3_kng58c</td>\n",
       "      <td>1</td>\n",
       "      <td>0.000000</td>\n",
       "    </tr>\n",
       "    <tr>\n",
       "      <th>...</th>\n",
       "      <td>...</td>\n",
       "      <td>...</td>\n",
       "      <td>...</td>\n",
       "    </tr>\n",
       "    <tr>\n",
       "      <th>110032</th>\n",
       "      <td>t3_kng58c</td>\n",
       "      <td>4</td>\n",
       "      <td>0.000000</td>\n",
       "    </tr>\n",
       "    <tr>\n",
       "      <th>110033</th>\n",
       "      <td>t3_kng58c</td>\n",
       "      <td>1</td>\n",
       "      <td>0.000000</td>\n",
       "    </tr>\n",
       "    <tr>\n",
       "      <th>110034</th>\n",
       "      <td>t3_kng58c</td>\n",
       "      <td>1242</td>\n",
       "      <td>0.000000</td>\n",
       "    </tr>\n",
       "    <tr>\n",
       "      <th>110035</th>\n",
       "      <td>t3_kng58c</td>\n",
       "      <td>1</td>\n",
       "      <td>-1.000000</td>\n",
       "    </tr>\n",
       "    <tr>\n",
       "      <th>110036</th>\n",
       "      <td>t3_kng58c</td>\n",
       "      <td>1039</td>\n",
       "      <td>-1.000000</td>\n",
       "    </tr>\n",
       "  </tbody>\n",
       "</table>\n",
       "<p>110037 rows × 3 columns</p>\n",
       "</div>"
      ],
      "text/plain": [
       "         post_key  predicted_community  jaccard_coefficient\n",
       "0       t3_kng58c                    1            -1.000000\n",
       "1       t3_kng58c                    1            -1.000000\n",
       "2       t3_kng58c                    2            -1.000000\n",
       "3       t3_kng58c                    7             0.000009\n",
       "4       t3_kng58c                    1             0.000000\n",
       "...           ...                  ...                  ...\n",
       "110032  t3_kng58c                    4             0.000000\n",
       "110033  t3_kng58c                    1             0.000000\n",
       "110034  t3_kng58c                 1242             0.000000\n",
       "110035  t3_kng58c                    1            -1.000000\n",
       "110036  t3_kng58c                 1039            -1.000000\n",
       "\n",
       "[110037 rows x 3 columns]"
      ]
     },
     "execution_count": 61,
     "metadata": {},
     "output_type": "execute_result"
    }
   ],
   "source": [
    "df"
   ]
  },
  {
   "cell_type": "code",
   "execution_count": 62,
   "id": "080401e0",
   "metadata": {},
   "outputs": [],
   "source": [
    "# df.to_csv(\"similarity.csv\", index = False)\n",
    "# df.to_csv(\"entropy.csv\", index = False)\n",
    "# df.to_csv(\"valid_similarity.csv\", index = False)\n",
    "# df.to_csv(\"about_posts_comments_similarity.csv\", index = False)\n",
    "# df.to_csv(\"about_posts_entropy.csv\", index = False)\n",
    "# df.to_csv(\"post_best_comment.csv\", index = False)\n",
    "# df.to_csv('similarity_final.csv', index = False)\n",
    "# df.to_csv('entropy_final.csv', index = False)\n",
    "# df.to_csv('posts_similarity_mentee.csv', index = False)\n",
    "df.to_csv('prediction_result.csv', index = False)"
   ]
  }
 ],
 "metadata": {
  "kernelspec": {
   "display_name": "Python 3 (ipykernel)",
   "language": "python",
   "name": "python3"
  },
  "language_info": {
   "codemirror_mode": {
    "name": "ipython",
    "version": 3
   },
   "file_extension": ".py",
   "mimetype": "text/x-python",
   "name": "python",
   "nbconvert_exporter": "python",
   "pygments_lexer": "ipython3",
   "version": "3.8.10"
  }
 },
 "nbformat": 4,
 "nbformat_minor": 5
}
