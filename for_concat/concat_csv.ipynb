{
 "cells": [
  {
   "cell_type": "code",
   "execution_count": 36,
   "id": "15f593eb",
   "metadata": {},
   "outputs": [],
   "source": [
    "import glob\n",
    "import pandas as pd"
   ]
  },
  {
   "cell_type": "code",
   "execution_count": 37,
   "id": "ad9727f5",
   "metadata": {},
   "outputs": [],
   "source": [
    "df = pd.concat(map(pd.read_csv, glob.glob('*.csv')), ignore_index=True)"
   ]
  },
  {
   "cell_type": "code",
   "execution_count": 38,
   "id": "1ae0cd79",
   "metadata": {},
   "outputs": [
    {
     "data": {
      "text/html": [
       "<div>\n",
       "<style scoped>\n",
       "    .dataframe tbody tr th:only-of-type {\n",
       "        vertical-align: middle;\n",
       "    }\n",
       "\n",
       "    .dataframe tbody tr th {\n",
       "        vertical-align: top;\n",
       "    }\n",
       "\n",
       "    .dataframe thead th {\n",
       "        text-align: right;\n",
       "    }\n",
       "</style>\n",
       "<table border=\"1\" class=\"dataframe\">\n",
       "  <thead>\n",
       "    <tr style=\"text-align: right;\">\n",
       "      <th></th>\n",
       "      <th>post_key</th>\n",
       "      <th>comments_is_score_entropy</th>\n",
       "      <th>comments_es_score_entropy</th>\n",
       "    </tr>\n",
       "  </thead>\n",
       "  <tbody>\n",
       "    <tr>\n",
       "      <th>0</th>\n",
       "      <td>t3_hxgaa8</td>\n",
       "      <td>0.00000</td>\n",
       "      <td>0.63093</td>\n",
       "    </tr>\n",
       "    <tr>\n",
       "      <th>1</th>\n",
       "      <td>t3_hxgaak</td>\n",
       "      <td>0.00000</td>\n",
       "      <td>0.00000</td>\n",
       "    </tr>\n",
       "    <tr>\n",
       "      <th>2</th>\n",
       "      <td>t3_hxgbad</td>\n",
       "      <td>0.00000</td>\n",
       "      <td>0.00000</td>\n",
       "    </tr>\n",
       "    <tr>\n",
       "      <th>3</th>\n",
       "      <td>t3_hxgbma</td>\n",
       "      <td>0.00000</td>\n",
       "      <td>0.00000</td>\n",
       "    </tr>\n",
       "    <tr>\n",
       "      <th>4</th>\n",
       "      <td>t3_hxgbrm</td>\n",
       "      <td>0.00000</td>\n",
       "      <td>0.00000</td>\n",
       "    </tr>\n",
       "    <tr>\n",
       "      <th>...</th>\n",
       "      <td>...</td>\n",
       "      <td>...</td>\n",
       "      <td>...</td>\n",
       "    </tr>\n",
       "    <tr>\n",
       "      <th>712504</th>\n",
       "      <td>t3_jntn43</td>\n",
       "      <td>0.00000</td>\n",
       "      <td>0.63093</td>\n",
       "    </tr>\n",
       "    <tr>\n",
       "      <th>712505</th>\n",
       "      <td>t3_jntn4r</td>\n",
       "      <td>0.63093</td>\n",
       "      <td>0.00000</td>\n",
       "    </tr>\n",
       "    <tr>\n",
       "      <th>712506</th>\n",
       "      <td>t3_jntnnr</td>\n",
       "      <td>0.63093</td>\n",
       "      <td>0.63093</td>\n",
       "    </tr>\n",
       "    <tr>\n",
       "      <th>712507</th>\n",
       "      <td>t3_jntnxs</td>\n",
       "      <td>0.57938</td>\n",
       "      <td>0.00000</td>\n",
       "    </tr>\n",
       "    <tr>\n",
       "      <th>712508</th>\n",
       "      <td>t3_jntp3y</td>\n",
       "      <td>0.00000</td>\n",
       "      <td>0.00000</td>\n",
       "    </tr>\n",
       "  </tbody>\n",
       "</table>\n",
       "<p>712509 rows × 3 columns</p>\n",
       "</div>"
      ],
      "text/plain": [
       "         post_key  comments_is_score_entropy  comments_es_score_entropy\n",
       "0       t3_hxgaa8                    0.00000                    0.63093\n",
       "1       t3_hxgaak                    0.00000                    0.00000\n",
       "2       t3_hxgbad                    0.00000                    0.00000\n",
       "3       t3_hxgbma                    0.00000                    0.00000\n",
       "4       t3_hxgbrm                    0.00000                    0.00000\n",
       "...           ...                        ...                        ...\n",
       "712504  t3_jntn43                    0.00000                    0.63093\n",
       "712505  t3_jntn4r                    0.63093                    0.00000\n",
       "712506  t3_jntnnr                    0.63093                    0.63093\n",
       "712507  t3_jntnxs                    0.57938                    0.00000\n",
       "712508  t3_jntp3y                    0.00000                    0.00000\n",
       "\n",
       "[712509 rows x 3 columns]"
      ]
     },
     "execution_count": 38,
     "metadata": {},
     "output_type": "execute_result"
    }
   ],
   "source": [
    "df"
   ]
  },
  {
   "cell_type": "code",
   "execution_count": 39,
   "id": "080401e0",
   "metadata": {},
   "outputs": [],
   "source": [
    "# df.to_csv(\"similarity.csv\", index = False)\n",
    "# df.to_csv(\"entropy.csv\", index = False)\n",
    "# df.to_csv(\"valid_similarity.csv\", index = False)\n",
    "# df.to_csv(\"about_posts_comments_similarity.csv\", index = False)\n",
    "df.to_csv(\"about_posts_entropy.csv\", index = False)"
   ]
  }
 ],
 "metadata": {
  "kernelspec": {
   "display_name": "Python 3 (ipykernel)",
   "language": "python",
   "name": "python3"
  },
  "language_info": {
   "codemirror_mode": {
    "name": "ipython",
    "version": 3
   },
   "file_extension": ".py",
   "mimetype": "text/x-python",
   "name": "python",
   "nbconvert_exporter": "python",
   "pygments_lexer": "ipython3",
   "version": "3.8.10"
  }
 },
 "nbformat": 4,
 "nbformat_minor": 5
}
