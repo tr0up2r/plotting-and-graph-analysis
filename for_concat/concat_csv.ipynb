{
 "cells": [
  {
   "cell_type": "code",
   "execution_count": 2,
   "id": "15f593eb",
   "metadata": {},
   "outputs": [],
   "source": [
    "import glob\n",
    "import pandas as pd"
   ]
  },
  {
   "cell_type": "code",
   "execution_count": 6,
   "id": "ad9727f5",
   "metadata": {},
   "outputs": [],
   "source": [
    "df = pd.concat(map(pd.read_csv, glob.glob('*.csv')), ignore_index=True)"
   ]
  },
  {
   "cell_type": "code",
   "execution_count": 7,
   "id": "1ae0cd79",
   "metadata": {},
   "outputs": [
    {
     "data": {
      "text/html": [
       "<div>\n",
       "<style scoped>\n",
       "    .dataframe tbody tr th:only-of-type {\n",
       "        vertical-align: middle;\n",
       "    }\n",
       "\n",
       "    .dataframe tbody tr th {\n",
       "        vertical-align: top;\n",
       "    }\n",
       "\n",
       "    .dataframe thead th {\n",
       "        text-align: right;\n",
       "    }\n",
       "</style>\n",
       "<table border=\"1\" class=\"dataframe\">\n",
       "  <thead>\n",
       "    <tr style=\"text-align: right;\">\n",
       "      <th></th>\n",
       "      <th>author</th>\n",
       "      <th>comment_similarity</th>\n",
       "    </tr>\n",
       "  </thead>\n",
       "  <tbody>\n",
       "    <tr>\n",
       "      <th>0</th>\n",
       "      <td>Mirk11</td>\n",
       "      <td>0.218898</td>\n",
       "    </tr>\n",
       "    <tr>\n",
       "      <th>1</th>\n",
       "      <td>mirkc</td>\n",
       "      <td>0.026860</td>\n",
       "    </tr>\n",
       "    <tr>\n",
       "      <th>2</th>\n",
       "      <td>mirkinhat</td>\n",
       "      <td>0.234105</td>\n",
       "    </tr>\n",
       "    <tr>\n",
       "      <th>3</th>\n",
       "      <td>Mirko_TheRabbitHero</td>\n",
       "      <td>0.054644</td>\n",
       "    </tr>\n",
       "    <tr>\n",
       "      <th>4</th>\n",
       "      <td>mirkywatters</td>\n",
       "      <td>0.068235</td>\n",
       "    </tr>\n",
       "    <tr>\n",
       "      <th>...</th>\n",
       "      <td>...</td>\n",
       "      <td>...</td>\n",
       "    </tr>\n",
       "    <tr>\n",
       "      <th>349098</th>\n",
       "      <td>EyeGotNuthin</td>\n",
       "      <td>0.169148</td>\n",
       "    </tr>\n",
       "    <tr>\n",
       "      <th>349099</th>\n",
       "      <td>eyeh8</td>\n",
       "      <td>0.138555</td>\n",
       "    </tr>\n",
       "    <tr>\n",
       "      <th>349100</th>\n",
       "      <td>EYEHATEUALL</td>\n",
       "      <td>0.023493</td>\n",
       "    </tr>\n",
       "    <tr>\n",
       "      <th>349101</th>\n",
       "      <td>Eyehavequestions</td>\n",
       "      <td>0.117183</td>\n",
       "    </tr>\n",
       "    <tr>\n",
       "      <th>349102</th>\n",
       "      <td>eyeheartchicfila</td>\n",
       "      <td>0.126505</td>\n",
       "    </tr>\n",
       "  </tbody>\n",
       "</table>\n",
       "<p>349103 rows × 2 columns</p>\n",
       "</div>"
      ],
      "text/plain": [
       "                     author  comment_similarity\n",
       "0                    Mirk11            0.218898\n",
       "1                     mirkc            0.026860\n",
       "2                 mirkinhat            0.234105\n",
       "3       Mirko_TheRabbitHero            0.054644\n",
       "4              mirkywatters            0.068235\n",
       "...                     ...                 ...\n",
       "349098         EyeGotNuthin            0.169148\n",
       "349099                eyeh8            0.138555\n",
       "349100          EYEHATEUALL            0.023493\n",
       "349101     Eyehavequestions            0.117183\n",
       "349102     eyeheartchicfila            0.126505\n",
       "\n",
       "[349103 rows x 2 columns]"
      ]
     },
     "execution_count": 7,
     "metadata": {},
     "output_type": "execute_result"
    }
   ],
   "source": [
    "df"
   ]
  },
  {
   "cell_type": "code",
   "execution_count": 8,
   "id": "080401e0",
   "metadata": {},
   "outputs": [],
   "source": [
    "df.to_csv(\"comment_similarity.csv\", index = False)"
   ]
  }
 ],
 "metadata": {
  "kernelspec": {
   "display_name": "Python 3 (ipykernel)",
   "language": "python",
   "name": "python3"
  },
  "language_info": {
   "codemirror_mode": {
    "name": "ipython",
    "version": 3
   },
   "file_extension": ".py",
   "mimetype": "text/x-python",
   "name": "python",
   "nbconvert_exporter": "python",
   "pygments_lexer": "ipython3",
   "version": "3.8.10"
  }
 },
 "nbformat": 4,
 "nbformat_minor": 5
}
