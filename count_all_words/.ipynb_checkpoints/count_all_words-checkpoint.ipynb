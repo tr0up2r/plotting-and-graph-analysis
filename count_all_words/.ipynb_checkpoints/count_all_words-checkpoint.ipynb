{
 "cells": [
  {
   "cell_type": "code",
   "execution_count": 2,
   "id": "0293e64b",
   "metadata": {},
   "outputs": [],
   "source": [
    "# For using custom module.\n",
    "import sys\n",
    "sys.path.append('../custom_library')"
   ]
  },
  {
   "cell_type": "code",
   "execution_count": 47,
   "id": "d79f844f",
   "metadata": {},
   "outputs": [],
   "source": [
    "import pymysql.cursors\n",
    "import pandas as pd\n",
    "import numpy as np\n",
    "import connect_to_db as cn\n",
    "import re\n",
    "import statistics"
   ]
  },
  {
   "cell_type": "markdown",
   "id": "c014d314",
   "metadata": {},
   "source": [
    "# Post titles"
   ]
  },
  {
   "cell_type": "code",
   "execution_count": 9,
   "id": "c1bb07df",
   "metadata": {},
   "outputs": [],
   "source": [
    "sql = f'select title from posts where is_valid=1 and is_valid_author=1;'\n",
    "result_df = cn.select_query_result_to_df(sql)\n",
    "titles = list(np.array(result_df['title'].astype(str).values.tolist()))"
   ]
  },
  {
   "cell_type": "code",
   "execution_count": 48,
   "id": "5c336585",
   "metadata": {},
   "outputs": [
    {
     "data": {
      "text/plain": [
       "8.919517239425447"
      ]
     },
     "execution_count": 48,
     "metadata": {},
     "output_type": "execute_result"
    }
   ],
   "source": [
    "p = re.compile('[a-zA-Z]')\n",
    "\n",
    "post_word_count_list = []\n",
    "\n",
    "for title in titles:\n",
    "    total_words = sum(1 for word in title.split() if p.search(word) is not None)\n",
    "    post_word_count_list.append(total_words)\n",
    "    \n",
    "statistics.mean(post_word_count_list)"
   ]
  },
  {
   "cell_type": "markdown",
   "id": "c22fbad5",
   "metadata": {},
   "source": [
    "# Comment texts"
   ]
  },
  {
   "cell_type": "code",
   "execution_count": 56,
   "id": "dc8fba70",
   "metadata": {},
   "outputs": [],
   "source": [
    "sql = f'select body from comments where is_valid=1 and is_valid_author=1;'\n",
    "result_df = cn.select_query_result_to_df(sql)"
   ]
  },
  {
   "cell_type": "code",
   "execution_count": 55,
   "id": "bad42394",
   "metadata": {},
   "outputs": [
    {
     "data": {
      "text/plain": [
       "53.06779228888754"
      ]
     },
     "execution_count": 55,
     "metadata": {},
     "output_type": "execute_result"
    }
   ],
   "source": [
    "comment_word_count_list = []\n",
    "\n",
    "for body in result_df['body']:\n",
    "    total_words = sum(1 for word in body.split() if p.search(word) is not None)\n",
    "    comment_word_count_list.append(total_words)\n",
    "    \n",
    "statistics.mean(comment_word_count_list)"
   ]
  },
  {
   "cell_type": "code",
   "execution_count": 54,
   "id": "57e95db3",
   "metadata": {},
   "outputs": [
    {
     "data": {
      "text/plain": [
       "734372"
      ]
     },
     "execution_count": 54,
     "metadata": {},
     "output_type": "execute_result"
    }
   ],
   "source": [
    "len(comment_word_count_list)"
   ]
  }
 ],
 "metadata": {
  "kernelspec": {
   "display_name": "Python 3 (ipykernel)",
   "language": "python",
   "name": "python3"
  },
  "language_info": {
   "codemirror_mode": {
    "name": "ipython",
    "version": 3
   },
   "file_extension": ".py",
   "mimetype": "text/x-python",
   "name": "python",
   "nbconvert_exporter": "python",
   "pygments_lexer": "ipython3",
   "version": "3.8.10"
  }
 },
 "nbformat": 4,
 "nbformat_minor": 5
}
