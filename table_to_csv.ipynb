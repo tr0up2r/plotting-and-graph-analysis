{
 "cells": [
  {
   "cell_type": "code",
   "execution_count": 6,
   "id": "61dab81a",
   "metadata": {},
   "outputs": [],
   "source": [
    "import pymysql.cursors\n",
    "import pandas as pd\n",
    "import numpy as np\n",
    "import connect_to_db as cn"
   ]
  },
  {
   "cell_type": "code",
   "execution_count": 7,
   "id": "00b01343",
   "metadata": {},
   "outputs": [],
   "source": [
    "sql = 'select * from mentor_mentee_relationship;'\n",
    "result_df = cn.select_query_result_to_df(sql)"
   ]
  },
  {
   "cell_type": "code",
   "execution_count": 3,
   "id": "1bb8bc02",
   "metadata": {},
   "outputs": [],
   "source": [
    "result_df.to_csv('mentor_mentee_relationship.csv', sep=',', na_rep='NaN', index=None)"
   ]
  }
 ],
 "metadata": {
  "kernelspec": {
   "display_name": "Python 3 (ipykernel)",
   "language": "python",
   "name": "python3"
  },
  "language_info": {
   "codemirror_mode": {
    "name": "ipython",
    "version": 3
   },
   "file_extension": ".py",
   "mimetype": "text/x-python",
   "name": "python",
   "nbconvert_exporter": "python",
   "pygments_lexer": "ipython3",
   "version": "3.8.10"
  }
 },
 "nbformat": 4,
 "nbformat_minor": 5
}
