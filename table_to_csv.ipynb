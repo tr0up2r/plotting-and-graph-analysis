{
 "cells": [
  {
   "cell_type": "code",
   "execution_count": 6,
   "id": "61dab81a",
   "metadata": {},
   "outputs": [],
   "source": [
    "import pymysql.cursors\n",
    "import pandas as pd\n",
    "import numpy as np\n",
    "import connect_to_db as cn"
   ]
  },
  {
   "cell_type": "code",
   "execution_count": 7,
   "id": "00b01343",
   "metadata": {},
   "outputs": [
    {
     "data": {
      "text/html": [
       "<div>\n",
       "<style scoped>\n",
       "    .dataframe tbody tr th:only-of-type {\n",
       "        vertical-align: middle;\n",
       "    }\n",
       "\n",
       "    .dataframe tbody tr th {\n",
       "        vertical-align: top;\n",
       "    }\n",
       "\n",
       "    .dataframe thead th {\n",
       "        text-align: right;\n",
       "    }\n",
       "</style>\n",
       "<table border=\"1\" class=\"dataframe\">\n",
       "  <thead>\n",
       "    <tr style=\"text-align: right;\">\n",
       "      <th></th>\n",
       "      <th>mentor</th>\n",
       "      <th>mentee</th>\n",
       "    </tr>\n",
       "  </thead>\n",
       "  <tbody>\n",
       "    <tr>\n",
       "      <th>0</th>\n",
       "      <td>_________________UWU</td>\n",
       "      <td>asdfgnjklll</td>\n",
       "    </tr>\n",
       "    <tr>\n",
       "      <th>1</th>\n",
       "      <td>______________Blank</td>\n",
       "      <td>hopelessromantic_99</td>\n",
       "    </tr>\n",
       "    <tr>\n",
       "      <th>2</th>\n",
       "      <td>_________-----------</td>\n",
       "      <td>Marco_the_Vegan</td>\n",
       "    </tr>\n",
       "    <tr>\n",
       "      <th>3</th>\n",
       "      <td>_________ez_________</td>\n",
       "      <td>crapenvelope</td>\n",
       "    </tr>\n",
       "    <tr>\n",
       "      <th>4</th>\n",
       "      <td>_______Anon______</td>\n",
       "      <td>ickisthemeatfairy</td>\n",
       "    </tr>\n",
       "    <tr>\n",
       "      <th>...</th>\n",
       "      <td>...</td>\n",
       "      <td>...</td>\n",
       "    </tr>\n",
       "    <tr>\n",
       "      <th>2250392</th>\n",
       "      <td>zzzzzsleepyzzzzz</td>\n",
       "      <td>HalfNothing</td>\n",
       "    </tr>\n",
       "    <tr>\n",
       "      <th>2250393</th>\n",
       "      <td>zzzzzsleepyzzzzz</td>\n",
       "      <td>Swoonikit</td>\n",
       "    </tr>\n",
       "    <tr>\n",
       "      <th>2250394</th>\n",
       "      <td>zzzzzzz____</td>\n",
       "      <td>frickfrick123</td>\n",
       "    </tr>\n",
       "    <tr>\n",
       "      <th>2250395</th>\n",
       "      <td>zzzzzzz____</td>\n",
       "      <td>gr33nberry</td>\n",
       "    </tr>\n",
       "    <tr>\n",
       "      <th>2250396</th>\n",
       "      <td>zzzzzzzzzz-</td>\n",
       "      <td>No_Physics3697</td>\n",
       "    </tr>\n",
       "  </tbody>\n",
       "</table>\n",
       "<p>2250397 rows × 2 columns</p>\n",
       "</div>"
      ],
      "text/plain": [
       "                       mentor               mentee\n",
       "0        _________________UWU          asdfgnjklll\n",
       "1         ______________Blank  hopelessromantic_99\n",
       "2        _________-----------      Marco_the_Vegan\n",
       "3        _________ez_________         crapenvelope\n",
       "4           _______Anon______    ickisthemeatfairy\n",
       "...                       ...                  ...\n",
       "2250392      zzzzzsleepyzzzzz          HalfNothing\n",
       "2250393      zzzzzsleepyzzzzz            Swoonikit\n",
       "2250394           zzzzzzz____        frickfrick123\n",
       "2250395           zzzzzzz____           gr33nberry\n",
       "2250396           zzzzzzzzzz-       No_Physics3697\n",
       "\n",
       "[2250397 rows x 2 columns]"
      ]
     },
     "execution_count": 7,
     "metadata": {},
     "output_type": "execute_result"
    }
   ],
   "source": [
    "# pymysql을 이용한 db connection.\n",
    "connection = cn.make_connection('connection.csv')\n",
    "\n",
    "cursor = connection.cursor(pymysql.cursors.DictCursor)\n",
    "\n",
    "sql = 'select mentor, mentee from mentor_mentee_relationship;'\n",
    "cursor.execute(sql)\n",
    "\n",
    "# result가 dict 형태로 return.\n",
    "result = cursor.fetchall()\n",
    "connection.close()\n",
    "\n",
    "result = pd.DataFrame(result)\n",
    "result"
   ]
  },
  {
   "cell_type": "code",
   "execution_count": 4,
   "id": "1bb8bc02",
   "metadata": {},
   "outputs": [],
   "source": [
    "result.to_csv('mentor_mentee.csv', sep=',', na_rep='NaN', index=None)"
   ]
  }
 ],
 "metadata": {
  "kernelspec": {
   "display_name": "Python 3 (ipykernel)",
   "language": "python",
   "name": "python3"
  },
  "language_info": {
   "codemirror_mode": {
    "name": "ipython",
    "version": 3
   },
   "file_extension": ".py",
   "mimetype": "text/x-python",
   "name": "python",
   "nbconvert_exporter": "python",
   "pygments_lexer": "ipython3",
   "version": "3.8.10"
  }
 },
 "nbformat": 4,
 "nbformat_minor": 5
}
