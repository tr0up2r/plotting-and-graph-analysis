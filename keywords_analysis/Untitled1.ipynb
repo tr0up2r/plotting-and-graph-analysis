{
 "cells": [
  {
   "cell_type": "code",
   "execution_count": 1,
   "id": "83ebeec9",
   "metadata": {},
   "outputs": [],
   "source": [
    "import sys\n",
    "sys.path.append('../custom_library')"
   ]
  },
  {
   "cell_type": "code",
   "execution_count": 3,
   "id": "9b413bcd",
   "metadata": {},
   "outputs": [],
   "source": [
    "import pandas as pd\n",
    "import numpy as np\n",
    "import csv\n",
    "import re\n",
    "import connect_to_db as cn"
   ]
  },
  {
   "cell_type": "code",
   "execution_count": 4,
   "id": "1ed7709a",
   "metadata": {},
   "outputs": [],
   "source": [
    "with open(f'../keywords_analysis/csv/keys/hub_comment_keys.csv', newline='') as f:\n",
    "    reader = csv.reader(f)\n",
    "    hub_comment_keys = list(reader)\n",
    "    \n",
    "with open(f'../keywords_analysis/csv/keys/normal_comment_keys.csv', newline='') as f:\n",
    "    reader = csv.reader(f)\n",
    "    normal_comment_keys = list(reader)\n",
    "    \n",
    "hub_comment_keys = list(set(sum(hub_comment_keys, [])))\n",
    "normal_comment_keys = list(set(sum(normal_comment_keys, [])))"
   ]
  },
  {
   "cell_type": "code",
   "execution_count": 33,
   "id": "5e9f343b",
   "metadata": {},
   "outputs": [],
   "source": [
    "def get_thread_len(key, thread_len):\n",
    "    thread_len = 0\n",
    "    sql = f\"select comment_key from comments where parent_key = '{key}';\"\n",
    "    result_df = cn.select_query_result_to_df(sql)\n",
    "    if result_df.empty:\n",
    "        return thread_len\n",
    "    keys = list(np.array(result_df['comment_key'].astype(str).values.tolist()))\n",
    "    thread_len += len(keys)\n",
    "    \n",
    "    for key in keys:\n",
    "        thread_len += get_thread_len(key, thread_len)\n",
    "    \n",
    "    return thread_len"
   ]
  },
  {
   "cell_type": "code",
   "execution_count": 49,
   "id": "f9984f0b",
   "metadata": {},
   "outputs": [],
   "source": [
    "def thread_len_main(keys):\n",
    "    thread_len_list = []\n",
    "\n",
    "    for key in keys:\n",
    "        thread_len = 1\n",
    "        # print(key)\n",
    "        sql = f\"select comment_key from comments where parent_key = '{key}';\"\n",
    "        result_df = cn.select_query_result_to_df(sql)\n",
    "        if result_df.empty:\n",
    "            thread_len_list.append(thread_len)\n",
    "            continue\n",
    "        keys = list(np.array(result_df['comment_key'].astype(str).values.tolist()))\n",
    "        thread_len += len(keys)\n",
    "        # print(keys)\n",
    "    \n",
    "        for key in keys:\n",
    "            thread_len += get_thread_len(key, thread_len)\n",
    "    \n",
    "        thread_len_list.append(thread_len)\n",
    "    \n",
    "    return thread_len_list"
   ]
  },
  {
   "cell_type": "code",
   "execution_count": 74,
   "id": "e923b808",
   "metadata": {},
   "outputs": [
    {
     "name": "stdout",
     "output_type": "stream",
     "text": [
      "3.460693313127486\n",
      "3.4167175935356826\n"
     ]
    }
   ],
   "source": [
    "hub_len_list = thread_len_main(hub_comment_keys)\n",
    "print(sum(hub_len_list) / len(hub_len_list))\n",
    "normal_len_list = thread_len_main(normal_comment_keys)\n",
    "print(sum(normal_len_list) / len(normal_len_list))"
   ]
  },
  {
   "cell_type": "code",
   "execution_count": 71,
   "id": "daf468b9",
   "metadata": {},
   "outputs": [
    {
     "name": "stdout",
     "output_type": "stream",
     "text": [
      "3.47\n",
      "3.3365\n"
     ]
    }
   ],
   "source": [
    "print(sum(hub_len_list) / len(hub_len_list))\n",
    "print(sum(normal_len_list) / len(normal_len_list))"
   ]
  },
  {
   "cell_type": "code",
   "execution_count": null,
   "id": "9bfbf2ec",
   "metadata": {},
   "outputs": [],
   "source": []
  },
  {
   "cell_type": "code",
   "execution_count": null,
   "id": "3ad3f13d",
   "metadata": {},
   "outputs": [],
   "source": []
  },
  {
   "cell_type": "code",
   "execution_count": 63,
   "id": "1d3f85eb",
   "metadata": {},
   "outputs": [],
   "source": [
    "import pymysql.cursors\n",
    "import pandas as pd\n",
    "import numpy as np\n",
    "import matplotlib.pyplot as plt\n",
    "import connect_to_db as cn\n",
    "from matplotlib.ticker import MaxNLocator"
   ]
  },
  {
   "cell_type": "code",
   "execution_count": 64,
   "id": "503c7e7a",
   "metadata": {},
   "outputs": [],
   "source": [
    "# Font 설정.\n",
    "plt.rcParams.update({'font.family':'Arial'})"
   ]
  },
  {
   "cell_type": "code",
   "execution_count": 65,
   "id": "70493a31",
   "metadata": {},
   "outputs": [],
   "source": [
    "def normalization(data):\n",
    "    return (data - np.min(data)) / (np.max(data) - np.min(data))"
   ]
  },
  {
   "cell_type": "code",
   "execution_count": 66,
   "id": "40185ad7",
   "metadata": {},
   "outputs": [],
   "source": [
    "def draw_multiple_cdf_normalize_y(np_result_list, title, colors, xlabel, legends, linestyles, log_scale, only_integer=False):\n",
    "    if log_scale:\n",
    "        title = title + '_log_scale'\n",
    "    filename = title + '.eps'\n",
    "    \n",
    "    fig = plt.figure(figsize=(15,10))\n",
    "    fig.set_facecolor('white')\n",
    "    ax = fig.add_subplot()\n",
    "    \n",
    "    for np_result, color, legend, linestyle in zip(np_result_list, colors, legends, linestyles):\n",
    "        sorted_data = np.sort(np_result)\n",
    "        if legend == 'no legend':\n",
    "            plt.step(sorted_data, normalization(np.arange(sorted_data.size)), color=color, linestyle=linestyle, linewidth=7)\n",
    "        else:\n",
    "            plt.step(sorted_data, normalization(np.arange(sorted_data.size)), label=legend, color=color, linestyle=linestyle, linewidth=7)\n",
    "        if log_scale:\n",
    "            plt.xscale('symlog')\n",
    "            \n",
    "        ax.spines['right'].set_color('black')\n",
    "        ax.spines['top'].set_color('black')\n",
    "        ax.spines['left'].set_color('black')\n",
    "        ax.spines['bottom'].set_color('black')\n",
    "        \n",
    "        if only_integer:\n",
    "            ax.xaxis.set_major_locator(MaxNLocator(integer=True))\n",
    "  \n",
    "    if legend != 'no legend':\n",
    "        plt.legend(prop={'size': 48 }, loc = 'lower right', framealpha=1, edgecolor='0')\n",
    "\n",
    "    plt.xticks(fontsize=36)\n",
    "    plt.yticks(fontsize=36)\n",
    "    \n",
    "    plt.savefig(f\"../figure/eps/{filename}\", bbox_inches='tight', format='eps')\n",
    "    plt.show()"
   ]
  },
  {
   "cell_type": "code",
   "execution_count": 67,
   "id": "e0b3a487",
   "metadata": {},
   "outputs": [],
   "source": [
    "colors = ['#ef8a62', '#67a9cf']\n",
    "linestyles = ['-', '--']"
   ]
  },
  {
   "cell_type": "code",
   "execution_count": 72,
   "id": "cae22e25",
   "metadata": {},
   "outputs": [
    {
     "data": {
      "image/png": "[encoded data removed]",
      "text/plain": [
       "<Figure size 1080x720 with 1 Axes>"
      ]
     },
     "metadata": {},
     "output_type": "display_data"
    }
   ],
   "source": [
    "np_result_list = []\n",
    "np_result_list.append(hub_len_list)\n",
    "np_result_list.append(normal_len_list)\n",
    "legends = ['Supporters', 'Random']\n",
    "\n",
    "draw_multiple_cdf_normalize_y(np_result_list, 'cdf_nested_comments_by_words', colors, 'Number of Nested Comments', legends, linestyles, False)"
   ]
  },
  {
   "cell_type": "code",
   "execution_count": null,
   "id": "d00aad65",
   "metadata": {},
   "outputs": [],
   "source": []
  },
  {
   "cell_type": "code",
   "execution_count": null,
   "id": "d7dc4816",
   "metadata": {},
   "outputs": [],
   "source": []
  },
  {
   "cell_type": "code",
   "execution_count": null,
   "id": "bff4bd79",
   "metadata": {},
   "outputs": [],
   "source": []
  },
  {
   "cell_type": "code",
   "execution_count": 75,
   "id": "f9a4ed47",
   "metadata": {},
   "outputs": [],
   "source": [
    "sql = f\"select distinct(author) from comments where is_valid_author=0;\"\n",
    "sql2 = f\"select distinct(author) from posts where is_valid_author=0;\"\n",
    "\n",
    "result_df1 = cn.select_query_result_to_df(sql)\n",
    "author1 = set(list(np.array(result_df1['author'].astype(str).values.tolist())))\n",
    "\n",
    "result_df2 = cn.select_query_result_to_df(sql2)\n",
    "author2 = set(list(np.array(result_df2['author'].astype(str).values.tolist())))"
   ]
  },
  {
   "cell_type": "code",
   "execution_count": 76,
   "id": "7b76507a",
   "metadata": {},
   "outputs": [
    {
     "name": "stdout",
     "output_type": "stream",
     "text": [
      "619\n"
     ]
    }
   ],
   "source": [
    "print(len(author1.union(author2)))"
   ]
  },
  {
   "cell_type": "code",
   "execution_count": null,
   "id": "c2a110b3",
   "metadata": {},
   "outputs": [],
   "source": []
  },
  {
   "cell_type": "code",
   "execution_count": null,
   "id": "b93c34f7",
   "metadata": {},
   "outputs": [],
   "source": []
  },
  {
   "cell_type": "code",
   "execution_count": null,
   "id": "0a5a937b",
   "metadata": {},
   "outputs": [],
   "source": [
    "sql = f\"select sum(indegree) from nodes;\"\n",
    "sql2 = f\"select sum(outdegree) from nodes;\"\n",
    "\n",
    "result_df1 = cn.select_query_result_to_df(sql)\n",
    "\n",
    "\n",
    "result_df2 = cn.select_query_result_to_df(sql2)\n",
    "author2 = set(list(np.array(result_df2['author'].astype(str).values.tolist())))"
   ]
  }
 ],
 "metadata": {
  "kernelspec": {
   "display_name": "Python 3 (ipykernel)",
   "language": "python",
   "name": "python3"
  },
  "language_info": {
   "codemirror_mode": {
    "name": "ipython",
    "version": 3
   },
   "file_extension": ".py",
   "mimetype": "text/x-python",
   "name": "python",
   "nbconvert_exporter": "python",
   "pygments_lexer": "ipython3",
   "version": "3.8.10"
  }
 },
 "nbformat": 4,
 "nbformat_minor": 5
}
