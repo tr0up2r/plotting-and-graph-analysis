{
 "cells": [
  {
   "cell_type": "code",
   "execution_count": 1,
   "id": "dc09fc45",
   "metadata": {},
   "outputs": [],
   "source": [
    "import sys\n",
    "sys.path.append('../custom_library')"
   ]
  },
  {
   "cell_type": "code",
   "execution_count": 13,
   "id": "e03324d8",
   "metadata": {},
   "outputs": [],
   "source": [
    "import nltk\n",
    "from nltk.sentiment.vader import SentimentIntensityAnalyzer\n",
    "import pandas as pd\n",
    "import numpy as np\n",
    "import csv\n",
    "import re\n",
    "import connect_to_db as cn"
   ]
  },
  {
   "cell_type": "code",
   "execution_count": null,
   "id": "5e7eea44",
   "metadata": {},
   "outputs": [],
   "source": [
    "nltk.download('vader_lexicon')"
   ]
  },
  {
   "cell_type": "code",
   "execution_count": 29,
   "id": "dd5bab65",
   "metadata": {},
   "outputs": [],
   "source": [
    "with open(f'../keywords_analysis/csv/keys/hub_comment_keys.csv', newline='') as f:\n",
    "    reader = csv.reader(f)\n",
    "    hub_comment_keys = list(reader)\n",
    "    \n",
    "with open(f'../keywords_analysis/csv/keys/normal_comment_keys.csv', newline='') as f:\n",
    "    reader = csv.reader(f)\n",
    "    normal_comment_keys = list(reader)\n",
    "    \n",
    "hub_comment_keys = list(set(sum(hub_comment_keys, [])))\n",
    "normal_comment_keys = list(set(sum(normal_comment_keys, [])))"
   ]
  },
  {
   "cell_type": "code",
   "execution_count": 34,
   "id": "70c8370e",
   "metadata": {},
   "outputs": [
    {
     "name": "stdout",
     "output_type": "stream",
     "text": [
      "73906 88362\n"
     ]
    }
   ],
   "source": [
    "print(len(hub_comment_keys), len(normal_comment_keys))"
   ]
  },
  {
   "cell_type": "code",
   "execution_count": 54,
   "id": "6ca9e20b",
   "metadata": {},
   "outputs": [],
   "source": [
    "def sentiment_analysis_using_docs(keys):\n",
    "    sum_scores = [0, 0, 0, 0]\n",
    "    co_comments_len = 0\n",
    "    \n",
    "    for key in keys:    \n",
    "        sql = f\"select body from comments where is_valid=1 and is_valid_author=1 and parent_key='{key}';\"\n",
    "        result_df = cn.select_query_result_to_df(sql)\n",
    "        comments = list(np.array(result_df['body'].astype(str).values.tolist()))\n",
    "        \n",
    "        for comment in comments:\n",
    "            co_comments_len += 1\n",
    "            sum_scores[0] += SentimentIntensityAnalyzer().polarity_scores(comment)['neg']\n",
    "            sum_scores[1] += SentimentIntensityAnalyzer().polarity_scores(comment)['neu']\n",
    "            sum_scores[2] += SentimentIntensityAnalyzer().polarity_scores(comment)['pos']\n",
    "            sum_scores[3] += SentimentIntensityAnalyzer().polarity_scores(comment)['compound']\n",
    "    \n",
    "    return list(map(lambda x:x/co_comments_len, sum_scores))"
   ]
  },
  {
   "cell_type": "code",
   "execution_count": 53,
   "id": "9c18f136",
   "metadata": {},
   "outputs": [
    {
     "name": "stdout",
     "output_type": "stream",
     "text": [
      "[0.08360195903829024, 0.6940676758682097, 0.222345503116652, 0.2693460373998217]\n",
      "[0.10163247863247862, 0.691208547008547, 0.20629487179487174, 0.2175768376068378]\n"
     ]
    }
   ],
   "source": [
    "print(sentiment_analysis_using_docs(hub_comment_keys))\n",
    "print(sentiment_analysis_using_docs(normal_comment_keys))"
   ]
  },
  {
   "cell_type": "code",
   "execution_count": 38,
   "id": "96aa735c",
   "metadata": {},
   "outputs": [],
   "source": [
    "h_sum_compound = 0\n",
    "h_co_comments_len = 0\n",
    "n_sum_compound = 0\n",
    "n_co_comments_len = 0\n",
    "\n",
    "\n",
    "\n",
    "for h_key, n_key in zip(hub_comment_keys[:1000], normal_comment_keys[:1000]):    \n",
    "    h_sql = f\"select body from comments where is_valid=1 and is_valid_author=1 and parent_key='{h_key}';\"\n",
    "    n_sql = f\"select body from comments where is_valid=1 and is_valid_author=1 and parent_key='{h_key}';\"\n",
    "    \n",
    "    h_df = cn.select_query_result_to_df(h_sql)\n",
    "    n_df = cn.select_query_result_to_df(n_sql)\n",
    "    \n",
    "    h_docs = list(np.array(h_df['body'].astype(str).values.tolist()))\n",
    "    n_docs = list(np.array(n_df['body'].astype(str).values.tolist()))\n",
    "    \n",
    "    for h_doc in h_doc"
   ]
  },
  {
   "cell_type": "code",
   "execution_count": null,
   "id": "2b36149b",
   "metadata": {},
   "outputs": [],
   "source": [
    "for n_key in normal_comment_keys[:1000]:    \n",
    "    sql = f\"select body from comments where is_valid=1 and is_valid_author=1 and parent_key='{h_key}';\"\n",
    "    result_df = cn.select_query_result_to_df(sql)\n",
    "    docs = list(np.array(result_df['body'].astype(str).values.tolist()))"
   ]
  },
  {
   "cell_type": "code",
   "execution_count": 12,
   "id": "f60af793",
   "metadata": {},
   "outputs": [
    {
     "data": {
      "text/plain": [
       "{'neg': 0.0, 'neu': 1.0, 'pos': 0.0, 'compound': 0.0}"
      ]
     },
     "execution_count": 12,
     "metadata": {},
     "output_type": "execute_result"
    }
   ],
   "source": [
    "SentimentIntensityAnalyzer().polarity_scores(\"\")"
   ]
  },
  {
   "cell_type": "code",
   "execution_count": null,
   "id": "14646c44",
   "metadata": {},
   "outputs": [],
   "source": [
    "sum_compound = 0\n",
    "for comment in docs:\n",
    "    sum_compound += SentimentIntensityAnalyzer().polarity_scores(comment)['compound']\n",
    "    # print(comment, SentimentIntensityAnalyzer().polarity_scores(comment)['compound'])\n",
    "    \n",
    "print(sum_compound / len(docs))"
   ]
  }
 ],
 "metadata": {
  "kernelspec": {
   "display_name": "Python 3 (ipykernel)",
   "language": "python",
   "name": "python3"
  },
  "language_info": {
   "codemirror_mode": {
    "name": "ipython",
    "version": 3
   },
   "file_extension": ".py",
   "mimetype": "text/x-python",
   "name": "python",
   "nbconvert_exporter": "python",
   "pygments_lexer": "ipython3",
   "version": "3.8.10"
  }
 },
 "nbformat": 4,
 "nbformat_minor": 5
}
