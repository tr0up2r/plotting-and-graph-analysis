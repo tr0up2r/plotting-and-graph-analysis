{
 "cells": [
  {
   "cell_type": "code",
   "execution_count": 4,
   "id": "eb3541b4",
   "metadata": {},
   "outputs": [],
   "source": [
    "import sys\n",
    "sys.path.append('../custom_library')\n",
    "\n",
    "import pandas as pd\n",
    "import numpy as np\n",
    "import csv\n",
    "import re\n",
    "\n",
    "import connect_to_db as cn\n",
    "\n",
    "\n",
    "def get_top_keywords(filename):\n",
    "\n",
    "    with open(f'../keywords_analysis/csv/keywords/{filename}', newline='') as f:\n",
    "        reader = csv.reader(f)\n",
    "        keywords_pair = list(reader)\n",
    "        \n",
    "    top_keywords = []\n",
    "    for pair in keywords_pair:\n",
    "        top_keywords.append(pair[0])\n",
    "        \n",
    "    return keywords_pair, top_keywords\n",
    "\n",
    "\n",
    "def top_keywords_main(filenames):\n",
    "    hub_pair, hub_top_keywords = get_top_keywords(filenames[0])\n",
    "    normal_pair, normal_top_keywords = get_top_keywords(filenames[1])\n",
    "\n",
    "    hub_top_50 = set(hub_top_keywords[:300]) - set(normal_top_keywords[:300])\n",
    "    normal_top_50 = set(normal_top_keywords[:300]) - set(hub_top_keywords[:300])\n",
    "\n",
    "    hub_top_50_pair = []\n",
    "    normal_top_50_pair = []\n",
    "\n",
    "    for pair in hub_pair:\n",
    "        for word in hub_top_50:\n",
    "            if pair[0] == word:\n",
    "                hub_top_50_pair.append(pair)\n",
    "            \n",
    "    for pair in normal_pair:\n",
    "        for word in normal_top_50:\n",
    "            if pair[0] == word:\n",
    "                normal_top_50_pair.append(pair)            \n",
    "            \n",
    "    hub_top_50_df = pd.DataFrame(hub_top_50_pair)\n",
    "    normal_top_50_df = pd.DataFrame(normal_top_50_pair)\n",
    "\n",
    "    hub_top_50_df.to_csv(f\"../keywords_analysis/csv/keywords/top_50_{filenames[0]}\", header=None, index=None)\n",
    "    normal_top_50_df.to_csv(f\"../keywords_analysis/csv/keywords/top_50_{filenames[1]}.csv\", header=None, index=None)"
   ]
  },
  {
   "cell_type": "code",
   "execution_count": 5,
   "id": "873124c4",
   "metadata": {},
   "outputs": [],
   "source": [
    "top_keywords_main(['keywords_get_hub.csv', 'keywords_get_normal.csv'])"
   ]
  },
  {
   "cell_type": "code",
   "execution_count": 16,
   "id": "e93bbef4",
   "metadata": {},
   "outputs": [],
   "source": [
    "with open(f'../keywords_analysis/csv/keywords/top_50_keywords_hub.csv', newline='') as f:\n",
    "    reader = csv.reader(f)\n",
    "    hub_pairs = list(reader)\n",
    "    \n",
    "with open(f'../keywords_analysis/csv/keywords/top_50_keywords_normal.csv', newline='') as f:\n",
    "    reader = csv.reader(f)\n",
    "    normal_pairs = list(reader)\n",
    "        \n",
    "hub_top_50 = []\n",
    "normal_top_50 = []\n",
    "    \n",
    "for h_pair, n_pair in zip(hub_pairs, normal_pairs):\n",
    "    hub_top_50.append(h_pair[0])\n",
    "    normal_top_50.append(n_pair[0])"
   ]
  },
  {
   "cell_type": "code",
   "execution_count": 35,
   "id": "6c3ae82e",
   "metadata": {},
   "outputs": [
    {
     "name": "stdout",
     "output_type": "stream",
     "text": [
      "[['treat'], ['overcoming'], ['overview'], ['bud'], ['tips'], ['effects'], ['voices'], ['meditation'], ['dissociation'], ['general'], ['cbt'], ['boundaries'], ['psychotic'], ['suggest'], ['delusions'], ['recovery'], ['posts'], ['talked'], ['hallucinations'], ['mania'], ['set'], ['shame'], ['article'], ['food'], ['rule'], ['therapists'], ['lose'], ['movie'], ['related'], ['system'], ['term'], ['date'], ['heal'], ['plan'], ['harm'], ['behavior'], ['medical'], ['dose'], ['intrusive'], ['motivation'], ['bring'], ['act'], ['specific'], ['lack'], ['erp'], ['parent'], ['questions'], ['choice'], ['suck'], ['avoid']]\n"
     ]
    }
   ],
   "source": [
    "hub_word_comment_list = []\n",
    "for i in range(50):\n",
    "    hub_word_comment_list.append([hub_top_50[i]])\n",
    "print(hub_word_comment_list)"
   ]
  },
  {
   "cell_type": "code",
   "execution_count": 36,
   "id": "63fcdc7c",
   "metadata": {},
   "outputs": [
    {
     "name": "stdout",
     "output_type": "stream",
     "text": [
      "84716\n",
      "74591\n"
     ]
    }
   ],
   "source": [
    "with open(f'../keywords_analysis/csv/keys/hub_comment_keys_and_words.csv', newline='') as f:\n",
    "        reader = csv.reader(f)\n",
    "        result = list(reader)\n",
    "        \n",
    "keys_and_words = []\n",
    "for r in result:\n",
    "    if r not in keys_and_words:\n",
    "        keys_and_words.append(r)\n",
    "        \n",
    "print(len(result))\n",
    "print(len(keys_and_words))\n",
    "        \n",
    "for words in keys_and_words:\n",
    "    for word in words[1:]:\n",
    "            for i in range(50):\n",
    "                if hub_top_50[i] == word:\n",
    "                    hub_word_comment_list[i].append(words[0])\n",
    "                    break\n",
    "\n",
    "# print(hub_word_comment_list)"
   ]
  },
  {
   "cell_type": "code",
   "execution_count": 38,
   "id": "f45aaa87",
   "metadata": {},
   "outputs": [
    {
     "name": "stdout",
     "output_type": "stream",
     "text": [
      "['overcoming', 't1_fzi9kuy', 't1_fyug3qf', 't1_fwk5i6h', 't1_fwk2er4', 't1_ge6cv19', 't1_g361ep5', 't1_g1j413x', 't1_g0o65vf', 't1_fedb5qq', 't1_g9rl922', 't1_g8y81tw', 't1_g8hstfo', 't1_g778g74', 't1_g2097s5', 't1_g1of2g9', 't1_ggpktg8', 't1_ggadd2f', 't1_gg8g6xj', 't1_gg72h2i', 't1_gg2n9c1', 't1_gg005w4', 't1_fp0yezx', 't1_fmaz8am', 't1_fvwljms', 't1_fodz03m', 't1_fnrnfrg', 't1_fnjray6', 't1_fru7quo', 't1_fqbm2rt', 't1_flmggq7', 't1_g74o753', 't1_g540ys0', 't1_fvki8gx', 't1_fvr151q', 't1_fnvswnp', 't1_feoovm6', 't1_ggf99a7', 't1_gg6114q', 't1_g4k6i63', 't1_fvyiv9e', 't1_fv9oej4', 't1_gdtb5eq', 't1_gcssb4y', 't1_gcrf8mg', 't1_gckvepd', 't1_g2rbs8v', 't1_fl4udjb', 't1_fqr4m84', 't1_fz8n8g5', 't1_gda8ak9', 't1_gcx2v1y', 't1_gcx8y94', 't1_gcibox7', 't1_fy7vwv1', 't1_fwuxy1f', 't1_g70wzom', 't1_g60np02', 't1_fp0yf9u', 't1_fo6ik49', 't1_fmcazuw', 't1_fz7crnb', 't1_ga58vuh', 't1_g9ks8fb', 't1_g8uokbo', 't1_g8aau00', 't1_g7wy0pe', 't1_g45s8ec', 't1_fos61zn', 't1_fldktz1', 't1_fl0gbw6', 't1_fj5joiz', 't1_floyp0a', 't1_fk5qjww', 't1_fj5vkdu', 't1_ge26fb5', 't1_fx0lpgh', 't1_ffbn4no', 't1_fe5eh2o', 't1_fjlnumv', 't1_g6ebk6r', 't1_g55tqbo', 't1_g4lg08u', 't1_g0mo6ls', 't1_g5s73tx', 't1_fnmt9u7', 't1_g7tzyhw', 't1_foonz1o', 't1_ft7w0di', 't1_g2tnhwh', 't1_g132kiy', 't1_ffpxb1j', 't1_fd6ehpa', 't1_g2o3ykk', 't1_g25v9kt', 't1_gbd6l03', 't1_g3cb253', 't1_g0g11i6', 't1_g0g3swi', 't1_g2o75n8', 't1_g1wxf6c', 't1_g17raig', 't1_fji2p4d', 't1_fs08yez', 't1_fr7ms6y', 't1_fqxrv4e', 't1_fpsrqgd', 't1_fpo9ywq', 't1_fthjers', 't1_ggnbv9y', 't1_fok35p0', 't1_fq2v9iw', 't1_fpslnpt', 't1_fv37v9t', 't1_g0mp62s', 't1_fj52o3e', 't1_fef3q2l', 't1_fhzcawb', 't1_g81d2q3', 't1_g7u0klp', 't1_g7hi8vi', 't1_g77b0to', 't1_fy7s8ot', 't1_fjodjsx', 't1_fj95pfe', 't1_gdm8k4e', 't1_g7i5rnz', 't1_gcx4bh3', 't1_gcvj50x', 't1_gcu8xzg', 't1_gchc4nx', 't1_gbz4vu7', 't1_ggvjq2t', 't1_fvx6av1', 't1_fuvbbfl', 't1_fstuh1i', 't1_fhbdwkx', 't1_ff8cacl', 't1_g756s4c', 't1_g3ioyms', 't1_fqg4dwv', 't1_fphwzn5', 't1_fhfeb0k', 't1_g9v9o75', 't1_fdov0ip', 't1_gc1qyjm', 't1_gbwsqxu', 't1_g9lzwoe', 't1_g3vyyaz', 't1_ffdmxwr', 't1_fefg5yb', 't1_fef95cy', 't1_fduxvqq', 't1_fden16d', 't1_fmv9ise', 't1_fo3gl35', 't1_fnt69tr', 't1_fnft40y', 't1_fn0hg8m', 't1_fmwyl46', 't1_fmhvv1u', 't1_gh7pjrq', 't1_gg1bh4h', 't1_fqfenps', 't1_gc5pjfw', 't1_gc0grdb', 't1_gaxvz3l', 't1_g9sk1tl', 't1_g8ra1e2', 't1_g8dx199', 't1_g7fnw3l', 't1_g7dfssw', 't1_ggsh8r1', 't1_g5akkuh', 't1_g4z1h1p', 't1_g3z0bh8', 't1_g3mpopp', 't1_g2y7irw', 't1_g1cqjyp', 't1_g11839r', 't1_g0yam9c', 't1_ftj7m95', 't1_fojwpyq', 't1_fo104m5', 't1_fnxksbw', 't1_fmqaqmn', 't1_ge1u367', 't1_gcy6jfl', 't1_gbrw7mn', 't1_gb3lviq', 't1_fqxjzpi', 't1_gcykmmy', 't1_gaxcwqt', 't1_fz6ovlx', 't1_fjdpavg', 't1_fyjq0uk', 't1_fzoax3j', 't1_fzcseji', 't1_fyo8lew', 't1_fynv3jt', 't1_fypwopv', 't1_fy503gj', 't1_fxzz7qt', 't1_fxcc4k2', 't1_fx639gx', 't1_fz3ojzi', 't1_fphnhyk', 't1_fz2fdmc', 't1_fxfemq8', 't1_fmar4yk', 't1_fmeqj73', 't1_g98m5k7', 't1_g5y9j90', 't1_g5deuh7', 't1_g3l58y3', 't1_fedusw1', 't1_g1lkllt', 't1_g1dkw0a', 't1_g120bm4', 't1_ga3mn3r', 't1_g9w224u', 't1_gayv9r8', 't1_fhndfu7', 't1_fhl6bfd', 't1_fgjpue2', 't1_fghiegs', 't1_filkrdh', 't1_g5h74z6', 't1_g4jc08b', 't1_g3w9ny7', 't1_fg30nkh', 't1_fey0mln', 't1_gdkuchp', 't1_gbxp1vf', 't1_ffk4byj', 't1_filvx5z', 't1_fi6rri2', 't1_fhwdr30', 't1_fgxpxit', 't1_fgfiy54', 't1_g95frxe', 't1_g88w1gp', 't1_gh777gd', 't1_gft0f8n', 't1_gf4jj54', 't1_getulfb', 't1_fqv4bt3', 't1_fpgwbjy', 't1_fk5ntjx', 't1_fh8d6wv', 't1_gh7ews7', 't1_ggu3440', 't1_gfdr008', 't1_gel3vgl', 't1_ge6spi6', 't1_fg2td23', 't1_fz5bvzu', 't1_fyq6v5e', 't1_ghizsnc', 't1_gffsem6', 't1_gebu7bk', 't1_fw0gt8i', 't1_fsmq3gj', 't1_fseeb7i', 't1_fz9ccpm', 't1_fvvhv4w', 't1_fv2qaoi', 't1_ffyuypr', 't1_ffmrwzr', 't1_ffgwmlb', 't1_fevwn1l', 't1_fdkdluy', 't1_fvwcp2p', 't1_ftllg4u', 't1_ggnk9e6', 't1_ggjjz2d', 't1_gaccu1j', 't1_g94k1os', 't1_g8zxsku', 't1_g7zkl9p', 't1_fw7x0fj', 't1_g6xeqko', 't1_fl5cn64', 't1_fk4pcmp', 't1_fjf7wig', 't1_fjbi5g6', 't1_fxz10hg', 't1_g743quh', 't1_fsf7x2c', 't1_fs1vs0h', 't1_frymzkv', 't1_frol9ey', 't1_fq9s01u', 't1_g0oo6z5']\n"
     ]
    }
   ],
   "source": [
    "print(len(hub_word_comment_list[1]))"
   ]
  },
  {
   "cell_type": "code",
   "execution_count": null,
   "id": "9688a8d0",
   "metadata": {},
   "outputs": [],
   "source": [
    "hub_top_50_df.to_csv(f\"../keywords_analysis/csv/keywords/top_50_{filenames[0]}\", header=None, index=None)"
   ]
  }
 ],
 "metadata": {
  "kernelspec": {
   "display_name": "Python 3 (ipykernel)",
   "language": "python",
   "name": "python3"
  },
  "language_info": {
   "codemirror_mode": {
    "name": "ipython",
    "version": 3
   },
   "file_extension": ".py",
   "mimetype": "text/x-python",
   "name": "python",
   "nbconvert_exporter": "python",
   "pygments_lexer": "ipython3",
   "version": "3.8.10"
  }
 },
 "nbformat": 4,
 "nbformat_minor": 5
}
