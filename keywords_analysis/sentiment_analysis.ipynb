{
 "cells": [
  {
   "cell_type": "code",
   "execution_count": 1,
   "id": "dc09fc45",
   "metadata": {},
   "outputs": [],
   "source": [
    "import sys\n",
    "sys.path.append('../custom_library')"
   ]
  },
  {
   "cell_type": "code",
   "execution_count": 13,
   "id": "e03324d8",
   "metadata": {},
   "outputs": [],
   "source": [
    "import nltk\n",
    "from nltk.sentiment.vader import SentimentIntensityAnalyzer\n",
    "import pandas as pd\n",
    "import numpy as np\n",
    "import csv\n",
    "import re\n",
    "import connect_to_db as cn"
   ]
  },
  {
   "cell_type": "code",
   "execution_count": null,
   "id": "5e7eea44",
   "metadata": {},
   "outputs": [],
   "source": [
    "nltk.download('vader_lexicon')"
   ]
  },
  {
   "cell_type": "code",
   "execution_count": 29,
   "id": "dd5bab65",
   "metadata": {},
   "outputs": [],
   "source": [
    "with open(f'../keywords_analysis/csv/keys/hub_comment_keys.csv', newline='') as f:\n",
    "    reader = csv.reader(f)\n",
    "    hub_comment_keys = list(reader)\n",
    "    \n",
    "with open(f'../keywords_analysis/csv/keys/normal_comment_keys.csv', newline='') as f:\n",
    "    reader = csv.reader(f)\n",
    "    normal_comment_keys = list(reader)\n",
    "    \n",
    "hub_comment_keys = list(set(sum(hub_comment_keys, [])))\n",
    "normal_comment_keys = list(set(sum(normal_comment_keys, [])))"
   ]
  },
  {
   "cell_type": "code",
   "execution_count": 34,
   "id": "7ed80884",
   "metadata": {},
   "outputs": [
    {
     "name": "stdout",
     "output_type": "stream",
     "text": [
      "73906 88362\n"
     ]
    }
   ],
   "source": [
    "print(len(hub_comment_keys), len(normal_comment_keys))"
   ]
  },
  {
   "cell_type": "code",
   "execution_count": 94,
   "id": "b0bdfc43",
   "metadata": {},
   "outputs": [],
   "source": [
    "def sentiment_analysis_using_docs(keys):\n",
    "    sum_scores = [0, 0, 0, 0]\n",
    "    keys = tuple(keys)\n",
    "    \n",
    "    sql = f\"select parent_key, body from comments where is_valid=1 and is_valid_author=1 and parent_key in {keys};\"\n",
    "    result_df = cn.select_query_result_to_df(sql)\n",
    "    comments = list(np.array(result_df['body'].astype(str).values.tolist()))\n",
    "    co_comments_len = len(comments)\n",
    "    \n",
    "    print(co_comments_len)\n",
    "    for comment in comments:\n",
    "        senti_result = SentimentIntensityAnalyzer().polarity_scores(comment)\n",
    "        sum_scores[0] += senti_result['neg']\n",
    "        sum_scores[1] += senti_result['neu']\n",
    "        sum_scores[2] += senti_result['pos']\n",
    "        sum_scores[3] += senti_result['compound']\n",
    "\n",
    "    return list(map(lambda x:x/co_comments_len, sum_scores))"
   ]
  },
  {
   "cell_type": "code",
   "execution_count": 95,
   "id": "a6afcddc",
   "metadata": {},
   "outputs": [
    {
     "name": "stdout",
     "output_type": "stream",
     "text": [
      "83914\n",
      "[0.08881277260052084, 0.7016302285673586, 0.2093192196772908, 0.2412350168029118]\n",
      "102149\n",
      "[0.0956706184103614, 0.6887802523764346, 0.21516931149595023, 0.24622514464165104]\n"
     ]
    }
   ],
   "source": [
    "print(sentiment_analysis_using_docs(hub_comment_keys))\n",
    "print(sentiment_analysis_using_docs(normal_comment_keys))"
   ]
  },
  {
   "cell_type": "code",
   "execution_count": 38,
   "id": "a6cf9809",
   "metadata": {},
   "outputs": [],
   "source": [
    "h_sum_compound = 0\n",
    "h_co_comments_len = 0\n",
    "n_sum_compound = 0\n",
    "n_co_comments_len = 0\n",
    "\n",
    "\n",
    "\n",
    "for h_key, n_key in zip(hub_comment_keys[:1000], normal_comment_keys[:1000]):    \n",
    "    h_sql = f\"select body from comments where is_valid=1 and is_valid_author=1 and parent_key='{h_key}';\"\n",
    "    n_sql = f\"select body from comments where is_valid=1 and is_valid_author=1 and parent_key='{h_key}';\"\n",
    "    \n",
    "    h_df = cn.select_query_result_to_df(h_sql)\n",
    "    n_df = cn.select_query_result_to_df(n_sql)\n",
    "    \n",
    "    h_docs = list(np.array(h_df['body'].astype(str).values.tolist()))\n",
    "    n_docs = list(np.array(n_df['body'].astype(str).values.tolist()))\n",
    "    \n",
    "    for h_doc in h_doc"
   ]
  },
  {
   "cell_type": "code",
   "execution_count": null,
   "id": "fc589128",
   "metadata": {},
   "outputs": [],
   "source": [
    "for n_key in normal_comment_keys[:1000]:    \n",
    "    sql = f\"select body from comments where is_valid=1 and is_valid_author=1 and parent_key='{h_key}';\"\n",
    "    result_df = cn.select_query_result_to_df(sql)\n",
    "    docs = list(np.array(result_df['body'].astype(str).values.tolist()))"
   ]
  },
  {
   "cell_type": "code",
   "execution_count": 80,
   "id": "f60af793",
   "metadata": {},
   "outputs": [
    {
     "data": {
      "text/plain": [
       "dict"
      ]
     },
     "execution_count": 80,
     "metadata": {},
     "output_type": "execute_result"
    }
   ],
   "source": [
    "type(SentimentIntensityAnalyzer().polarity_scores(\"\"))"
   ]
  },
  {
   "cell_type": "code",
   "execution_count": null,
   "id": "14646c44",
   "metadata": {},
   "outputs": [],
   "source": [
    "sum_compound = 0\n",
    "for comment in docs:\n",
    "    sum_compound += SentimentIntensityAnalyzer().polarity_scores(comment)['compound']\n",
    "    # print(comment, SentimentIntensityAnalyzer().polarity_scores(comment)['compound'])\n",
    "    \n",
    "print(sum_compound / len(docs))"
   ]
  }
 ],
 "metadata": {
  "kernelspec": {
   "display_name": "Python 3 (ipykernel)",
   "language": "python",
   "name": "python3"
  },
  "language_info": {
   "codemirror_mode": {
    "name": "ipython",
    "version": 3
   },
   "file_extension": ".py",
   "mimetype": "text/x-python",
   "name": "python",
   "nbconvert_exporter": "python",
   "pygments_lexer": "ipython3",
   "version": "3.8.10"
  }
 },
 "nbformat": 4,
 "nbformat_minor": 5
}
