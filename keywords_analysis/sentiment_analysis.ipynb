{
 "cells": [
  {
   "cell_type": "code",
   "execution_count": 2,
   "id": "2fd413e2",
   "metadata": {},
   "outputs": [],
   "source": [
    "import pandas as pd\n",
    "import csv\n",
    "import re\n",
    "import nltk\n",
    "from nltk.sentiment.vader import SentimentIntensityAnalyzer"
   ]
  },
  {
   "cell_type": "markdown",
   "id": "079f59c1",
   "metadata": {},
   "source": [
    "# Get top keywords (hub / normal)"
   ]
  },
  {
   "cell_type": "code",
   "execution_count": 10,
   "id": "a6114404",
   "metadata": {},
   "outputs": [],
   "source": [
    "def get_top_keywords(filename):\n",
    "\n",
    "    with open(f'../extract_keywords/keywords/{filename}', newline='') as f:\n",
    "        reader = csv.reader(f)\n",
    "        keywords_pair = list(reader)\n",
    "        \n",
    "    top_keywords = []\n",
    "    for pair in keywords_pair:\n",
    "        top_keywords.append(pair[0])\n",
    "        \n",
    "    return keywords_pair, top_keywords"
   ]
  },
  {
   "cell_type": "code",
   "execution_count": 14,
   "id": "6a25af94",
   "metadata": {},
   "outputs": [],
   "source": [
    "normal_pair, normal_top_keywords = get_top_keywords('keywords_normal.csv')\n",
    "hub_pair, hub_top_keywords = get_top_keywords('keywords_hub.csv')"
   ]
  },
  {
   "cell_type": "code",
   "execution_count": 29,
   "id": "0322da20",
   "metadata": {},
   "outputs": [
    {
     "name": "stdout",
     "output_type": "stream",
     "text": [
      "39\n",
      "['ocd', 'suicidal', 'focus', 'online', 'psychiatrist', 'psychosis', 'check', 'anger', 'emotional', 'luck', 'side', 'professional', 'treat', 'overcoming', 'learn', 'diagnosis', 'fear', 'schizophrenia', 'illness', 'sense', 'helpful', 'tough', 'overview', 'treatment', 'fine', 'break', 'sex', 'women', 'bud', 'tips', 'future', 'issue', 'heard', 'move', 'depends', 'worry', 'stress', 'college', 'relationships']\n",
      "['treat', 'overcoming', 'overview', 'bud', 'tips', 'effects', 'voices', 'meditation', 'dissociation', 'general', 'cbt', 'boundaries', 'psychotic', 'suggest', 'delusions', 'recovery', 'posts', 'talked', 'hallucinations', 'mania', 'set', 'shame', 'article', 'food', 'rule', 'therapists', 'lose', 'movie', 'related', 'system', 'term', 'date', 'heal', 'plan', 'harm', 'behavior', 'medical', 'dose', 'intrusive', 'motivation', 'bring', 'act', 'specific', 'lack', 'erp', 'parent', 'questions', 'choice', 'suck', 'avoid']\n",
      "{'mania', 'dissociation', 'act', 'choice', 'harm', 'movie', 'term', 'lack', 'talked', 'general', 'questions', 'cbt', 'dose', 'set', 'erp', 'rule', 'medical', 'voices', 'heal', 'plan', 'intrusive', 'boundaries', 'hallucinations', 'avoid', 'effects', 'behavior', 'shame', 'article', 'delusions', 'specific', 'posts', 'food', 'date', 'suck', 'suggest', 'meditation', 'system', 'psychotic', 'therapists', 'bring', 'related', 'parent', 'recovery', 'lose', 'motivation'}\n"
     ]
    }
   ],
   "source": [
    "hub_words = [item for item in hub_top_keywords[:230] if item not in normal_top_keywords[:230]]\n",
    "hub_words2 = [item for item in hub_top_keywords[:452] if item not in normal_top_keywords[:452]]\n",
    "normal_words = [item for item in normal_top_keywords[:230] if item not in hub_top_keywords[:230]]\n",
    "print(len(hub_words))\n",
    "print(hub_words)\n",
    "print(hub_words2)\n",
    "\n",
    "print(set(hub_words2) - set(hub_words))"
   ]
  },
  {
   "cell_type": "code",
   "execution_count": 34,
   "id": "a97da707",
   "metadata": {},
   "outputs": [
    {
     "name": "stdout",
     "output_type": "stream",
     "text": [
      "['mania', 'dissociation', 'act', 'choice', 'harm', 'movie', 'term', 'talked', 'lack', 'general', 'treat', 'questions', 'cbt', 'bud', 'dose', 'set', 'erp', 'overview', 'rule', 'medical', 'voices', 'heal', 'bring', 'plan', 'intrusive', 'boundaries', 'hallucinations', 'avoid', 'effects', 'behavior', 'shame', 'article', 'delusions', 'specific', 'tips', 'posts', 'food', 'overcoming', 'date', 'suck', 'suggest', 'meditation', 'system', 'psychotic', 'therapists', 'related', 'parent', 'recovery', 'lose', 'motivation']\n"
     ]
    }
   ],
   "source": [
    "print(list((set(hub_top_keywords[:452]) - set(normal_top_keywords[:452]))))"
   ]
  },
  {
   "cell_type": "code",
   "execution_count": 36,
   "id": "2be92916",
   "metadata": {},
   "outputs": [
    {
     "name": "stdout",
     "output_type": "stream",
     "text": [
      "['treat', '937']\n",
      "['overcoming', '923']\n",
      "['overview', '807']\n",
      "['bud', '774']\n",
      "['tips', '770']\n",
      "['effects', '672']\n",
      "['voices', '582']\n",
      "['meditation', '543']\n",
      "['dissociation', '527']\n",
      "['general', '489']\n",
      "['cbt', '486']\n",
      "['boundaries', '486']\n",
      "['psychotic', '477']\n",
      "['suggest', '476']\n",
      "['delusions', '475']\n",
      "['recovery', '466']\n",
      "['posts', '466']\n",
      "['talked', '466']\n",
      "['hallucinations', '459']\n",
      "['mania', '457']\n",
      "['set', '454']\n",
      "['shame', '446']\n",
      "['article', '446']\n",
      "['food', '445']\n",
      "['rule', '442']\n",
      "['therapists', '435']\n",
      "['lose', '431']\n",
      "['movie', '431']\n",
      "['related', '426']\n",
      "['system', '423']\n",
      "['term', '417']\n",
      "['date', '412']\n",
      "['heal', '412']\n",
      "['plan', '411']\n",
      "['harm', '409']\n",
      "['behavior', '408']\n",
      "['medical', '404']\n",
      "['dose', '404']\n",
      "['intrusive', '403']\n",
      "['motivation', '392']\n",
      "['bring', '388']\n",
      "['act', '383']\n",
      "['specific', '383']\n",
      "['lack', '379']\n",
      "['erp', '377']\n",
      "['parent', '375']\n",
      "['questions', '375']\n",
      "['choice', '373']\n",
      "['suck', '372']\n",
      "['avoid', '371']\n"
     ]
    }
   ],
   "source": [
    "for pair in hub_pair[:452]:\n",
    "    for word in (set(hub_top_keywords[:452]) - set(normal_top_keywords[:452])):\n",
    "        if pair[0] == word:\n",
    "            print(pair)"
   ]
  },
  {
   "cell_type": "code",
   "execution_count": 37,
   "id": "e5fe1131",
   "metadata": {},
   "outputs": [
    {
     "name": "stdout",
     "output_type": "stream",
     "text": [
      "['boat', '744']\n",
      "['sending', '664']\n",
      "['omg', '573']\n",
      "['constantly', '558']\n",
      "['husband', '543']\n",
      "['dream', '538']\n",
      "['adhd', '527']\n",
      "['everyday', '520']\n",
      "['crying', '510']\n",
      "['play', '480']\n",
      "['finally', '471']\n",
      "['message', '468']\n",
      "['deep', '464']\n",
      "['writing', '461']\n",
      "['mate', '459']\n",
      "['girlfriend', '455']\n",
      "['stopped', '446']\n",
      "['morning', '441']\n",
      "['vent', '439']\n",
      "['internet', '434']\n",
      "['forever', '428']\n",
      "['room', '421']\n",
      "['wake', '421']\n",
      "['extremely', '413']\n",
      "['baby', '413']\n",
      "['valid', '411']\n",
      "['buddy', '400']\n",
      "['comment', '399']\n",
      "['shitty', '398']\n",
      "['ugly', '389']\n",
      "['relatable', '387']\n",
      "['fucked', '384']\n",
      "['yesterday', '383']\n",
      "['posting', '378']\n",
      "['attack', '377']\n",
      "['text', '374']\n",
      "['older', '368']\n",
      "['add', '366']\n",
      "['word', '365']\n",
      "['christmas', '363']\n",
      "['miss', '363']\n",
      "['asked', '363']\n",
      "['inside', '361']\n",
      "['funny', '361']\n",
      "['eating', '361']\n",
      "['dead', '356']\n",
      "['watching', '355']\n",
      "['died', '353']\n",
      "['wife', '352']\n",
      "['quarantine', '349']\n"
     ]
    }
   ],
   "source": [
    "for pair in normal_pair[:452]:\n",
    "    for word in (set(normal_top_keywords[:452]) - set(hub_top_keywords[:452])):\n",
    "        if pair[0] == word:\n",
    "            print(pair)"
   ]
  },
  {
   "cell_type": "markdown",
   "id": "a331caa4",
   "metadata": {},
   "source": [
    "# Sentiment Analysis using VAEDR"
   ]
  },
  {
   "cell_type": "code",
   "execution_count": null,
   "id": "7f2d5b5e",
   "metadata": {},
   "outputs": [],
   "source": []
  }
 ],
 "metadata": {
  "kernelspec": {
   "display_name": "Python 3 (ipykernel)",
   "language": "python",
   "name": "python3"
  },
  "language_info": {
   "codemirror_mode": {
    "name": "ipython",
    "version": 3
   },
   "file_extension": ".py",
   "mimetype": "text/x-python",
   "name": "python",
   "nbconvert_exporter": "python",
   "pygments_lexer": "ipython3",
   "version": "3.8.10"
  }
 },
 "nbformat": 4,
 "nbformat_minor": 5
}
