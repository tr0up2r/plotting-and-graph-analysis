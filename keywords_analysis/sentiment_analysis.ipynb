{
 "cells": [
  {
   "cell_type": "code",
   "execution_count": 1,
   "id": "dc09fc45",
   "metadata": {},
   "outputs": [],
   "source": [
    "import sys\n",
    "sys.path.append('../custom_library')"
   ]
  },
  {
   "cell_type": "code",
   "execution_count": 2,
   "id": "e03324d8",
   "metadata": {},
   "outputs": [],
   "source": [
    "import nltk\n",
    "from nltk.sentiment.vader import SentimentIntensityAnalyzer"
   ]
  },
  {
   "cell_type": "code",
   "execution_count": null,
   "id": "5e7eea44",
   "metadata": {},
   "outputs": [],
   "source": [
    "nltk.download('vader_lexicon')"
   ]
  },
  {
   "cell_type": "code",
   "execution_count": 3,
   "id": "f60af793",
   "metadata": {},
   "outputs": [
    {
     "data": {
      "text/plain": [
       "{'neg': 0.321, 'neu': 0.679, 'pos': 0.0, 'compound': -0.2235}"
      ]
     },
     "execution_count": 3,
     "metadata": {},
     "output_type": "execute_result"
    }
   ],
   "source": [
    "SentimentIntensityAnalyzer().polarity_scores(\"That's not helping at all\")"
   ]
  },
  {
   "cell_type": "code",
   "execution_count": null,
   "id": "14646c44",
   "metadata": {},
   "outputs": [],
   "source": [
    "sum_compound = 0\n",
    "for comment in docs:\n",
    "    sum_compound += SentimentIntensityAnalyzer().polarity_scores(comment)['compound']\n",
    "    # print(comment, SentimentIntensityAnalyzer().polarity_scores(comment)['compound'])\n",
    "    \n",
    "print(sum_compound / len(docs))"
   ]
  }
 ],
 "metadata": {
  "kernelspec": {
   "display_name": "Python 3 (ipykernel)",
   "language": "python",
   "name": "python3"
  },
  "language_info": {
   "codemirror_mode": {
    "name": "ipython",
    "version": 3
   },
   "file_extension": ".py",
   "mimetype": "text/x-python",
   "name": "python",
   "nbconvert_exporter": "python",
   "pygments_lexer": "ipython3",
   "version": "3.8.10"
  }
 },
 "nbformat": 4,
 "nbformat_minor": 5
}
