{
 "cells": [
  {
   "cell_type": "code",
   "execution_count": 2,
   "id": "e5b106b7",
   "metadata": {},
   "outputs": [],
   "source": [
    "import igraph\n",
    "import pandas as pd\n",
    "from igraph import *"
   ]
  },
  {
   "cell_type": "code",
   "execution_count": 3,
   "id": "8bfaa16e",
   "metadata": {},
   "outputs": [
    {
     "name": "stdout",
     "output_type": "stream",
     "text": [
      "0.9.6\n"
     ]
    }
   ],
   "source": [
    "print(igraph.__version__)"
   ]
  },
  {
   "cell_type": "code",
   "execution_count": 4,
   "id": "f28e81c5",
   "metadata": {},
   "outputs": [],
   "source": [
    "data = pd.read_csv('mentor_mentee_relationship.csv')"
   ]
  },
  {
   "cell_type": "code",
   "execution_count": 5,
   "id": "c0fc18ac",
   "metadata": {},
   "outputs": [
    {
     "data": {
      "text/html": [
       "<div>\n",
       "<style scoped>\n",
       "    .dataframe tbody tr th:only-of-type {\n",
       "        vertical-align: middle;\n",
       "    }\n",
       "\n",
       "    .dataframe tbody tr th {\n",
       "        vertical-align: top;\n",
       "    }\n",
       "\n",
       "    .dataframe thead th {\n",
       "        text-align: right;\n",
       "    }\n",
       "</style>\n",
       "<table border=\"1\" class=\"dataframe\">\n",
       "  <thead>\n",
       "    <tr style=\"text-align: right;\">\n",
       "      <th></th>\n",
       "      <th>mentor</th>\n",
       "      <th>mentee</th>\n",
       "      <th>average_is_score</th>\n",
       "      <th>sum_is_score</th>\n",
       "      <th>average_es_score</th>\n",
       "      <th>sum_es_score</th>\n",
       "      <th>comment_cnt</th>\n",
       "    </tr>\n",
       "  </thead>\n",
       "  <tbody>\n",
       "    <tr>\n",
       "      <th>0</th>\n",
       "      <td>_________________UWU</td>\n",
       "      <td>asdfgnjklll</td>\n",
       "      <td>2.0</td>\n",
       "      <td>2</td>\n",
       "      <td>2.0</td>\n",
       "      <td>2</td>\n",
       "      <td>1</td>\n",
       "    </tr>\n",
       "    <tr>\n",
       "      <th>1</th>\n",
       "      <td>______________Blank</td>\n",
       "      <td>hopelessromantic_99</td>\n",
       "      <td>2.0</td>\n",
       "      <td>4</td>\n",
       "      <td>1.5</td>\n",
       "      <td>3</td>\n",
       "      <td>2</td>\n",
       "    </tr>\n",
       "    <tr>\n",
       "      <th>2</th>\n",
       "      <td>_________-----------</td>\n",
       "      <td>Marco_the_Vegan</td>\n",
       "      <td>2.0</td>\n",
       "      <td>8</td>\n",
       "      <td>1.0</td>\n",
       "      <td>4</td>\n",
       "      <td>4</td>\n",
       "    </tr>\n",
       "    <tr>\n",
       "      <th>3</th>\n",
       "      <td>_________ez_________</td>\n",
       "      <td>crapenvelope</td>\n",
       "      <td>1.0</td>\n",
       "      <td>1</td>\n",
       "      <td>2.0</td>\n",
       "      <td>2</td>\n",
       "      <td>1</td>\n",
       "    </tr>\n",
       "    <tr>\n",
       "      <th>4</th>\n",
       "      <td>_______Anon______</td>\n",
       "      <td>ickisthemeatfairy</td>\n",
       "      <td>1.0</td>\n",
       "      <td>1</td>\n",
       "      <td>2.0</td>\n",
       "      <td>2</td>\n",
       "      <td>1</td>\n",
       "    </tr>\n",
       "    <tr>\n",
       "      <th>...</th>\n",
       "      <td>...</td>\n",
       "      <td>...</td>\n",
       "      <td>...</td>\n",
       "      <td>...</td>\n",
       "      <td>...</td>\n",
       "      <td>...</td>\n",
       "      <td>...</td>\n",
       "    </tr>\n",
       "    <tr>\n",
       "      <th>2250392</th>\n",
       "      <td>zzzzzsleepyzzzzz</td>\n",
       "      <td>HalfNothing</td>\n",
       "      <td>1.0</td>\n",
       "      <td>1</td>\n",
       "      <td>2.0</td>\n",
       "      <td>2</td>\n",
       "      <td>1</td>\n",
       "    </tr>\n",
       "    <tr>\n",
       "      <th>2250393</th>\n",
       "      <td>zzzzzsleepyzzzzz</td>\n",
       "      <td>Swoonikit</td>\n",
       "      <td>1.5</td>\n",
       "      <td>3</td>\n",
       "      <td>2.0</td>\n",
       "      <td>4</td>\n",
       "      <td>2</td>\n",
       "    </tr>\n",
       "    <tr>\n",
       "      <th>2250394</th>\n",
       "      <td>zzzzzzz____</td>\n",
       "      <td>frickfrick123</td>\n",
       "      <td>1.0</td>\n",
       "      <td>1</td>\n",
       "      <td>2.0</td>\n",
       "      <td>2</td>\n",
       "      <td>1</td>\n",
       "    </tr>\n",
       "    <tr>\n",
       "      <th>2250395</th>\n",
       "      <td>zzzzzzz____</td>\n",
       "      <td>gr33nberry</td>\n",
       "      <td>1.0</td>\n",
       "      <td>1</td>\n",
       "      <td>2.0</td>\n",
       "      <td>2</td>\n",
       "      <td>1</td>\n",
       "    </tr>\n",
       "    <tr>\n",
       "      <th>2250396</th>\n",
       "      <td>zzzzzzzzzz-</td>\n",
       "      <td>No_Physics3697</td>\n",
       "      <td>1.0</td>\n",
       "      <td>1</td>\n",
       "      <td>2.0</td>\n",
       "      <td>2</td>\n",
       "      <td>1</td>\n",
       "    </tr>\n",
       "  </tbody>\n",
       "</table>\n",
       "<p>2250397 rows × 7 columns</p>\n",
       "</div>"
      ],
      "text/plain": [
       "                       mentor               mentee  average_is_score  \\\n",
       "0        _________________UWU          asdfgnjklll               2.0   \n",
       "1         ______________Blank  hopelessromantic_99               2.0   \n",
       "2        _________-----------      Marco_the_Vegan               2.0   \n",
       "3        _________ez_________         crapenvelope               1.0   \n",
       "4           _______Anon______    ickisthemeatfairy               1.0   \n",
       "...                       ...                  ...               ...   \n",
       "2250392      zzzzzsleepyzzzzz          HalfNothing               1.0   \n",
       "2250393      zzzzzsleepyzzzzz            Swoonikit               1.5   \n",
       "2250394           zzzzzzz____        frickfrick123               1.0   \n",
       "2250395           zzzzzzz____           gr33nberry               1.0   \n",
       "2250396           zzzzzzzzzz-       No_Physics3697               1.0   \n",
       "\n",
       "         sum_is_score  average_es_score  sum_es_score  comment_cnt  \n",
       "0                   2               2.0             2            1  \n",
       "1                   4               1.5             3            2  \n",
       "2                   8               1.0             4            4  \n",
       "3                   1               2.0             2            1  \n",
       "4                   1               2.0             2            1  \n",
       "...               ...               ...           ...          ...  \n",
       "2250392             1               2.0             2            1  \n",
       "2250393             3               2.0             4            2  \n",
       "2250394             1               2.0             2            1  \n",
       "2250395             1               2.0             2            1  \n",
       "2250396             1               2.0             2            1  \n",
       "\n",
       "[2250397 rows x 7 columns]"
      ]
     },
     "execution_count": 5,
     "metadata": {},
     "output_type": "execute_result"
    }
   ],
   "source": [
    "data"
   ]
  },
  {
   "cell_type": "code",
   "execution_count": 6,
   "id": "e780724f",
   "metadata": {},
   "outputs": [],
   "source": [
    "# 그래프 생성\n",
    "tuples = [tuple(x) for x in data.values]\n",
    "g1 = igraph.Graph.TupleList(tuples, directed=True, edge_attrs=['average_is_score'])\n",
    "g2 = igraph.Graph.TupleList(tuples, directed=True, edge_attrs=['sum_is_score'])\n",
    "g3 = igraph.Graph.TupleList(tuples, directed=True, edge_attrs=['average_es_score'])\n",
    "g4 = igraph.Graph.TupleList(tuples, directed=True, edge_attrs=['sum_es_score'])"
   ]
  },
  {
   "cell_type": "code",
   "execution_count": 7,
   "id": "4a3fb630",
   "metadata": {},
   "outputs": [
    {
     "name": "stdout",
     "output_type": "stream",
     "text": [
      "Number of vertices in the graph: 736723\n",
      "Number of edges in the graph 2250397\n",
      "Is the graph directed: True\n",
      "Maximum degree in the graph: 7823\n",
      "\n",
      "Number of vertices in the graph: 736723\n",
      "Number of edges in the graph 2250397\n",
      "Is the graph directed: True\n",
      "Maximum degree in the graph: 7823\n"
     ]
    }
   ],
   "source": [
    "# graph 1\n",
    "print(\"Number of vertices in the graph:\", g1.vcount())\n",
    "print(\"Number of edges in the graph\", g1.ecount())\n",
    "print(\"Is the graph directed:\", g1.is_directed())\n",
    "print(\"Maximum degree in the graph:\", g1.maxdegree())\n",
    "print()\n",
    "\n",
    "# graph 2 (== graph 1)\n",
    "print(\"Number of vertices in the graph:\", g2.vcount())\n",
    "print(\"Number of edges in the graph\", g2.ecount())\n",
    "print(\"Is the graph directed:\", g2.is_directed())\n",
    "print(\"Maximum degree in the graph:\", g2.maxdegree())"
   ]
  },
  {
   "cell_type": "code",
   "execution_count": 5,
   "id": "9664d001",
   "metadata": {},
   "outputs": [
    {
     "data": {
      "text/plain": [
       "'\\nfor i in range(g1.vcount()):\\n    print(f\\'{i} = {g1.vs[i][\"name\"]}\\')\\n    for j in g1.neighbors(i, mode=ALL):\\n        print(g1.vs[j][\"name\"], end=\\' \\')\\n    print()\\n'"
      ]
     },
     "execution_count": 5,
     "metadata": {},
     "output_type": "execute_result"
    }
   ],
   "source": [
    "'''\n",
    "for i in range(g1.vcount()):\n",
    "    print(f'{i} = {g1.vs[i][\"name\"]}')\n",
    "    for j in g1.neighbors(i, mode=ALL):\n",
    "        print(g1.vs[j][\"name\"], end=' ')\n",
    "    print()\n",
    "'''"
   ]
  },
  {
   "cell_type": "code",
   "execution_count": 15,
   "id": "0b06d754",
   "metadata": {},
   "outputs": [
    {
     "data": {
      "text/plain": [
       "'\\nfor i in range(g1.vcount()):\\n    print(len(g1.neighbors(i, mode=ALL)))\\n'"
      ]
     },
     "execution_count": 15,
     "metadata": {},
     "output_type": "execute_result"
    }
   ],
   "source": [
    "'''\n",
    "for i in range(g1.vcount()):\n",
    "    print(len(g1.neighbors(i, mode=ALL)))\n",
    "'''"
   ]
  },
  {
   "cell_type": "code",
   "execution_count": 8,
   "id": "1b5d80c6",
   "metadata": {},
   "outputs": [
    {
     "name": "stdout",
     "output_type": "stream",
     "text": [
      "659053\n",
      "g1 : 659053\n",
      "g2 : 659053\n",
      "g3 : 659053\n",
      "g4 : 659053\n"
     ]
    },
    {
     "data": {
      "text/plain": [
       "'\\nfor i in range(g1.vcount()):\\n    c = components1.membership[i]\\n    print(c)\\n\\n    s = components1.size(c)\\n    print(s)\\n    print()\\n'"
      ]
     },
     "execution_count": 8,
     "metadata": {},
     "output_type": "execute_result"
    }
   ],
   "source": [
    "components1 = g1.clusters()\n",
    "print(len(components1))\n",
    "\n",
    "# same clusters num.\n",
    "print(f'g1 : {len(g1.clusters())}')\n",
    "print(f'g2 : {len(g2.clusters())}')\n",
    "print(f'g3 : {len(g3.clusters())}')\n",
    "print(f'g4 : {len(g4.clusters())}')\n",
    "\n",
    "'''\n",
    "for i in range(g1.vcount()):\n",
    "    c = components1.membership[i]\n",
    "    print(c)\n",
    "\n",
    "    s = components1.size(c)\n",
    "    print(s)\n",
    "    print()\n",
    "'''"
   ]
  },
  {
   "cell_type": "code",
   "execution_count": 9,
   "id": "557df41f",
   "metadata": {},
   "outputs": [
    {
     "data": {
      "text/plain": [
       "'_________________UWU'"
      ]
     },
     "execution_count": 9,
     "metadata": {},
     "output_type": "execute_result"
    }
   ],
   "source": [
    "g1.vs[0][\"name\"]"
   ]
  }
 ],
 "metadata": {
  "kernelspec": {
   "display_name": "Python 3 (ipykernel)",
   "language": "python",
   "name": "python3"
  },
  "language_info": {
   "codemirror_mode": {
    "name": "ipython",
    "version": 3
   },
   "file_extension": ".py",
   "mimetype": "text/x-python",
   "name": "python",
   "nbconvert_exporter": "python",
   "pygments_lexer": "ipython3",
   "version": "3.8.10"
  }
 },
 "nbformat": 4,
 "nbformat_minor": 5
}
