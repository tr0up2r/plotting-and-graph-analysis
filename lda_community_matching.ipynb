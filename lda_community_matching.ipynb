{
 "cells": [
  {
   "cell_type": "code",
   "execution_count": 9,
   "id": "bd7ed826",
   "metadata": {},
   "outputs": [],
   "source": [
    "import re\n",
    "import spacy\n",
    "from nltk.corpus import stopwords \n",
    "from nltk.stem.wordnet import WordNetLemmatizer\n",
    "import string\n",
    "from sklearn.feature_extraction.text import TfidfVectorizer, CountVectorizer\n",
    "import numpy as np\n",
    "from sklearn.decomposition import LatentDirichletAllocation\n",
    "import pandas as pd\n",
    "import sys  \n",
    "import connect_to_db as cn\n",
    "from gensim import corpora\n",
    "import gensim\n",
    "import csv\n",
    "\n",
    "# save model\n",
    "from gensim.test.utils import datapath"
   ]
  },
  {
   "cell_type": "code",
   "execution_count": 2,
   "id": "ce8ad620",
   "metadata": {},
   "outputs": [],
   "source": [
    "# to suppress warnings\n",
    "from warnings import filterwarnings\n",
    "filterwarnings('ignore')"
   ]
  },
  {
   "cell_type": "code",
   "execution_count": 3,
   "id": "1513fb22",
   "metadata": {},
   "outputs": [],
   "source": [
    "nlp = spacy.load('en_core_web_sm')\n",
    "\n",
    "# stop loss words \n",
    "stop = set(stopwords.words('english'))\n",
    "\n",
    "# punctuation, 구두점 제거.\n",
    "exclude = set(string.punctuation) \n",
    "\n",
    "# lemmatization, 표제어 추출. (am, are, is -> be, ed, s 등 제거.)\n",
    "lemma = WordNetLemmatizer() \n",
    "\n",
    "# One function for all the steps:\n",
    "def clean(doc):\n",
    "    \n",
    "    # convert text into lower case + split into words\n",
    "    stop_free = \" \".join([i for i in doc.lower().split() if i not in stop])\n",
    "    \n",
    "    # remove any stop words present\n",
    "    punc_free = ''.join(ch for ch in stop_free if ch not in exclude)  \n",
    "    \n",
    "    # remove punctuations + normalize the text\n",
    "    normalized = \" \".join(lemma.lemmatize(word) for word in punc_free.split())  \n",
    "    return normalized"
   ]
  },
  {
   "cell_type": "code",
   "execution_count": 24,
   "id": "ea3749b6",
   "metadata": {},
   "outputs": [
    {
     "name": "stdout",
     "output_type": "stream",
     "text": [
      "[1, 2, 7, 3, 6, 12, 20, 17, 30, 43, 42, 21, 68, 1039, 45, 114, 450, 163, 384, 922, 489, 869, 755, 544, 1522, 2051, 827, 340, 951, 338, 23, 36, 1186, 1006, 26, 880, 980, 423, 396, 105, 2919, 108, 4, 224, 763, 685, 326, 104, 34, 258, 168, 0, 1679, 1240, 281, 836, 787, 254, 14, 86, 531, 2179, 1615, 1630, 1089, 51, 964, 297, 798, 1712, 271, 1242, 1129, 76, 1343, 1865, 140, 3381, 2010, 313, 493, 300, 3499, 744, 825, 3769, 1244, 727, 1502, 2262, 900, 604, 746, 217, 1623, 446, 1762, 3700, 1564, 2892, 991, 321, 2050, 736, 1948]\n",
      "[191366, 154802, 111081, 99825, 13826, 8658, 1534, 1461, 1206, 1133, 1050, 732, 194, 141, 140, 137, 126, 118, 105, 101, 91, 88, 74, 74, 70, 62, 61, 61, 60, 58, 56, 55, 55, 54, 54, 54, 54, 54, 53, 52, 49, 49, 49, 48, 48, 47, 47, 46, 46, 45, 43, 42, 42, 41, 41, 40, 40, 40, 39, 39, 38, 38, 37, 37, 36, 36, 36, 35, 35, 35, 35, 35, 34, 34, 34, 33, 33, 33, 33, 32, 32, 32, 32, 32, 32, 31, 31, 31, 31, 31, 30, 30, 29, 29, 29, 29, 28, 28, 28, 27, 27, 26, 26, 26, 26]\n"
     ]
    }
   ],
   "source": [
    "sql = \"select community_id_fastgreedy_is, count(*) from nodes_until_november group by community_id_fastgreedy_is order by count(*) desc limit 105;\"\n",
    "result_df = cn.select_query_result_to_df(sql)\n",
    "communities = list(np.array(result_df['community_id_fastgreedy_is'].values.tolist()))\n",
    "counts = list(np.array(result_df['count(*)'].values.tolist()))\n",
    "\n",
    "print(communities)\n",
    "print(counts)"
   ]
  },
  {
   "cell_type": "code",
   "execution_count": 159,
   "id": "e67937c8",
   "metadata": {},
   "outputs": [],
   "source": [
    "def save_topic_words_csv(table_name, community, count):\n",
    "    sql = f'select node_id from {table_name} where community_id_fastgreedy_is = {community}'\n",
    "    result_df = cn.select_query_result_to_df(sql)\n",
    "    authors = np.array(result_df['node_id'].astype(str).values.tolist())\n",
    "\n",
    "    length = len(authors)\n",
    "\n",
    "    doc = []\n",
    "\n",
    "    for i in range(length):\n",
    "        sql2 = f\"select distinct p.post_key, p.title from posts p, comments c where p.post_key = c.link_key and c.author = '{authors[i]}' and c.link_key = c.parent_key and p.is_valid_author=1 and MONTH(p.created_utc) <> 12;\";\n",
    "        result_df2 = cn.select_query_result_to_df(sql2)\n",
    "        if not result_df2.empty:\n",
    "            titles = np.array(result_df2['title'].astype(str).values.tolist())\n",
    "            doc.extend(titles)\n",
    "        \n",
    "    corpus = doc\n",
    "        \n",
    "    # clean data stored in a new list\n",
    "    clean_corpus = [clean(doc).split() for doc in corpus]\n",
    "    dictionary = corpora.Dictionary(clean_corpus)\n",
    "    corpus = [dictionary.doc2bow(text) for text in clean_corpus]\n",
    "        \n",
    "    if count >= 10000:\n",
    "        num_topics = 10\n",
    "    elif count >= 1000:\n",
    "        num_topics = 5\n",
    "    elif count >= 100:\n",
    "        num_topics = 4\n",
    "    else:\n",
    "        num_topics = 3\n",
    "\n",
    "    ldamodel = gensim.models.LdaMulticore(corpus, id2word=dictionary, num_topics=num_topics, passes=10)\n",
    "    x=ldamodel.show_topics(num_topics=num_topics, num_words=50,formatted=False)\n",
    "    topics_words = [[wd[0] for wd in tp[1]] for tp in x]\n",
    "    \n",
    "    df = pd.DataFrame(topics_words)\n",
    "    df.to_csv(\"lda_test2.csv\", header=None, index=None)"
   ]
  },
  {
   "cell_type": "code",
   "execution_count": 161,
   "id": "b5500c79",
   "metadata": {},
   "outputs": [],
   "source": [
    "save_topic_words_csv('nodes_until_november', 736, 10)"
   ]
  },
  {
   "cell_type": "code",
   "execution_count": 162,
   "id": "62bd7212",
   "metadata": {},
   "outputs": [],
   "source": [
    "with open('lda_test2.csv', newline='') as f:\n",
    "    reader = csv.reader(f)\n",
    "    data = list(reader)"
   ]
  },
  {
   "cell_type": "code",
   "execution_count": 164,
   "id": "b7676f4c",
   "metadata": {},
   "outputs": [
    {
     "name": "stdout",
     "output_type": "stream",
     "text": [
      "[['like', 'feel', 'suicidal', 'mother', 'tell', 'birthday', 'exist', 'others', 'day', 'im', 'chat', 'kinda', 'feeling', 'anyone', 'interested', 'shit', 'put', 'brain', 'able', 'coward', 'bullet', 'selfloathing', 'anything', 'wanting', 'reason', 'impossible', 'think', 'watching', 'make', 'gore', 'obsession', 'wild', 'job', 'hunting', 'member', 'advice', 'family', 'hard', 'terrified', 'sad', 'handle', 'completely', 'edge', 'trazodone', 'growing', 'insomnia', 'matter', 'need', 'nothing', 'klonopin'], ['like', 'animal', 'found', 'work', 'kill', 'parent', 'want', 'people', 'life', 'get', 'stuffed', 'emotional', 'cant', 'support', 'one', 'dead', 'woke', 'morning', 'mom', 'look', 'happiness', 'slip', 'facade', 'someoneâ€™s', 'almost', 'encouraging', 'nobody', 'dark', 'tothings', 'way', 'crush', 'cute', 'memory', 'could', 'start', 'issue', 'list', 'long', 'driving', 'crazy', 'living', 'over', 'keep', 'canâ€™t', 'left', '16', 'let', 'wish', 'klonopin', 'day'], ['talk', 'need', 'kill', 'future', 'probably', 'everyone', 'stab', 'stitch', 'bully', 'time', 'body', 'place', 'bruise', '4', 'suicide', 'attempted', 'mark', 'it', 'help', 'give', 'may', 'friend', 'life', 'want', 'day', 'survive', 'bitch', 'never', 'up', 'last', 'face', 'spite', 'going', 'myself', 'ill', 'post', 'le', 'know', 'depression', 'empathetic', 'husband', 'coworkers', 'told', 'believe', 'lucky', 'concerned', 'someone', 'toxic', 'deal', 'donâ€™t']]\n"
     ]
    }
   ],
   "source": [
    "print(data)"
   ]
  },
  {
   "cell_type": "code",
   "execution_count": 168,
   "id": "59e77f2c",
   "metadata": {},
   "outputs": [
    {
     "name": "stdout",
     "output_type": "stream",
     "text": [
      "0.1414213562373095\n",
      "0.0\n",
      "0.1414213562373095\n"
     ]
    }
   ],
   "source": [
    "sentence = \"shit brain talk lucky\"\n",
    "clean_corpus = clean(sentence).split()\n",
    "\n",
    "most_related_community = 0\n",
    "largest_cosine_similarity = 0\n",
    "        \n",
    "for topic in data:\n",
    "    count = 0\n",
    "    for word in clean_corpus:\n",
    "        if word in topic:\n",
    "            count += 1\n",
    "    print(count / ((len(topic) ** 0.5) * (len(clean_corpus) ** 0.5)))"
   ]
  }
 ],
 "metadata": {
  "kernelspec": {
   "display_name": "Python 3 (ipykernel)",
   "language": "python",
   "name": "python3"
  },
  "language_info": {
   "codemirror_mode": {
    "name": "ipython",
    "version": 3
   },
   "file_extension": ".py",
   "mimetype": "text/x-python",
   "name": "python",
   "nbconvert_exporter": "python",
   "pygments_lexer": "ipython3",
   "version": "3.8.10"
  }
 },
 "nbformat": 4,
 "nbformat_minor": 5
}
